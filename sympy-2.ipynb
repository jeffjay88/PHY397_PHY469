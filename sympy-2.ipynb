{
 "cells": [
  {
   "cell_type": "markdown",
   "id": "828c8ce6",
   "metadata": {},
   "source": [
    "***\n",
    "<h3>NUMERIC DIFFERENTIATION <h3/>\n",
    "Differentiation with Symbolic Python \n",
    "\n",
    "***\n",
    "    \n",
    "#### OBJECTIVES ####\n",
    "At the end of this unit,\n",
    "1. students should be able to:  \n",
    "    * Write simple mathematical expressions using symbolic manipulation in Python\n",
    "\n",
    "    * evaluate mathematical expressions (substitution, factorisation and expansion methods) using symbolic manipulation in Python\n",
    "\n",
    "    * evaluate the derivatives and integrals of mathematical expressions or functions using symbolic manipulation in Python\n",
    "    * find the roots of an equation and solve simultaneous equations using symbolic manipulation in Python\n",
    "    \n",
    "\n",
    "2. students should also be able to write Python codes to solve numeric differentials using:\n",
    "    \n",
    "    * the Forward Difference method\n",
    "\n",
    "    * the Backward Difference method  \n",
    "\n",
    "    * the Central Diffference approximation\n",
    "***\n",
    "\n",
    "\n"
   ]
  },
  {
   "cell_type": "markdown",
   "id": "9727db8e",
   "metadata": {},
   "source": [
    "**Introduction to Symbolic Python**\n",
    "\n",
    "First Let's import the library needed for using symbolic math in python and also, set up the notebook for printing"
   ]
  },
  {
   "cell_type": "code",
   "execution_count": 3,
   "id": "6d0fdf3e",
   "metadata": {},
   "outputs": [],
   "source": [
    "import sympy as smp\n",
    "\n",
    "smp.init_printing()"
   ]
  },
  {
   "cell_type": "markdown",
   "id": "f8365423",
   "metadata": {},
   "source": [
    "We will then set variables x,y,z as symbols:"
   ]
  },
  {
   "cell_type": "markdown",
   "id": "b73e852b",
   "metadata": {},
   "source": [
    "$$2x^2 + 3x + 5 $$"
   ]
  },
  {
   "cell_type": "code",
   "execution_count": 13,
   "id": "def01f65",
   "metadata": {},
   "outputs": [
    {
     "data": {
      "image/png": "[encoded data removed]",
      "text/latex": [
       "$\\displaystyle 2 x^{2} + 3 x - 5$"
      ],
      "text/plain": [
       "   2          \n",
       "2⋅x  + 3⋅x - 5"
      ]
     },
     "execution_count": 13,
     "metadata": {},
     "output_type": "execute_result"
    }
   ],
   "source": [
    "x = smp.Symbol('x')\n",
    "\n",
    "y = 2*x**2 + 3*x - 5\n",
    "a = y.factor()\n",
    "a.expand()"
   ]
  },
  {
   "cell_type": "code",
   "execution_count": 14,
   "id": "3ffd8263",
   "metadata": {},
   "outputs": [
    {
     "data": {
      "image/png": "[encoded data removed]",
      "text/latex": [
       "$\\displaystyle \\left( x, \\  y, \\  z\\right)$"
      ],
      "text/plain": [
       "(x, y, z)"
      ]
     },
     "execution_count": 14,
     "metadata": {},
     "output_type": "execute_result"
    }
   ],
   "source": [
    "x,y,z = smp.symbols('x,y,z')\n",
    "x,y,z"
   ]
  },
  {
   "cell_type": "code",
   "execution_count": 23,
   "id": "b801fb58",
   "metadata": {},
   "outputs": [
    {
     "data": {
      "image/png": "[encoded data removed]",
      "text/latex": [
       "$\\displaystyle y^{20} + 2 y^{10} - 5$"
      ],
      "text/plain": [
       " 20      10    \n",
       "y   + 2⋅y   - 5"
      ]
     },
     "execution_count": 23,
     "metadata": {},
     "output_type": "execute_result"
    }
   ],
   "source": [
    "expression = x**2 + 2*x - 5\n",
    "expression.subs(x,'y**10')"
   ]
  },
  {
   "cell_type": "code",
   "execution_count": null,
   "id": "00c84685",
   "metadata": {},
   "outputs": [],
   "source": []
  },
  {
   "cell_type": "code",
   "execution_count": null,
   "id": "2816ed84",
   "metadata": {},
   "outputs": [],
   "source": []
  },
  {
   "cell_type": "code",
   "execution_count": 8,
   "id": "34afdfa7",
   "metadata": {},
   "outputs": [
    {
     "data": {
      "text/latex": [
       "$\\displaystyle y^{4} + 2 y^{2} - 5$"
      ],
      "text/plain": [
       "y**4 + 2*y**2 - 5"
      ]
     },
     "execution_count": 8,
     "metadata": {},
     "output_type": "execute_result"
    }
   ],
   "source": [
    "import sympy as smp\n",
    "x = smp.symbols('x')\n",
    "\n",
    "y = x**2 + 2*x - 5\n",
    "\n",
    "y.subs(x, 'y**2')\n"
   ]
  },
  {
   "cell_type": "code",
   "execution_count": null,
   "id": "82198447",
   "metadata": {},
   "outputs": [],
   "source": []
  },
  {
   "cell_type": "code",
   "execution_count": null,
   "id": "39df1fa1",
   "metadata": {},
   "outputs": [],
   "source": []
  },
  {
   "cell_type": "markdown",
   "id": "0e6db3f5",
   "metadata": {},
   "source": [
    "`Question 1: set an expression for the following:`\n",
    "$$\n",
    "x^2 + 2x -5\n",
    "$$\n",
    "\n",
    "Evaluate the expression for $x=1.5$. Also, make a variable substitution: $z$ for $x$. Do a variable substitution $y^2$ for $x$"
   ]
  },
  {
   "cell_type": "code",
   "execution_count": 3,
   "id": "b0d0b82c",
   "metadata": {},
   "outputs": [
    {
     "data": {
      "image/png": "[encoded data removed]",
      "text/latex": [
       "$\\displaystyle 0.25$"
      ],
      "text/plain": [
       "0.250000000000000"
      ]
     },
     "execution_count": 3,
     "metadata": {},
     "output_type": "execute_result"
    }
   ],
   "source": [
    "#Here's the solution for x = 1.5\n",
    "\n",
    "expression = x**2 + 2*x - 5\n",
    "\n",
    "eva1 = expression.subs(x, 1.5)     \n",
    "eva1"
   ]
  },
  {
   "cell_type": "code",
   "execution_count": 4,
   "id": "99be2ae4",
   "metadata": {},
   "outputs": [
    {
     "data": {
      "image/png": "[encoded data removed]",
      "text/latex": [
       "$\\displaystyle z^{2} + 2 z - 5$"
      ],
      "text/plain": [
       " 2          \n",
       "z  + 2⋅z - 5"
      ]
     },
     "execution_count": 4,
     "metadata": {},
     "output_type": "execute_result"
    }
   ],
   "source": [
    "#Here's the solution for x = z\n",
    "eva2 = expression.subs(x, z) \n",
    "eva2\n"
   ]
  },
  {
   "cell_type": "code",
   "execution_count": 5,
   "id": "a68add5b",
   "metadata": {},
   "outputs": [
    {
     "data": {
      "image/png": "[encoded data removed]",
      "text/latex": [
       "$\\displaystyle y^{4} + 2 y^{2} - 5$"
      ],
      "text/plain": [
       " 4      2    \n",
       "y  + 2⋅y  - 5"
      ]
     },
     "execution_count": 5,
     "metadata": {},
     "output_type": "execute_result"
    }
   ],
   "source": [
    "#Here's the solution for x = y**2\n",
    "eva3 = expression.subs(x, y**2)\n",
    "eva3"
   ]
  },
  {
   "cell_type": "markdown",
   "id": "52430862",
   "metadata": {},
   "source": [
    "`Question 2: Expand the following expression symbolically:`\n",
    "$$\n",
    "(x+1)^3(x-2)^2\n",
    "$$"
   ]
  },
  {
   "cell_type": "code",
   "execution_count": 6,
   "id": "32daf988",
   "metadata": {
    "scrolled": true
   },
   "outputs": [
    {
     "data": {
      "image/png": "[encoded data removed]",
      "text/latex": [
       "$\\displaystyle x^{5} - x^{4} - 5 x^{3} + x^{2} + 8 x + 4$"
      ],
      "text/plain": [
       " 5    4      3    2          \n",
       "x  - x  - 5⋅x  + x  + 8⋅x + 4"
      ]
     },
     "execution_count": 6,
     "metadata": {},
     "output_type": "execute_result"
    }
   ],
   "source": [
    "#Here's the solution\n",
    "exp = (x+1)**3 * (x-2)**2\n",
    "\n",
    "sp.expand(exp)"
   ]
  },
  {
   "cell_type": "markdown",
   "id": "04f013ca",
   "metadata": {},
   "source": [
    "`Question 3: Factorize the following expression:`\n",
    "$$\n",
    "3x^4 - 36x^3 + 99x^2 - 6x -144\n",
    "$$"
   ]
  },
  {
   "cell_type": "code",
   "execution_count": 7,
   "id": "2f4c4784",
   "metadata": {},
   "outputs": [
    {
     "data": {
      "image/png": "[encoded data removed]",
      "text/latex": [
       "$\\displaystyle 3 \\left(x - 8\\right) \\left(x - 3\\right) \\left(x - 2\\right) \\left(x + 1\\right)$"
      ],
      "text/plain": [
       "3⋅(x - 8)⋅(x - 3)⋅(x - 2)⋅(x + 1)"
      ]
     },
     "execution_count": 7,
     "metadata": {},
     "output_type": "execute_result"
    }
   ],
   "source": [
    "#Here's the solution\n",
    "exp = 3*x**4 - 36*x**3 + 99*x**2 - 6*x - 144\n",
    "sp.factor(exp)"
   ]
  },
  {
   "cell_type": "code",
   "execution_count": null,
   "id": "f7d130c0",
   "metadata": {},
   "outputs": [],
   "source": []
  },
  {
   "cell_type": "code",
   "execution_count": 26,
   "id": "d097f6e3",
   "metadata": {},
   "outputs": [
    {
     "name": "stdout",
     "output_type": "stream",
     "text": [
      "(x**2*y**2 + 3*x*y + 1)*exp(x*y) \n",
      " x*y**2*exp(x*y) + y*exp(x*y) \n",
      " x**2*y*exp(x*y) + x*exp(x*y)\n"
     ]
    }
   ],
   "source": [
    "x,y = smp.symbols(('x','y'))\n",
    "f = x*y*smp.exp(x*y)\n",
    "print(f.diff(x,y),'\\n', f.diff(x),'\\n', f.diff(y))"
   ]
  },
  {
   "cell_type": "code",
   "execution_count": null,
   "id": "f3929be7",
   "metadata": {},
   "outputs": [],
   "source": []
  },
  {
   "cell_type": "code",
   "execution_count": null,
   "id": "db20424a",
   "metadata": {},
   "outputs": [],
   "source": []
  },
  {
   "cell_type": "code",
   "execution_count": null,
   "id": "fb86e5d0",
   "metadata": {},
   "outputs": [],
   "source": []
  },
  {
   "cell_type": "markdown",
   "id": "01294367",
   "metadata": {},
   "source": [
    "`Question 4: Compute the symbolic derivative:`\n",
    "$$\n",
    "\\frac {d} {dx} sin^2(x)e^{2x}\n",
    "$$\n",
    "\n",
    "`Then evaluate the resulting expression for` $x = 3.3$"
   ]
  },
  {
   "cell_type": "code",
   "execution_count": 18,
   "id": "82650964",
   "metadata": {},
   "outputs": [
    {
     "data": {
      "text/latex": [
       "$\\displaystyle 265.596339800896$"
      ],
      "text/plain": [
       "265.596339800896"
      ]
     },
     "execution_count": 18,
     "metadata": {},
     "output_type": "execute_result"
    }
   ],
   "source": [
    "y = (smp.sin(x)**2) * (smp.exp(2*x))\n",
    "y.diff().subs(x, 3.3)"
   ]
  },
  {
   "cell_type": "code",
   "execution_count": null,
   "id": "5b8847eb",
   "metadata": {},
   "outputs": [],
   "source": []
  },
  {
   "cell_type": "code",
   "execution_count": 50,
   "id": "1483e54e",
   "metadata": {},
   "outputs": [
    {
     "data": {
      "image/png": "[encoded data removed]",
      "text/latex": [
       "$\\displaystyle 2 e^{2 x} \\sin^{2}{\\left(x \\right)} + 2 e^{2 x} \\sin{\\left(x \\right)} \\cos{\\left(x \\right)}$"
      ],
      "text/plain": [
       "   2⋅x    2         2⋅x              \n",
       "2⋅ℯ   ⋅sin (x) + 2⋅ℯ   ⋅sin(x)⋅cos(x)"
      ]
     },
     "execution_count": 50,
     "metadata": {},
     "output_type": "execute_result"
    }
   ],
   "source": [
    "#First let's assign the expression to y\n",
    "y = (sp.sin(x))**2 * sp.exp(2*x)\n",
    "\n",
    "#Perform the derivative of the expression y w.r.t x\n",
    "der = sp.diff(y,x)\n",
    "der"
   ]
  },
  {
   "cell_type": "code",
   "execution_count": 53,
   "id": "afc24176",
   "metadata": {},
   "outputs": [
    {
     "data": {
      "image/png": "[encoded data removed]",
      "text/latex": [
       "$\\displaystyle 265.596339800896$"
      ],
      "text/plain": [
       "265.596339800896"
      ]
     },
     "execution_count": 53,
     "metadata": {},
     "output_type": "execute_result"
    }
   ],
   "source": [
    "der.subs(x,3.3)"
   ]
  },
  {
   "cell_type": "markdown",
   "id": "3134b89c",
   "metadata": {},
   "source": [
    "`Question 5: Create a sympy expression representing the following integral:`\n",
    "$$\n",
    "\\int_{0}^{5} x^2sin(x^2)dx\n",
    "$$\n",
    "\n",
    "`Then evaluate the integral symbolically`"
   ]
  },
  {
   "cell_type": "code",
   "execution_count": 8,
   "id": "15cd8bac",
   "metadata": {},
   "outputs": [
    {
     "data": {
      "image/png": "[encoded data removed]",
      "text/latex": [
       "$\\displaystyle - \\frac{25 \\cos{\\left(25 \\right)} \\Gamma\\left(\\frac{5}{4}\\right)}{8 \\Gamma\\left(\\frac{9}{4}\\right)} + \\frac{5 \\sqrt{2} \\sqrt{\\pi} C\\left(\\frac{5 \\sqrt{2}}{\\sqrt{\\pi}}\\right) \\Gamma\\left(\\frac{5}{4}\\right)}{16 \\Gamma\\left(\\frac{9}{4}\\right)}$"
      ],
      "text/plain": [
       "                               ⎛5⋅√2⎞       \n",
       "                      5⋅√2⋅√π⋅C⎜────⎟⋅Γ(5/4)\n",
       "  25⋅cos(25)⋅Γ(5/4)            ⎝ √π ⎠       \n",
       "- ───────────────── + ──────────────────────\n",
       "       8⋅Γ(9/4)             16⋅Γ(9/4)       "
      ]
     },
     "execution_count": 8,
     "metadata": {},
     "output_type": "execute_result"
    }
   ],
   "source": [
    "y = x**2 * sp.sin(x**2)\n",
    "\n",
    "integral = sp.integrate(y,(x,0,5))\n",
    "integral"
   ]
  },
  {
   "cell_type": "code",
   "execution_count": null,
   "id": "b9c43fbe",
   "metadata": {},
   "outputs": [],
   "source": []
  },
  {
   "cell_type": "code",
   "execution_count": null,
   "id": "99fd71a9",
   "metadata": {},
   "outputs": [],
   "source": []
  },
  {
   "cell_type": "markdown",
   "id": "3ba73957",
   "metadata": {},
   "source": [
    "`Question 6: Solve for the roots of the following equation:`\n",
    "$$\n",
    "x^3 + 15x^2 = 3x - 10\n",
    "$$\n",
    "\n",
    "Use the `Eq` and `solve` functions and save as an expression. Show the expression (It will be a list). Then find the numerical value of each root using the `evalf` function. You can use `evalf` on some expression using `my_expression.evalf()`"
   ]
  },
  {
   "cell_type": "code",
   "execution_count": 14,
   "id": "90f0b03f",
   "metadata": {},
   "outputs": [
    {
     "data": {
      "image/png": "[encoded data removed]",
      "text/latex": [
       "$\\displaystyle x^{3} + 15 x^{2} = 3 x - 10$"
      ],
      "text/plain": [
       " 3       2           \n",
       "x  + 15⋅x  = 3⋅x - 10"
      ]
     },
     "execution_count": 14,
     "metadata": {},
     "output_type": "execute_result"
    }
   ],
   "source": [
    "#Here's how to write and show the expression\n",
    "y = sp.Eq(x**3+15*x**2, 3*x-10)\n",
    "y"
   ]
  },
  {
   "cell_type": "code",
   "execution_count": 28,
   "id": "427a6346",
   "metadata": {
    "scrolled": true
   },
   "outputs": [
    {
     "data": {
      "image/png": "[encoded data removed]",
      "text/latex": [
       "$\\displaystyle \\left[ -6, \\  1\\right]$"
      ],
      "text/plain": [
       "[-6, 1]"
      ]
     },
     "execution_count": 28,
     "metadata": {},
     "output_type": "execute_result"
    }
   ],
   "source": [
    "y = sp.Eq(x**2+5*x-6,0)\n",
    "z = sp.solve(y,x)\n",
    "z"
   ]
  },
  {
   "cell_type": "code",
   "execution_count": 24,
   "id": "3304462a",
   "metadata": {},
   "outputs": [
    {
     "data": {
      "image/png": "[encoded data removed]",
      "text/latex": [
       "$\\displaystyle 1.0$"
      ],
      "text/plain": [
       "1.00000000000000"
      ]
     },
     "execution_count": 24,
     "metadata": {},
     "output_type": "execute_result"
    }
   ],
   "source": [
    "z[1].evalf()"
   ]
  },
  {
   "cell_type": "markdown",
   "id": "8e318495",
   "metadata": {},
   "source": [
    "`Question 7: Solve the system of three equations in three unknowns symbolically:`\n",
    "$$\n",
    "x+y+z = 0\\\\\n",
    "2x-y-z = 10\\\\\n",
    "y+2z = 5\n",
    "$$\n",
    "\n",
    "Compare the result to the answer computed with `fsolve` from `scipy.optimize`"
   ]
  },
  {
   "cell_type": "code",
   "execution_count": 72,
   "id": "b09a8cbf",
   "metadata": {},
   "outputs": [
    {
     "data": {
      "image/png": "[encoded data removed]",
      "text/latex": [
       "$\\displaystyle \\left\\{ x : \\frac{10}{3}, \\  y : - \\frac{35}{3}, \\  z : \\frac{25}{3}\\right\\}$"
      ],
      "text/plain": [
       "{x: 10/3, y: -35/3, z: 25/3}"
      ]
     },
     "execution_count": 72,
     "metadata": {},
     "output_type": "execute_result"
    }
   ],
   "source": [
    "#Using the symbolical method:\n",
    "\n",
    "x,y,z = sp.symbols('x,y,z')\n",
    "\n",
    "eq1 = sp.Eq(x+y+z, 0)\n",
    "eq2 = sp.Eq(2*x-y-z, 10)\n",
    "eq3 = sp.Eq(y+2*z, 5)\n",
    "\n",
    "sp.solve([eq1, eq2, eq3], (x,y,z))"
   ]
  },
  {
   "cell_type": "code",
   "execution_count": 13,
   "id": "25f1c66c",
   "metadata": {},
   "outputs": [
    {
     "data": {
      "text/plain": [
       "array([  3.33333333, -11.66666667,   8.33333333])"
      ]
     },
     "execution_count": 13,
     "metadata": {},
     "output_type": "execute_result"
    }
   ],
   "source": [
    "#Using Scipy\n",
    "\n",
    "from scipy.optimize import fsolve\n",
    "\n",
    "def f(w):\n",
    "    x = w[0]\n",
    "    y = w[1]\n",
    "    z = w[2]\n",
    "    \n",
    "    f1 = x+y+z\n",
    "    f2 = 2*x-y-z-10\n",
    "    f3 = y+2*z-5\n",
    "    \n",
    "    return [f1,f2,f3]\n",
    "\n",
    "result = fsolve(f,[0,0,0])\n",
    "result"
   ]
  },
  {
   "cell_type": "markdown",
   "id": "eb05f13c",
   "metadata": {},
   "source": [
    "`Problem : Solve the following differential equation symbolically using the` *dsolve* `function:`\n",
    "$$\n",
    "\\frac{df(x)}{dx} = xcos(x)\n",
    "$$"
   ]
  },
  {
   "cell_type": "markdown",
   "id": "20c6c340",
   "metadata": {},
   "source": [
    "**Overview of numeric differentiation**\n",
    "\n",
    "The opposite of a numerical integral is a numerical derivative.\n",
    "The 'sonic ranger' is one of the tools commonly used in an introductory physics laboratory. It uses pulses of sound to determine the distance between a sensor and some object, typically a dynamics cart. This instrument measures distance only, however, we would like to calculate the velocity and acceleration as well.\n",
    "This is where numeric differentiation becomes useful."
   ]
  },
  {
   "cell_type": "markdown",
   "id": "af0dc783",
   "metadata": {},
   "source": [
    "#### Forward Difference method ####\n",
    "\n",
    "The standard definition of a derivative, the one you see in the calculus books, is \n",
    "\n",
    "$$\n",
    " \\frac{df}{dx} = lim_{h->0} \\frac{f(x+h) - f(x)}{h}\n",
    "$$\n",
    "\n",
    "The basic method for calculating numerical derivatives is precisely an implementation of this formula. We can’t take the limit h → 0 in practice, but we can make h very small and then calculate\n",
    "\n",
    "$$\n",
    "\\frac{df}{dx} \\approx \\frac{f(x+h) - f(x)}{h}\n",
    "$$\n",
    "\n",
    "This approximation to the derivative is called the forward difference, because it’s measured in the forward (i.e., positive) direction from the point of interest $x$. You can think of it in geometric terms as shown in the figure below —it’s simply the slope of the curve $f(x)$ measured over a small interval of width $h$ in the forward direction from $x$.\n",
    "\n",
    "\n",
    "\n",
    "Now check out this example:\n",
    "\n",
    "`Example 3.3.1 : Use a forward difference, and the values of h shown, to approximate the derivative of` $cos(x)$ `at` $x = π/3$. (a) $h = 0.1$, (b) $h = 0.01$, (c) $h = 0.001$, (d) $h = 0.0001$`. Work to 8 decimal places throughout. Here's how to do so:`"
   ]
  },
  {
   "cell_type": "code",
   "execution_count": 1,
   "id": "456f5ba7",
   "metadata": {},
   "outputs": [],
   "source": [
    "import sympy as sp"
   ]
  },
  {
   "cell_type": "code",
   "execution_count": 2,
   "id": "8ce1df83",
   "metadata": {},
   "outputs": [
    {
     "data": {
      "text/latex": [
       "$\\displaystyle x$"
      ],
      "text/plain": [
       "x"
      ]
     },
     "execution_count": 2,
     "metadata": {},
     "output_type": "execute_result"
    }
   ],
   "source": [
    "x = sp.Symbol('x')\n",
    "x"
   ]
  },
  {
   "cell_type": "code",
   "execution_count": 5,
   "id": "ce941587",
   "metadata": {},
   "outputs": [
    {
     "data": {
      "text/latex": [
       "$\\displaystyle - \\sin{\\left(x \\right)}$"
      ],
      "text/plain": [
       "-sin(x)"
      ]
     },
     "execution_count": 5,
     "metadata": {},
     "output_type": "execute_result"
    }
   ],
   "source": [
    "f = sp.cos(x)\n",
    "f.diff()"
   ]
  },
  {
   "cell_type": "code",
   "execution_count": 6,
   "id": "b9504a2e",
   "metadata": {
    "scrolled": true
   },
   "outputs": [
    {
     "name": "stdout",
     "output_type": "stream",
     "text": [
      "The exact value is:  -0.86602540\n",
      "\n",
      "Here are the forward difference values:\n",
      "\n",
      "(a) =  -0.8895619232373657\n",
      "(b) =  -0.8685109492666137\n",
      "(c) =  -0.8662752594260452\n",
      "(d) =  -0.8660279037700048\n"
     ]
    }
   ],
   "source": [
    "import sympy as smp\n",
    "\n",
    "#sp.init_printing()\n",
    "x = smp.Symbol('x')\n",
    "\n",
    "def forw_diff(fn, y, h):\n",
    "    p = fn.subs(x, y+h)\n",
    "    n = fn.subs(x, y)\n",
    "    \n",
    "    f_diff = round((p-n)/(h), 8)\n",
    "    \n",
    "    return (p-n)/(h) #f_diff\n",
    "\n",
    "\n",
    "#Let's define our function:\n",
    "\n",
    "Fx = smp.cos(x)\n",
    "\n",
    "H1 = forw_diff(Fx, smp.pi/3, 0.1)     #For h = 0.1\n",
    "H2 = forw_diff(Fx, smp.pi/3, 0.01)     #For h = 0.01\n",
    "H3 = forw_diff(Fx, smp.pi/3, 0.001)     #For h = 0.001\n",
    "H4 = forw_diff(Fx, smp.pi/3, 0.00001)     #For h = 0.0001\n",
    "\n",
    "print('The exact value is: ', round(smp.diff(smp.cos(x)).subs(x, smp.pi/3), 8))\n",
    "print()\n",
    "print('Here are the forward difference values:')\n",
    "print()\n",
    "print('(a) = ',float(H1))\n",
    "print('(b) = ' ,float(H2))\n",
    "print('(c) = ',float(H3))\n",
    "print('(d) = ',float(H4))\n",
    "\n"
   ]
  },
  {
   "cell_type": "code",
   "execution_count": 20,
   "id": "46a05950",
   "metadata": {},
   "outputs": [
    {
     "data": {
      "text/plain": [
       "([<matplotlib.axis.XTick at 0x222238d56a0>,\n",
       "  <matplotlib.axis.XTick at 0x222238d5880>,\n",
       "  <matplotlib.axis.XTick at 0x222238b3f10>,\n",
       "  <matplotlib.axis.XTick at 0x222238fe160>,\n",
       "  <matplotlib.axis.XTick at 0x222238fe8b0>],\n",
       " [Text(0, 0, '0'),\n",
       "  Text(90, 0, '90'),\n",
       "  Text(180, 0, '180'),\n",
       "  Text(270, 0, '270'),\n",
       "  Text(360, 0, '360')])"
      ]
     },
     "execution_count": 20,
     "metadata": {},
     "output_type": "execute_result"
    },
    {
     "data": {
      "image/png": "[encoded data removed]",
      "text/plain": [
       "<Figure size 432x288 with 1 Axes>"
      ]
     },
     "metadata": {
      "needs_background": "light"
     },
     "output_type": "display_data"
    }
   ],
   "source": [
    "import numpy as np\n",
    "import matplotlib.pyplot as plt\n",
    "a = np.arange(0,361)\n",
    "\n",
    "plt.plot(a, np.cos(np.deg2rad(a)))\n",
    "plt.plot(a, np.sin(np.deg2rad(a)))\n",
    "plt.plot(a, -np.sin(np.deg2rad(a)))\n",
    "\n",
    "plt.xticks(a[::90],a[::90])"
   ]
  },
  {
   "cell_type": "code",
   "execution_count": 29,
   "id": "320ab8d5",
   "metadata": {
    "scrolled": true
   },
   "outputs": [
    {
     "data": {
      "image/png": "[encoded data removed]",
      "text/latex": [
       "$\\displaystyle -0.866025403784439$"
      ],
      "text/plain": [
       "-0.8660254037844386"
      ]
     },
     "execution_count": 29,
     "metadata": {},
     "output_type": "execute_result"
    }
   ],
   "source": [
    "Fx = smp.cos(x)\n",
    "float(Fx.diff().subs(x, smp.pi/3))"
   ]
  },
  {
   "cell_type": "code",
   "execution_count": 37,
   "id": "3c9e1e25",
   "metadata": {},
   "outputs": [
    {
     "data": {
      "image/png": "[encoded data removed]",
      "text/latex": [
       "$\\displaystyle -0.866027903770005$"
      ],
      "text/plain": [
       "-0.8660279037700048"
      ]
     },
     "execution_count": 37,
     "metadata": {},
     "output_type": "execute_result"
    }
   ],
   "source": [
    "float(H4)"
   ]
  },
  {
   "cell_type": "markdown",
   "id": "0782539d",
   "metadata": {},
   "source": [
    "One advantage of doing a simple example first is that we can compare these approximations with\n",
    "the ‘exact’ value which is\n",
    "\n",
    "$f'(a) = sin(\\frac {\\pi}{3}) = -0.86602540  $ to 8 d.p. \n",
    "\n",
    "Note that the accuracy levels of the four approximations in this example (3.3.1) are:\n",
    "\n",
    "(a) 1 d.p. (b) 2 d.p. (c) 3 d.p. (d) 3 d.p. (almost 4 d.p.)\n",
    "\n",
    "The errors to 6 d.p. are:\n",
    "\n",
    "(a) 0.023537 (b) 0.002486 (c) 0.000250 (d) 0.000025\n",
    "\n",
    "Notice that the errors reduce by about a factor of 10 each time."
   ]
  },
  {
   "attachments": {},
   "cell_type": "markdown",
   "id": "a9994626",
   "metadata": {},
   "source": [
    "#### Backward Difference method\n",
    "\n",
    "There is also the backward difference, which has the mirror image definition\n",
    "\n",
    "$$\n",
    "\\frac{df}{dx} \\approx \\frac{f(x) - f(x-h)}{h}\n",
    "$$\n",
    "\n",
    "The forward and backward differences typically give about the same answer and in many cases you can use either. Most often one uses the forward difference. There are a few special cases where one is preferred over the other, particularly when there is a discontinuity in the derivative of the function at the point $x$ or when the domain of the function is bounded and you want the value of the derivative on the boundary, in which case only one or other of the two difference formulas will work. The rest of the time, however, there is little to choose between them.\n",
    "\n",
    "<img src=\"img/num_diff4.jpg\" />\n",
    "\n",
    "*Note: Before using either the forward or backward difference we must choose a value for $h$. To work out what the best value is we need to look at the errors and inaccuracies involved in calculating numerical derivatives.*\n",
    "\n",
    "\n",
    "#### Errors ###\n",
    "Calculations of derivatives using forward and backward differences are not perfectly accurate. There are two sources of error. The first is the rounding error and the second is the approximation error that arises because we cannot take the limit $h → 0$, so our differences are not really true derivatives. \n",
    "\n",
    "The error on our derivative may be given as:\n",
    "\n",
    "$$\n",
    "\\epsilon = h\\left\\lvert {f''(x)} \\right\\rvert \\sqrt{4C\\left\\lvert {f(x) f''(x)}\\right\\rvert}\n",
    "$$"
   ]
  },
  {
   "cell_type": "markdown",
   "id": "f34b8948",
   "metadata": {},
   "source": [
    "#### Central Difference method ####\n",
    "The central difference is similar to the forward and backward differences, approximating the derivative using the difference between two values of $f(x)$ at points a distance $h$ apart. What’s changed is that the two points are now placed symmetrically around $x$, one at a distance $\\frac {h}{2}$ in the forward (i.e., positive) direction and the other at a distance $\\frac {h}{2} $ in the backward (negative) direction.\n",
    "\n",
    "$$\n",
    "\\frac{df}{dx} \\approx \\frac{f(x+h/2) - f(x-h/2)}{h}\n",
    "$$\n",
    "\n",
    "To calculate the approximation error on the central difference we write two Taylor expansions:\n",
    "\n",
    "$$\n",
    "\\begin{align}\n",
    "f(x+h/2) = f(x) + \\frac{1}{2}h f'(x) + \\frac{1}{8}h^2 f''(x) + \\frac{1}{48}h^3 f'''(x) + ...\\tag{1} \\\\\n",
    "f(x-h/2) = f(x) - \\frac{1}{2}h f'(x) + \\frac{1}{8}h^2 f''(x) - \\frac{1}{48}h^3 f'''(x) + ...\\tag{2}\n",
    "\\end{align}\n",
    "$$\n",
    "\n",
    "Subtracting the second expression from the first and rearranging for $f′(x)$, we get:\n",
    "\n",
    "$$\n",
    "f'(x) = \\frac{f(x+h/2) - f(x-h/2)}{h} - \\frac{1}{24}h^2 f'''(x)+...\n",
    "$$\n",
    "\n",
    "The optimal error in this case is:\n",
    "\n",
    "$$\n",
    "\\epsilon = \\frac {1}{8}h^2\\left\\lvert {f'''(x)} \\right\\rvert = ( \\frac {9}{8}C^2 \\left\\lvert {f(x)} \\right\\rvert^2 \\left\\lvert {f'''(x)}\\right\\rvert ) ^3\n",
    "$$\n"
   ]
  },
  {
   "cell_type": "markdown",
   "id": "42a02f1b",
   "metadata": {},
   "source": [
    "`Example 3.3.2: Create a user-defined function `$f(x)$` that returns the value` \n",
    "\n",
    "$$\n",
    "1 + \\frac{1}{2} tanh 2x ,\n",
    "$$\n",
    "\n",
    "`then use a central difference to calculate the derivative of the function in the range` $−2 ≤ x ≤ 2$."
   ]
  },
  {
   "cell_type": "code",
   "execution_count": 8,
   "id": "144a668d",
   "metadata": {},
   "outputs": [
    {
     "data": {
      "image/png": "[encoded data removed]",
      "text/latex": [
       "$\\displaystyle \\frac{0.5 \\left(- 0.5 \\tanh{\\left(- 2 h + 2 x \\right)} + 0.5 \\tanh{\\left(2 h + 2 x \\right)}\\right)}{h}$"
      ],
      "text/plain": [
       "0.5⋅(-0.5⋅tanh(-2⋅h + 2⋅x) + 0.5⋅tanh(2⋅h + 2⋅x))\n",
       "─────────────────────────────────────────────────\n",
       "                        h                        "
      ]
     },
     "execution_count": 8,
     "metadata": {},
     "output_type": "execute_result"
    }
   ],
   "source": [
    "import numpy as np\n",
    "import matplotlib.pyplot as plt\n",
    "import sympy as sp\n",
    "%matplotlib inline\n",
    "\n",
    "sp.init_printing()\n",
    "\n",
    "x,h = sp.symbols('x,h')\n",
    "\n",
    "def centr_der(fn, y, h):\n",
    "    \n",
    "    p = fn.subs(x, y+h)\n",
    "    n = fn.subs(x, y-h)\n",
    "    \n",
    "    c_der = (p-n)/(2*h)\n",
    "    \n",
    "    return c_der#.evalf()\n",
    "\n",
    "\n",
    "Fx = 1 + 1/2 * sp.tanh(2*x)\n",
    "\n",
    "ans = centr_der(Fx, x, h)\n",
    "ans.evalf()"
   ]
  },
  {
   "cell_type": "code",
   "execution_count": 9,
   "id": "c483b9b4",
   "metadata": {
    "scrolled": true
   },
   "outputs": [
    {
     "name": "stdout",
     "output_type": "stream",
     "text": [
      "[0.00899003289374467, 0.249832324934767, 0.482013790037908, 0.249832324934767, 0.00899003289374467]\n"
     ]
    }
   ],
   "source": [
    "#Now let's input the various values of x in the expression(ans):\n",
    "\n",
    "cen_ans = [] #create an empty list\n",
    "#x_val = []\n",
    "\n",
    "for i in (range(-2,3)): # loop through the range -2 <= x <= 2 in steps of 1\n",
    "    #Let h = 1\n",
    "    #x_val.append(i)\n",
    "    ans = centr_der(Fx, i, 1).evalf()  # Calculate the derivative for every x=i and h=1 values\n",
    "    \n",
    "    cen_ans.append(ans)  #Append every value or answer to or store them in the list\n",
    "\n",
    "print(cen_ans) #print final answer for every x=j value\n",
    "\n",
    "\n",
    "#plt.plot(x_val, cen_ans)"
   ]
  },
  {
   "cell_type": "markdown",
   "id": "138b266a",
   "metadata": {},
   "source": [
    "`Example 3.3.3:The distance `$x$` of a runner from a fixed point is measured (in metres) at intervals of half a second. The data obtained are` ![Example 3.3.3 table](num_diff_tab_data.jpg)\n",
    "\n",
    "`Use central differences to approximate the runner’s velocity at times `$t = 0.5 s$ ` and`\n",
    " $t = 1.25 s$`. Let's write a code to solve this:`"
   ]
  },
  {
   "cell_type": "code",
   "execution_count": 141,
   "id": "467061d9",
   "metadata": {},
   "outputs": [
    {
     "data": {
      "text/html": [
       "<div>\n",
       "<style scoped>\n",
       "    .dataframe tbody tr th:only-of-type {\n",
       "        vertical-align: middle;\n",
       "    }\n",
       "\n",
       "    .dataframe tbody tr th {\n",
       "        vertical-align: top;\n",
       "    }\n",
       "\n",
       "    .dataframe thead th {\n",
       "        text-align: right;\n",
       "    }\n",
       "</style>\n",
       "<table border=\"1\" class=\"dataframe\">\n",
       "  <thead>\n",
       "    <tr style=\"text-align: right;\">\n",
       "      <th>t</th>\n",
       "      <th>0.0</th>\n",
       "      <th>0.5</th>\n",
       "      <th>1.0</th>\n",
       "      <th>1.5</th>\n",
       "      <th>2.0</th>\n",
       "    </tr>\n",
       "  </thead>\n",
       "  <tbody>\n",
       "    <tr>\n",
       "      <th>x</th>\n",
       "      <td>0.0</td>\n",
       "      <td>3.65</td>\n",
       "      <td>6.8</td>\n",
       "      <td>9.9</td>\n",
       "      <td>12.15</td>\n",
       "    </tr>\n",
       "  </tbody>\n",
       "</table>\n",
       "</div>"
      ],
      "text/plain": [
       "t  0.0   0.5  1.0  1.5    2.0\n",
       "x  0.0  3.65  6.8  9.9  12.15"
      ]
     },
     "execution_count": 141,
     "metadata": {},
     "output_type": "execute_result"
    }
   ],
   "source": [
    "#We first create the table of data/values using pandas DataFrame\n",
    "import pandas as pd\n",
    "dis_vel = pd.DataFrame ([[0.0, 0.00],[0.5, 3.65], [1.0,6.80], [1.5, 9.90],[2.0, 12.15]],\n",
    "                        columns=['t','x'])\n",
    "\n",
    "#Let's transpose the table to look like what we have in the question\n",
    "dis_vel = dis_vel.set_index(['t']).T \n",
    "dis_vel"
   ]
  },
  {
   "cell_type": "code",
   "execution_count": 177,
   "id": "e2f17c5b",
   "metadata": {},
   "outputs": [
    {
     "name": "stdout",
     "output_type": "stream",
     "text": [
      "Data centered at t = 0.5 s at its centre we obtain:  6.8 m/s\n",
      "Data centred at t = 1.25 s gives us the approximation:  6.2 m/s\n"
     ]
    }
   ],
   "source": [
    "'''\n",
    "Next is to define a function that uses the central difference approach to calculate\n",
    "the runner's velocity (derivative of distance (x) w.r.t time (t))\n",
    "to do this we need:\n",
    "\n",
    "x = time, t in seconds\n",
    "\n",
    "h = time interval between given time period and the next available or previous time\n",
    "The choice of h is dictated by the available data given in the table\n",
    "\n",
    "'''\n",
    "def derx_t(t, h):\n",
    "    a = (t+h)\n",
    "    b = (t-h)\n",
    "    \n",
    "    der = dis_vel.at['x', a]- dis_vel.at['x', b]\n",
    "    der = der/(2*h)\n",
    "    return der\n",
    "\n",
    "#For time t = 0.5 s: t= 0.5 and h = 0.5\n",
    "print('Data centered at t = 0.5 s at its centre we obtain: ',derx_t(0.5, 0.5), 'm/s')\n",
    "\n",
    "\n",
    "#For time t = 1.25s: t= 1.25 and h = 0.25\n",
    "print('Data centred at t = 1.25 s gives us the approximation: ', round(derx_t(1.25, 0.25),2), 'm/s')\n"
   ]
  },
  {
   "cell_type": "markdown",
   "id": "bdc87f61",
   "metadata": {},
   "source": []
  },
  {
   "cell_type": "markdown",
   "id": "97cfda3a",
   "metadata": {},
   "source": [
    "***\n",
    "<h3>NUMERIC INTEGRATION <h3/>\n",
    "\n",
    "***\n",
    "    \n",
    "#### OBJECTIVES ####\n",
    "At the end of this unit, students should be able to write python codes to solve numeric integrals using:\n",
    "\n",
    "* the simple method \n",
    "    \n",
    "* the trapezoid method or rule \n",
    "    \n",
    "* the Simpson's method or rule \n",
    "    \n",
    "***\n",
    "    \n",
    "    \n",
    "<img src=\"img/Int.jpg\" />\n",
    "    \n",
    "Consider the function shown in the figure above, depending on the functional form of \n",
    "$f(x)$, it may not be possible to calculate the integral of $f$ from $a$ to $b$ analytically.\n",
    "\n",
    "The integral of $f(x)$ from $a$ to $b$ is the area under the curve, though, which leads to the earliest numeric method of estimating that integral."
   ]
  },
  {
   "cell_type": "markdown",
   "id": "fb1fb8b3",
   "metadata": {},
   "source": [
    "# Simple Method #\n",
    "\n",
    "The simplest method of estimating the integral shown in figure 2.5 above is to divide the integration range into $N$ slices of width $dx$. Calculate the value of $f(x_i)$ at some point on each slice, and find the area $A_i = f(x_i)\\Delta x$ for each slice, as shown in this figure: \n",
    "\n",
    "<img src=\"img/Int1.png\" /> \n",
    "\n",
    "The integral is then approximately: \n",
    "$$\n",
    "\\int_{a}^{b} f(x)dx \\approx \\sum_i {f(x_i)}\\Delta x\n",
    "$$\n"
   ]
  },
  {
   "cell_type": "markdown",
   "id": "920e8ea1",
   "metadata": {},
   "source": [
    "#### Calculating the integral of a function $f(x)$\n",
    "\n",
    "1. First we find a way to define the function $y$ or $f(x)$ that we want to integrate. For example, assuming the function we want to integrate is $x^3 + 2x$. In other words $y = f(x) = x^3 + 2x$. Then we can write the function as:\n"
   ]
  },
  {
   "cell_type": "code",
   "execution_count": 90,
   "id": "a81da852",
   "metadata": {
    "scrolled": true
   },
   "outputs": [
    {
     "name": "stdout",
     "output_type": "stream",
     "text": [
      "for x = 1, f(x) = 3\n",
      "for x = 2, f(x) = 12\n",
      "for x = 3, f(x) = 33\n"
     ]
    }
   ],
   "source": [
    "'''\n",
    "Here we define a function named f which takes any value x,\n",
    "computes the cube of this value x, adds it to 2 times the value of x and returns an answer or solution\n",
    "'''\n",
    "def f(x):\n",
    "    return x**3 + 2*x\n",
    "\n",
    "'''\n",
    "We can then call this function anytime given any value of x, so it computes and returns an answer \n",
    "after solving (x**3 + 2*x)\n",
    "\n",
    "Here's an example using this function to solve for x = 1, 2 and 3:\n",
    "\n",
    "'''\n",
    "\n",
    "print('for x = 1, f(x) =', f(1)) \n",
    "\n",
    "print('for x = 2, f(x) =', f(2))\n",
    "\n",
    "print('for x = 3, f(x) =', f(3))"
   ]
  },
  {
   "cell_type": "markdown",
   "id": "1db2ce3b",
   "metadata": {},
   "source": [
    "2. The next thing we will do is to define our limits of integration, $a =$ lower limit and $b =$ upper limit, the number of slices, $N$ of width, $dx = \\frac {b-a}{N}$. So, assuming we want to integrate the function above ($f(x) = x^3 + 2x$) over the limits a = 0 and b = 4, with N = 20 slices, then $dx = \\frac {b-a}{N} = \\frac {4-0}{20} = \\frac {4}{20} = 0.2$ "
   ]
  },
  {
   "cell_type": "code",
   "execution_count": 91,
   "id": "d34dd60e",
   "metadata": {
    "scrolled": true
   },
   "outputs": [
    {
     "data": {
      "text/plain": [
       "0.2"
      ]
     },
     "execution_count": 91,
     "metadata": {},
     "output_type": "execute_result"
    }
   ],
   "source": [
    "a = 0; b = 4; N = 20\n",
    "\n",
    "dx = (b-a)/N\n",
    "\n",
    "dx"
   ]
  },
  {
   "cell_type": "markdown",
   "id": "2310fadc",
   "metadata": {},
   "source": [
    "3. We can then define a range of values of $x$ from point $a=0$ to $b=4$ over $N=20$ slices, compute the area for each slice and sum the area values under the function $f(x) = x^3 + 2x$ over $[a=0,b=4]$. The sum of these values equals the integral value of the function  as demonstrated below:"
   ]
  },
  {
   "cell_type": "code",
   "execution_count": 92,
   "id": "bbe10170",
   "metadata": {},
   "outputs": [
    {
     "name": "stdout",
     "output_type": "stream",
     "text": [
      "72.96\n"
     ]
    }
   ],
   "source": [
    "I = 0\n",
    "for j in range(N):\n",
    "    x = a + dx * j\n",
    "    '''\n",
    "    Note that the final point f(4) is not included as range is from 0 - 19 (20 slices) \n",
    "    Hence x has values in the set {0, 0.2,..., 3.6, 3.8}\n",
    "    '''\n",
    "    area = f(x)*dx  #Calculate the area for each slice\n",
    "    I = I + area     #sum of all the area values under the function f(x) over [a=0,b=4]\n",
    "    integral = I     #Integral equals the sum of all the area values\n",
    "\n",
    "print(round(integral, 2))    #Display our final answer\n"
   ]
  },
  {
   "cell_type": "markdown",
   "id": "62cebb21",
   "metadata": {},
   "source": [
    "Now for this same function let's increase the number of slices from 20 to 100. ie $N=100$ and integrate the function over $N=100$ slices:"
   ]
  },
  {
   "cell_type": "code",
   "execution_count": 93,
   "id": "772af558",
   "metadata": {},
   "outputs": [
    {
     "name": "stdout",
     "output_type": "stream",
     "text": [
      "78.57\n"
     ]
    }
   ],
   "source": [
    "def f(x):\n",
    "    return x**3 + 2*x\n",
    "\n",
    "a = 0; b = 4; N = 100\n",
    "\n",
    "dx = (b-a)/N\n",
    "\n",
    "I = 0\n",
    "for j in range(N):\n",
    "    x = a + dx * j\n",
    "    \n",
    "    area = f(x)*dx  #Calculate the area for each slice\n",
    "    \n",
    "    I = I + area     #sum of all the area values under the function f(x) over [a=0,b=4]\n",
    "    \n",
    "    integral = I     #Integral equals the sum of all the area values\n",
    "\n",
    "print(round(integral,2))    #Display our final answer\n"
   ]
  },
  {
   "cell_type": "markdown",
   "id": "46db5afc",
   "metadata": {},
   "source": [
    "Comparing the integral values obtained for $N=20$ slices **(72.96)** and $N=100$ slices **(78.57)** to the exact value of :\n",
    "$$\n",
    "\\int_{0}^{4} f(x^3 + 2x)dx = 80\n",
    "$$\n",
    "\n",
    "The accuracy of the approximation increases as number of slices, $N$ increases (higher values of $N$)."
   ]
  },
  {
   "cell_type": "markdown",
   "id": "c713dae4",
   "metadata": {},
   "source": [
    "`A python implementation of the simple integration method could look something like this:`"
   ]
  },
  {
   "cell_type": "code",
   "execution_count": 95,
   "id": "dfd20e5e",
   "metadata": {},
   "outputs": [],
   "source": [
    "def int_simple(fn, a, b, N):\n",
    "    '''\n",
    "    A routine to do a simple rectangular−slice approximation of an integral.\n",
    "    fn: the function to integrate\n",
    "    a,b: lower and upper limits of integration respectively\n",
    "    N: number of slices to take\n",
    "    \n",
    "    '''\n",
    "    I = 0\n",
    "    dx = (b-a)/float(N)\n",
    "    for j in range(N):\n",
    "        x = a + dx * j\n",
    "        area=fn(x)*dx        #Calculate the area for each slice\n",
    "        I = I + area         #sum of all the area values under the function f(x) over [a=0,b=4]\n",
    "        integral = I         #Integral equals the sum of all the area values\n",
    "    return integral          #Returns the final Integral value"
   ]
  },
  {
   "cell_type": "markdown",
   "id": "135e6fbb",
   "metadata": {},
   "source": [
    "`Example 3.2.1: Assuming we want to find the integral of a function` $f(x) = cos(x)$ `with limits of integration a (lower limit) = 1 and b (upper limit) = 4 over` $N = 20$ `slices, then the python program is: `"
   ]
  },
  {
   "cell_type": "code",
   "execution_count": 96,
   "id": "03c953e4",
   "metadata": {},
   "outputs": [
    {
     "name": "stdout",
     "output_type": "stream",
     "text": [
      "-1.5057296484473184\n"
     ]
    }
   ],
   "source": [
    "from math import *\n",
    "int_cos_x = int_simple(cos, 1, 4, 20)\n",
    "print(int_cos_x)"
   ]
  },
  {
   "cell_type": "markdown",
   "id": "ab864f86",
   "metadata": {},
   "source": [
    "`Example 3.2.2: Here's a simple program to calculate the integral of` $sin(x)$ `from 0 to pi:`"
   ]
  },
  {
   "cell_type": "code",
   "execution_count": 97,
   "id": "55d4b0de",
   "metadata": {},
   "outputs": [
    {
     "name": "stdout",
     "output_type": "stream",
     "text": [
      "The value of the integral is approximaely: 1.9998355038874436\n"
     ]
    }
   ],
   "source": [
    "def int_simple1(f,dx) :\n",
    "    \"\"\"\n",
    "    Simplest integration possible, using uniform rectangular slices. \n",
    "    This gives a rather poor result, with the error on the order of dx.\n",
    "    f [ ] should be a list of function values at x values separated by the interval dx.\n",
    "    The limits of integration are x [0] −> x [ 0 ] + dx ∗ len(f).\n",
    "\n",
    "    Note that this algorithm deosn't use the last point in f!\n",
    "    \"\"\"\n",
    "\n",
    "    return dx*sum (f[0:-1]) #The sum() function is built−in, and does exactly what you would expect.\n",
    "\n",
    "\n",
    "\n",
    "from math import *\n",
    "\n",
    "N = 100           #Higher N gives better results.\n",
    "a = 0.0\n",
    "b = pi\n",
    "interval = (b-a) / float(N)\n",
    "\n",
    "\n",
    "x = [a + interval * i for i in range(N+1)]        #Calculate the values of x to use .\n",
    "\n",
    "#notice that it takes N+1 function values to define N slices!\n",
    "\n",
    "\n",
    "FunctionValues = [sin(value) for value in x]                 #Calculate the values of f(x)\n",
    "\n",
    "print (f'The value of the integral is approximaely: {int_simple1(FunctionValues, interval)}')"
   ]
  },
  {
   "cell_type": "markdown",
   "id": "004d69b4",
   "metadata": {},
   "source": [
    "**NOTE:**\n",
    "This simple method makes use of the Riemann sums, an approximation of a definite integral.\n",
    "\n",
    "Let's write a function called `riemann_sum` which takes 5 input parameters `f, a, b, N` and `method` and returns the Riemann sum:"
   ]
  },
  {
   "cell_type": "code",
   "execution_count": 99,
   "id": "26f78933",
   "metadata": {},
   "outputs": [],
   "source": [
    "import numpy as np\n",
    "def riemann_sum(f,a,b,N,method='midpoint'):\n",
    "    '''Compute the Riemann sum of f(x) over the interval [a,b].\n",
    "\n",
    "    Parameters\n",
    "    ----------\n",
    "    f : function\n",
    "        Vectorized function of one variable\n",
    "    a , b : numbers\n",
    "        Endpoints of the interval [a,b]\n",
    "    N : integer\n",
    "        Number of subintervals of equal length in the partition of [a,b]\n",
    "    method : string\n",
    "        Determines the kind of Riemann sum:\n",
    "        right : Riemann sum using right endpoints\n",
    "        left : Riemann sum using left endpoints\n",
    "        midpoint (default) : Riemann sum using midpoints\n",
    "\n",
    "    Returns\n",
    "    -------\n",
    "    float\n",
    "        Approximation of the integral given by the Riemann sum.\n",
    "    '''\n",
    "    dx = (b - a)/N\n",
    "    x = np.linspace(a,b,N+1)\n",
    "\n",
    "    if method == 'left':\n",
    "        x_left = x[:-1]\n",
    "        return np.sum(f(x_left)*dx)\n",
    "    elif method == 'right':\n",
    "        x_right = x[1:]\n",
    "        return np.sum(f(x_right)*dx)\n",
    "    elif method == 'midpoint':\n",
    "        x_mid = (x[:-1] + x[1:])/2\n",
    "        return np.sum(f(x_mid)*dx)\n",
    "    else:\n",
    "        raise ValueError(\"Method must be 'left', 'right' or 'midpoint'.\")\n",
    "        \n",
    "        \n",
    "#riemann_sum(f,0,4,20)   "
   ]
  },
  {
   "cell_type": "markdown",
   "id": "1635be17",
   "metadata": {},
   "source": [
    "`Problem: Use the Riemann sum function defined above to approximate:`\n",
    "$$\n",
    "\\int_{0}^{\\frac {\\pi}{2}} sin(x) dx\n",
    "$$\n",
    "\n",
    "`using all three methods for` $N=100$ `slices. Compute the exact value and compare your approximations with the exact value. State the error of approximation for each method.`"
   ]
  },
  {
   "cell_type": "markdown",
   "id": "69c73333",
   "metadata": {},
   "source": [
    "### Trapezoid Method ###\n",
    "\n",
    "We can greatly improve the efficiency of our integration by approximating the slices as trapezoids instead of as rectangles, as shown in the figure below.\n",
    "<img src=\"img/trap.jpg\" />\n",
    "\n",
    "<img src=\"img/equ2.png\" />\n",
    "\n",
    "This is probably the most efficient way to code the trapezoid method, although the actual function is left as an exercise.\n",
    "\n",
    "\n",
    "`Example 3.2.3:\n",
    "Let us use the trapezoidal rule to calculate the integral of` $ x^4 − 2x + 1$ `from\n",
    "x = 0 to x = 2. This is actually an integral we can do by hand, which means\n",
    "we don’t really need to do it using the computer in this case, but it’s a good\n",
    "first example because we can check easily if our program is working and how\n",
    "accurate an answer it gives.Here is a program to do the integration using the trapezoidal rule with N = 10 slices:`"
   ]
  },
  {
   "cell_type": "code",
   "execution_count": 6,
   "id": "0bea2bf8",
   "metadata": {},
   "outputs": [
    {
     "name": "stdout",
     "output_type": "stream",
     "text": [
      "4.50656\n"
     ]
    }
   ],
   "source": [
    "def f(x):\n",
    "    return x**4-2*x+1\n",
    "\n",
    "\n",
    "N = 10\n",
    "a = 0; b = 2\n",
    "h = (b-a)/N\n",
    "\n",
    "trap = 0.5*f(a) + 0.5*f(b)\n",
    "\n",
    "for k in range(1,N):\n",
    "    trap += f(a+k*h)\n",
    "    \n",
    "print(h*trap)"
   ]
  },
  {
   "cell_type": "markdown",
   "id": "f1fb6fea",
   "metadata": {},
   "source": [
    "This is a straightforward translation of the trapezoidal rule formula into computer code: we create a function that calculates the integrand, set up all the\n",
    "constants used, evaluate the sum for the integral I (a, b) term by term, and then\n",
    "multiply it by h and print it out.\n",
    "The correct answer is:\n",
    "![trapezoidal rule eg1](trap_eg.jpg)\n",
    "So our calculation is moderately but not exceptionally accurate—the answer is\n",
    "off by about 2%.\n",
    "\n",
    "We can make the calculation more accurate by increasing the number of\n",
    "slices, N."
   ]
  },
  {
   "cell_type": "markdown",
   "id": "1e8f5981",
   "metadata": {},
   "source": [
    "`Example 3.2.4: In this example, let's first create a pandas DataFrame which contains two columns of numbers, the first representing time, t in seconds and the second the x-velocity in meters per second of a particle, measured once every second from\n",
    "time` $t = 0$ ` to` $t = 10$ `. We'll then write a program to do the following:`\n",
    "\n",
    "`a) using the trapezoidal rule, calculate from this data the approximate distance traveled by the particle in the x direction as a function of time.`\n",
    "\n",
    "`b) Extend our program to make a graph that shows, on the same plot, both the\n",
    "original velocity curve and the distance traveled as a function of time.`"
   ]
  },
  {
   "cell_type": "code",
   "execution_count": 8,
   "id": "7cb11592",
   "metadata": {},
   "outputs": [
    {
     "name": "stdout",
     "output_type": "stream",
     "text": [
      "  time, t (s)    x-velocity (m/s)    Distance (m)\n",
      "-------------  ------------------  --------------\n",
      "            0            0             nan\n",
      "            1            0.069478        0.203499\n",
      "            2            0.137694        0.278125\n",
      "            3            0.204332        0.327587\n",
      "            4            0.269083        0.362401\n",
      "            5            0.331656        0.38745\n",
      "            6            0.341561        0.35348\n",
      "            7            0.399991        0.372283\n",
      "            8            0.420132        0.355724\n",
      "            9            0.481123        0.373953\n",
      "           10            0.600344        0.43151\n"
     ]
    },
    {
     "data": {
      "text/plain": [
       "<AxesSubplot:xlabel='time, t (s)'>"
      ]
     },
     "execution_count": 8,
     "metadata": {},
     "output_type": "execute_result"
    },
    {
     "data": {
      "image/png": "[encoded data removed]",
      "text/plain": [
       "<Figure size 432x288 with 1 Axes>"
      ]
     },
     "metadata": {
      "needs_background": "light"
     },
     "output_type": "display_data"
    }
   ],
   "source": [
    "import pandas as pd\n",
    "import numpy as np\n",
    "from tabulate import tabulate\n",
    "vel_table = np.array([[0, 0],[1, 0.069478],[2, 0.137694],\n",
    "             [3, 0.204332], [4, 0.269083], [5, 0.331656], [6, 0.341561], [7, 0.399991],\n",
    "            [8, 0.420132], [9, 0.481123], [10, 0.600344]])\n",
    "#print(tabulate(vel_table))\n",
    "vel_table = pd.DataFrame(vel_table, columns=['time, t (s)', 'x-velocity (m/s)'])\n",
    "\n",
    "##type(vel_table)\n",
    "#vel_table = vel_table.set_index(['time, t (s)'])\n",
    "#vel_table.loc[0:5]\n",
    "m = vel_table.loc[:,'time, t (s)']\n",
    "n = vel_table.loc[:, 'x-velocity (m/s)']\n",
    "\n",
    "def vel_fn(x,t):\n",
    "    return x/t\n",
    "\n",
    "\n",
    "N = 10\n",
    "a = 0; b = 10\n",
    "h = (b-a)/N\n",
    "\n",
    "trap = 0.5*vel_fn(n,m) + 0.5*vel_fn(n,m)\n",
    "\n",
    "for k in range(1,N):\n",
    "    trap += vel_fn(n,m+k*h)\n",
    "    \n",
    "\n",
    "d_vals = h*trap\n",
    "#d_vals= pd.DataFrame(d_vals)\n",
    "vel_dist_table = vel_table['Distance (m)'] = d_vals \n",
    "vel_dist_table = vel_table\n",
    "z = vel_dist_table.set_index(['time, t (s)'])\n",
    "print(tabulate(z, headers=('time, t (s)', 'x-velocity (m/s)', 'Distance (m)')))\n",
    "z.plot()"
   ]
  },
  {
   "cell_type": "markdown",
   "id": "54498d5d",
   "metadata": {},
   "source": [
    "*`Probem (Trial) 3.2.1: Write a program that uses the trapezoidal method to return the integral of a function over a given range, using a given number of sample points. The actual calculation should be a function of the form int_trap (f,dx), where f is a list of function values and dx is the slice width.`*"
   ]
  },
  {
   "cell_type": "code",
   "execution_count": null,
   "id": "3c25262c",
   "metadata": {},
   "outputs": [],
   "source": []
  },
  {
   "cell_type": "markdown",
   "id": "4ac07e1b",
   "metadata": {},
   "source": [
    "### The Simpson's Method ###\n",
    "\n",
    "\n",
    "Simpson's Rule, named after the English mathematician Thomas Simpson (1710 - 1761),  is a numerical method that approximates the value of a definite integral by using quadratic functions.\n",
    "\n",
    "Simpson's Rule is based on the fact that given three points, we can find the equation of a quadratic through those points. To obtain an approximation of the definite integral \n",
    "$$\n",
    "\\int_{a}^{b} f(x)dx\n",
    "$$\n",
    "using Simpson's Rule, we partition the interval $ [a,b] $ into an even number $n$ of subintervals, each of width:\n",
    "\n",
    "$$\n",
    "\\Delta {x} = \\frac {(b-a)}{n}\n",
    "$$\n",
    "\n",
    "On each pair of consecutive subintervals $[x_i - 1, x_i], [x_i, x_i + 1]$ ,we consider a quadratic function $ y = ax^2 + bx + c $\n",
    " \n",
    " such that it passes through the points $ [x_i - 1,f(x_i-1)], [x_i,f(x_i)], [x_i + 1,f(x_i+1)] $\n",
    "<img src=\"img/simp.jpg\" />\n",
    "if the function $ f(x)$ is continuous on $ [a, b]$ , then \n",
    "$$\n",
    "\\int_{a}^{b} f(x)dx \\approx \\frac {\\Delta{x}} {3} [ f(x_0) + 4 f(x_1) + 2f(x_2) + 4f(x_3)+ 2f(x_4) + ... + 4f(x_{n-1}) + f(x_n)]\n",
    "$$\n",
    "\n",
    "`Example 3.2.5: A Simpson’s method integration function is shown in this example:`\n",
    "\n"
   ]
  },
  {
   "cell_type": "code",
   "execution_count": 10,
   "id": "493fa083",
   "metadata": {},
   "outputs": [
    {
     "data": {
      "text/plain": [
       "32.0"
      ]
     },
     "execution_count": 10,
     "metadata": {},
     "output_type": "execute_result"
    }
   ],
   "source": [
    "def int_simpson(f,dx):\n",
    "    \"\"\"\n",
    "    Simpson's rule, using uniform slices. f[] should be a list of function values, separated on the x-axis by\n",
    "    the interval dx. The limits of integration are x[0] −> x [ 0 ] + dx ∗ len(f)\n",
    "    \n",
    "    This particular algorithm doesn't require that there be an even number of intervals (odd number of points):\n",
    "    instead, it adds the last section separately if necessary.\n",
    "    \"\"\"\n",
    "    N=len(f) # number of points\n",
    "    \n",
    "    integral = 0.0 #initial value of integral\n",
    "    \n",
    "    for i in range (1, N-1, 2):\n",
    "        integral = integral + f[i-1] + 4.0*f[i] + f[i+1]  #add up terms\n",
    "        \n",
    "    integral = integral * dx / 3.0\n",
    "    \n",
    "    if (N % 2) == 0:\n",
    "        integral = integral + dx * (5.0*f[-1] + 8.0*f[-2] - f[-3])/12.0\n",
    "        \n",
    "    return integral\n",
    "  \n",
    "\n",
    "c =[0,2,4,6,8]\n",
    "int_simpson(c, 2) "
   ]
  },
  {
   "cell_type": "markdown",
   "id": "2f6d56cf",
   "metadata": {},
   "source": [
    "`Example 3.2.6 : Use the Simpson's method with` $n = 4$ `to approximate the integral`\n",
    "\n",
    "$$\n",
    "\\int_{0}^{8} \\sqrt{x}dx\n",
    "$$\n",
    "    \n",
    "`Let's see the solution here:`"
   ]
  },
  {
   "cell_type": "code",
   "execution_count": 13,
   "id": "7f038777",
   "metadata": {},
   "outputs": [
    {
     "data": {
      "text/plain": [
       "14.855493563580856"
      ]
     },
     "execution_count": 13,
     "metadata": {},
     "output_type": "execute_result"
    }
   ],
   "source": [
    "'''\n",
    "Let's define a function (Simp_int) that uses the Simpson's rule to integrate a function, Fn\n",
    "from lower limit a, to upper limit b with n subintervals\n",
    "'''\n",
    "\n",
    "def simp_int(Fn, n, a, b):      \n",
    "    dx = (b-a)/n\n",
    "    Fn_val = []\n",
    "    i_val = []\n",
    "    from numpy import arange\n",
    "    for i,j in enumerate(arange(a, (b+dx), dx)):\n",
    "        Fx = Fn(j)\n",
    "        Fn_val.append(Fx)\n",
    "        i_val.append(i)\n",
    "    \n",
    "        if (n == 2):\n",
    "            if i == 0:\n",
    "                integral = Fn_val[i]\n",
    "            elif i == 1:\n",
    "                integral = integral + 4 * Fn_val[i]\n",
    "            else :\n",
    "                integral = integral + Fn_val[i]\n",
    "                \n",
    "        if (n == 4):\n",
    "            if i == 0:\n",
    "                integral = Fn_val[i]\n",
    "            elif i == 1:\n",
    "                integral = integral + 4 * Fn_val[i]\n",
    "            elif i == 2:\n",
    "                integral = integral + 2 * Fn_val[i]\n",
    "            elif i == 3:\n",
    "                integral = integral + 4 * Fn_val[i]\n",
    "            else :\n",
    "                integral = integral + Fn_val[i]\n",
    "        \n",
    "        if (n == 6):\n",
    "            if i == 0:\n",
    "                integral = Fn_val[i]\n",
    "            elif i == 1:\n",
    "                integral = integral + 4 * Fn_val[i]\n",
    "            elif i == 2:\n",
    "                integral = integral + 2 * Fn_val[i]\n",
    "            elif i == 3:\n",
    "                integral = integral + 4 * Fn_val[i]\n",
    "            elif i == 4:\n",
    "                integral = integral + 2 * Fn_val[i]\n",
    "            elif i == 5:\n",
    "                integral = integral + 4 * Fn_val[i]\n",
    "            else :\n",
    "                integral = integral + Fn_val[i]\n",
    "    integral = integral * dx / 3.0\n",
    "\n",
    "    #integral = (Fn_val[0]+ 4 * Fn_val[1] + 2 * Fn_val[2] + 4 * Fn_val[3]+ Fn_val[4])*dx/3   \n",
    "        \n",
    "    return integral\n",
    "\n",
    "\n",
    "\n",
    "'''\n",
    "Note that in this case:\n",
    "Fn = Sqrt(x)\n",
    "n = number of subintervals = 4\n",
    "a = lower limit = 0\n",
    "b = upper limit = 2\n",
    "'''\n",
    "\n",
    "#Now let's call our defined simpson's integral function on our function to be integrated\n",
    "\n",
    "simp_int(sqrt,4,0,8)\n"
   ]
  },
  {
   "cell_type": "markdown",
   "id": "ee27d88f",
   "metadata": {},
   "source": [
    "`Example 3.2.7. Now let's look at another example:`\n",
    "\n",
    "Approximate the integral :\n",
    "$$\n",
    "\\int_{1}^{2} \\frac {dx}{x}\n",
    "$$\n",
    "\n",
    "using Simpson's Rule with $n = 2$ subintervals."
   ]
  },
  {
   "cell_type": "code",
   "execution_count": 14,
   "id": "7fe584ef",
   "metadata": {},
   "outputs": [
    {
     "data": {
      "text/plain": [
       "0.6944444444444443"
      ]
     },
     "execution_count": 14,
     "metadata": {},
     "output_type": "execute_result"
    }
   ],
   "source": [
    "#First let's define our main function to be integrated (1/x) as:\n",
    "\n",
    "def fn_1(x):\n",
    "    fn_1 = 1/x\n",
    "    return fn_1\n",
    "\n",
    "'''\n",
    "Note that in this case:\n",
    "Fn = 1/x\n",
    "n = 2\n",
    "a = 1\n",
    "b = 2\n",
    "'''\n",
    "#Now let's call our defined simpson's integral function on our function to be integrated\n",
    "\n",
    "simp_int(fn_1, 2, 1, 2 )\n"
   ]
  },
  {
   "cell_type": "markdown",
   "id": "80064cb0",
   "metadata": {},
   "source": [
    "`Example 3.0.9: A function` $f(x)$ `is given as a table of values. Approximate the area under the curve` $y = f(x)$ `from` $x = -4$ `and` $x = 8$ `using Simpson's Rule with` $n = 6$ `subintervals.`\n",
    "<img src=\"img/simp_eg3.jpg\" />\n",
    "`Here's the solution:`"
   ]
  },
  {
   "cell_type": "code",
   "execution_count": 16,
   "id": "b7e26760",
   "metadata": {},
   "outputs": [
    {
     "name": "stdout",
     "output_type": "stream",
     "text": [
      "The area under the curve y = f (x) is : 66.0\n"
     ]
    }
   ],
   "source": [
    "'''\n",
    "Note that our work becomes easier since the table of values have already been given.\n",
    "We straightforward substitute our values into the Simpson's formula\n",
    "'''\n",
    "a = -4 ; b =8\n",
    "\n",
    "dx = (8-(-4))/6\n",
    "\n",
    "#(f(x=0)+ 4f(x=1) + 2f(x=2) + 4f(x=3) + 2f(x=4) + 4f(x=5) + f(x=6)) * dx/3\n",
    "\n",
    "int_sum  =(1 + 4*3 + 2*4 + 4*4 + 2*6 + 4*9 + 14)\n",
    "ans = int_sum * dx/3\n",
    "print('The area under the curve y = f (x) is :', ans)"
   ]
  },
  {
   "cell_type": "markdown",
   "id": "a03b92b7",
   "metadata": {},
   "source": [
    "### Problems (Trials) ###\n",
    "\n",
    "*`Probem (Trial) 3.2.1: Write a program that uses the trapezoidal method to return the integral of a function over a given range, using a given number of sample points. The actual calculation should be a function of the form` $int_trap (f,dx)$ `, where` $f$ `is a list of function values and` $dx$ `is the slice width.`*\n",
    "\n",
    "\n",
    "*`Problem (Trial) 3.2.2: Find out other methods of numerical integration.`*\n",
    "\n",
    "\n",
    "*`Problem (Trial) 3.2.3: A function` $f(x)$ `is given by the table of values. Approximate the area under the curve` $y = f (x)$ `between` $x = 0$ `and` $x = 4$ `using Simpson's method with` $n = 4$ `subintervals`*\n",
    "<img src=\"img/prob_1.jpg\" /> \n",
    "\n",
    "*`Problem (Trial) 3.2.4: Approximate the area under the curve `*\n",
    "$$\n",
    " y = x^3\n",
    "$$\n",
    "`between` $x = -2$ `and` $x = 2$ `using Simpson's rule with` $n = 4$ `subintervals.`*\n",
    "\n",
    "\n",
    "*`Problem (Trial) 3.2.5: Compare the results of the simple integration method, the trapezoid integration method and Simpson's method of integration for the following integrals:`*\n",
    "\n",
    "$$\n",
    "\\int_{0}^{\\frac{\\pi}{2}} cos(x) dx \n",
    "$$\n",
    "\n",
    "$$\n",
    "\\int_{1}^{3} \\frac{1}{x^2} dx \n",
    "$$\n",
    "\n",
    "$$\n",
    "\\int_{2}^{4} (x^2 + x +1) dx \n",
    "$$\n",
    "\n",
    "$$\n",
    "\\int_{0}^{6.9} cos{\\frac {\\pi}{2}x^2} dx\n",
    "$$\n",
    "\n",
    "*`For each part, try it with more and with fewer slices to determine how many slices are required to give an ‘acceptable’ answer. (If you double the number of slices and still get the same answer, then try half as many, etc.) Parts (c) and (d) are particularly interesting in this regard. In your submitted work, describe roughly how many points\n",
    "were required, and explain.`*\n",
    "\n",
    "**Note : The last function in Problem 3.2.5  is the Fresnel Cosine Integral, used in optics. It may be helpful in understanding what’s going on with your\n",
    "integration if you make a graph of the function.**\n",
    "\n",
    "\n",
    "*`Problem (Trial) 3.2.6: Consider the integral: `*\n",
    "\n",
    "$$\n",
    "E(x) = \\int_{0}^{x} e^{-t^2} dt.\n",
    "$$\n",
    "\n",
    "`a) Write a program to calculate` $E(x)$ `for values of` $x$ `from 0 to 3 in steps of 0.1.\n",
    "Choose for yourself what method you will use for performing the integral and a\n",
    "suitable number of slices.`\n",
    "\n",
    "`b) When you are convinced your program is working, extend it further to make a\n",
    "graph of` $E(x)$ `as a function of` $x$ .\n",
    "\n",
    "**Note: There is no known way to perform this particular integral analytically, so\n",
    "numerical approaches are the only way forward.**"
   ]
  },
  {
   "cell_type": "code",
   "execution_count": null,
   "id": "a64d48b2",
   "metadata": {},
   "outputs": [],
   "source": []
  },
  {
   "cell_type": "code",
   "execution_count": null,
   "id": "8a4952a8",
   "metadata": {},
   "outputs": [],
   "source": []
  },
  {
   "cell_type": "code",
   "execution_count": null,
   "id": "0b76ac02",
   "metadata": {},
   "outputs": [],
   "source": []
  },
  {
   "cell_type": "code",
   "execution_count": null,
   "id": "2143ec08",
   "metadata": {},
   "outputs": [],
   "source": []
  }
 ],
 "metadata": {
  "kernelspec": {
   "display_name": "Python 3 (ipykernel)",
   "language": "python",
   "name": "python3"
  },
  "language_info": {
   "codemirror_mode": {
    "name": "ipython",
    "version": 3
   },
   "file_extension": ".py",
   "mimetype": "text/x-python",
   "name": "python",
   "nbconvert_exporter": "python",
   "pygments_lexer": "ipython3",
   "version": "3.8.12"
  }
 },
 "nbformat": 4,
 "nbformat_minor": 5
}
