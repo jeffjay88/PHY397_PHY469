{
 "cells": [
  {
   "cell_type": "markdown",
   "id": "8896315c",
   "metadata": {},
   "source": [
    "Symbolic Python (SYMPY)\n",
    "--"
   ]
  },
  {
   "cell_type": "markdown",
   "id": "92aee9de",
   "metadata": {},
   "source": [
    "i. Create symbols \n",
    "\n",
    "ii. Simplifying them\n",
    "\n",
    "iii. Expansion / Factorization\n",
    "\n",
    "iv. Differentials"
   ]
  },
  {
   "cell_type": "code",
   "execution_count": 1,
   "id": "00ffc09d",
   "metadata": {},
   "outputs": [],
   "source": [
    "import sympy as smp"
   ]
  },
  {
   "cell_type": "code",
   "execution_count": 8,
   "id": "5afa508e",
   "metadata": {},
   "outputs": [],
   "source": [
    "# Define Symbols\n",
    "x = smp.Symbol('x')\n",
    "y, z = smp.symbols(('y','z'), positive=True)"
   ]
  },
  {
   "cell_type": "code",
   "execution_count": 20,
   "id": "5a97f554",
   "metadata": {},
   "outputs": [
    {
     "name": "stdout",
     "output_type": "stream",
     "text": [
      "(x - 1)*(x + 5) ,\n",
      " 720\n"
     ]
    }
   ],
   "source": [
    "h = x**2 + 4*x - 5\n",
    "print(h.factor(), ',\\n', h.subs(x, 25))"
   ]
  },
  {
   "cell_type": "code",
   "execution_count": 16,
   "id": "d9ff8b32",
   "metadata": {},
   "outputs": [
    {
     "data": {
      "text/latex": [
       "$\\displaystyle 12167 \\left(x - 1\\right)^{2}$"
      ],
      "text/plain": [
       "12167*(x - 1)**2"
      ]
     },
     "execution_count": 16,
     "metadata": {},
     "output_type": "execute_result"
    }
   ],
   "source": [
    "((x-1)**2) * ((y-2)**3).expand().subs(y,25)"
   ]
  },
  {
   "cell_type": "code",
   "execution_count": null,
   "id": "e3e1cfa5",
   "metadata": {},
   "outputs": [],
   "source": []
  },
  {
   "cell_type": "code",
   "execution_count": 33,
   "id": "6873c7d5",
   "metadata": {},
   "outputs": [
    {
     "data": {
      "text/latex": [
       "$\\displaystyle 10$"
      ],
      "text/plain": [
       "10"
      ]
     },
     "execution_count": 33,
     "metadata": {},
     "output_type": "execute_result"
    }
   ],
   "source": [
    "h.diff().subs(x,3)"
   ]
  },
  {
   "cell_type": "code",
   "execution_count": 37,
   "id": "0bbe901b",
   "metadata": {},
   "outputs": [
    {
     "data": {
      "text/latex": [
       "$\\displaystyle y + 3 \\left(x + y\\right)^{2}$"
      ],
      "text/plain": [
       "y + 3*(x + y)**2"
      ]
     },
     "execution_count": 37,
     "metadata": {},
     "output_type": "execute_result"
    }
   ],
   "source": [
    "f = x*y + (x+y)**3\n",
    "f.diff(x)"
   ]
  },
  {
   "cell_type": "code",
   "execution_count": 51,
   "id": "01c09862",
   "metadata": {},
   "outputs": [
    {
     "data": {
      "text/latex": [
       "$\\displaystyle 2 x y \\sin^{2}{\\left(x y \\right)} - 2 x y \\cos^{2}{\\left(x y \\right)} - 2 \\sin{\\left(x y \\right)} \\cos{\\left(x y \\right)}$"
      ],
      "text/plain": [
       "2*x*y*sin(x*y)**2 - 2*x*y*cos(x*y)**2 - 2*sin(x*y)*cos(x*y)"
      ]
     },
     "execution_count": 51,
     "metadata": {},
     "output_type": "execute_result"
    }
   ],
   "source": [
    "f = smp.cos(x*y)**2\n",
    "f.diff(x,y).doit()"
   ]
  },
  {
   "cell_type": "markdown",
   "id": "43377cc1",
   "metadata": {},
   "source": [
    "$$f = cos^2(xy)$$\n",
    "\n",
    "Compute w.r.t x"
   ]
  },
  {
   "cell_type": "markdown",
   "id": "bf272a34",
   "metadata": {},
   "source": [
    "$$e^{\\frac{x}{y}}$$"
   ]
  },
  {
   "cell_type": "code",
   "execution_count": 48,
   "id": "9da00065",
   "metadata": {},
   "outputs": [
    {
     "data": {
      "text/latex": [
       "$\\displaystyle - \\frac{x e^{\\frac{x}{y}}}{y^{2}}$"
      ],
      "text/plain": [
       "-x*exp(x/y)/y**2"
      ]
     },
     "execution_count": 48,
     "metadata": {},
     "output_type": "execute_result"
    }
   ],
   "source": [
    "smp.exp(x/y).diff(y)"
   ]
  },
  {
   "cell_type": "code",
   "execution_count": null,
   "id": "5986e1d6",
   "metadata": {},
   "outputs": [],
   "source": []
  },
  {
   "cell_type": "markdown",
   "id": "5c7afe1e",
   "metadata": {},
   "source": [
    "$$f_{(x,y)} = cos^2(xy) - xye^{-\\frac{x}{y}}$$"
   ]
  },
  {
   "cell_type": "code",
   "execution_count": 53,
   "id": "f3584271",
   "metadata": {},
   "outputs": [
    {
     "data": {
      "text/latex": [
       "$\\displaystyle \\frac{x^{2} e^{- \\frac{x}{y}}}{y^{2}} + 2 x y \\sin^{2}{\\left(x y \\right)} - 2 x y \\cos^{2}{\\left(x y \\right)} - \\frac{x e^{- \\frac{x}{y}}}{y} - 2 \\sin{\\left(x y \\right)} \\cos{\\left(x y \\right)} - e^{- \\frac{x}{y}}$"
      ],
      "text/plain": [
       "x**2*exp(-x/y)/y**2 + 2*x*y*sin(x*y)**2 - 2*x*y*cos(x*y)**2 - x*exp(-x/y)/y - 2*sin(x*y)*cos(x*y) - exp(-x/y)"
      ]
     },
     "execution_count": 53,
     "metadata": {},
     "output_type": "execute_result"
    }
   ],
   "source": [
    "((smp.cos(x*y)**2) - (x*y*smp.exp(-x/y)) ).diff(x,y)"
   ]
  },
  {
   "cell_type": "code",
   "execution_count": null,
   "id": "76e2e7a9",
   "metadata": {},
   "outputs": [],
   "source": []
  },
  {
   "cell_type": "code",
   "execution_count": null,
   "id": "23d5a2b8",
   "metadata": {},
   "outputs": [],
   "source": []
  },
  {
   "cell_type": "code",
   "execution_count": null,
   "id": "6a47a588",
   "metadata": {},
   "outputs": [],
   "source": []
  },
  {
   "cell_type": "code",
   "execution_count": null,
   "id": "e38a4016",
   "metadata": {},
   "outputs": [],
   "source": []
  },
  {
   "cell_type": "code",
   "execution_count": null,
   "id": "eb9c77a4",
   "metadata": {},
   "outputs": [],
   "source": []
  },
  {
   "cell_type": "code",
   "execution_count": 2,
   "id": "3da93a83",
   "metadata": {},
   "outputs": [],
   "source": [
    "import sympy as smp\n"
   ]
  },
  {
   "cell_type": "code",
   "execution_count": 3,
   "id": "b6b3c8b2",
   "metadata": {},
   "outputs": [
    {
     "data": {
      "text/latex": [
       "$\\displaystyle x$"
      ],
      "text/plain": [
       "x"
      ]
     },
     "execution_count": 3,
     "metadata": {},
     "output_type": "execute_result"
    }
   ],
   "source": [
    "x = smp.Symbol('x')\n",
    "x"
   ]
  },
  {
   "cell_type": "code",
   "execution_count": 7,
   "id": "968c7ec2",
   "metadata": {},
   "outputs": [
    {
     "data": {
      "text/latex": [
       "$\\displaystyle y$"
      ],
      "text/plain": [
       "y"
      ]
     },
     "execution_count": 7,
     "metadata": {},
     "output_type": "execute_result"
    }
   ],
   "source": [
    "x,y = smp.symbols(('x','y'))\n",
    "x\n",
    "y"
   ]
  },
  {
   "cell_type": "code",
   "execution_count": 66,
   "id": "4c6cfe72",
   "metadata": {},
   "outputs": [
    {
     "data": {
      "text/latex": [
       "$\\displaystyle \\frac{x^{3}}{27} + x^{2} + 4 x + 4$"
      ],
      "text/plain": [
       "x**3/27 + x**2 + 4*x + 4"
      ]
     },
     "execution_count": 66,
     "metadata": {},
     "output_type": "execute_result"
    }
   ],
   "source": [
    "f = x**2 + 4*x -5\n",
    "f = (x+2)**2 + (x/3)**3\n",
    "f.expand().doit()"
   ]
  },
  {
   "cell_type": "code",
   "execution_count": 20,
   "id": "55ba5403",
   "metadata": {},
   "outputs": [
    {
     "data": {
      "text/latex": [
       "$\\displaystyle \\left(x - 1\\right) \\left(x + 5\\right)$"
      ],
      "text/plain": [
       "(x - 1)*(x + 5)"
      ]
     },
     "execution_count": 20,
     "metadata": {},
     "output_type": "execute_result"
    }
   ],
   "source": [
    "f.factor()"
   ]
  },
  {
   "cell_type": "code",
   "execution_count": 24,
   "id": "2de786a0",
   "metadata": {},
   "outputs": [
    {
     "data": {
      "text/latex": [
       "$\\displaystyle 8 x^{3} - 4 x^{2} + 15 x - 96$"
      ],
      "text/plain": [
       "8*x**3 - 4*x**2 + 15*x - 96"
      ]
     },
     "execution_count": 24,
     "metadata": {},
     "output_type": "execute_result"
    }
   ],
   "source": [
    "y = 8*x**3 - 4*x**2 + 15*x - 96\n",
    "y.factor()"
   ]
  },
  {
   "cell_type": "code",
   "execution_count": 28,
   "id": "32167189",
   "metadata": {},
   "outputs": [
    {
     "data": {
      "text/latex": [
       "$\\displaystyle 575$"
      ],
      "text/plain": [
       "575"
      ]
     },
     "execution_count": 28,
     "metadata": {},
     "output_type": "execute_result"
    }
   ],
   "source": [
    "z = y.diff()\n",
    "z.subs(x, 5)"
   ]
  },
  {
   "cell_type": "code",
   "execution_count": 32,
   "id": "9cba28da",
   "metadata": {},
   "outputs": [
    {
     "data": {
      "text/latex": [
       "$\\displaystyle \\frac{2}{a^{3}}$"
      ],
      "text/plain": [
       "2/a**3"
      ]
     },
     "execution_count": 32,
     "metadata": {},
     "output_type": "execute_result"
    }
   ],
   "source": [
    "y = 1/x\n",
    "z = y.diff().diff()\n",
    "a = smp.Symbol('a')\n",
    "z.subs(x,a)"
   ]
  },
  {
   "cell_type": "code",
   "execution_count": 38,
   "id": "3aacbb4d",
   "metadata": {},
   "outputs": [
    {
     "data": {
      "text/latex": [
       "$\\displaystyle 6$"
      ],
      "text/plain": [
       "6"
      ]
     },
     "execution_count": 38,
     "metadata": {},
     "output_type": "execute_result"
    }
   ],
   "source": [
    "y = 3*x**2*smp.cos(x/2)\n",
    "y.diff().diff().subs(x,0)"
   ]
  },
  {
   "cell_type": "markdown",
   "id": "5d8553c8",
   "metadata": {},
   "source": [
    "$$f_{(x,y)} = cos^2(xy) - xye^{-\\frac{x}{y}}$$"
   ]
  },
  {
   "cell_type": "code",
   "execution_count": null,
   "id": "4c8e31b6",
   "metadata": {},
   "outputs": [],
   "source": []
  },
  {
   "cell_type": "code",
   "execution_count": 46,
   "id": "df3169db",
   "metadata": {},
   "outputs": [
    {
     "data": {
      "text/latex": [
       "$\\displaystyle x e^{- \\frac{x}{y}} - 2 y \\sin{\\left(x y \\right)} \\cos{\\left(x y \\right)} - y e^{- \\frac{x}{y}}$"
      ],
      "text/plain": [
       "x*exp(-x/y) - 2*y*sin(x*y)*cos(x*y) - y*exp(-x/y)"
      ]
     },
     "execution_count": 46,
     "metadata": {},
     "output_type": "execute_result"
    }
   ],
   "source": [
    "x,y = smp.symbols(('x','y'))\n",
    "f_xy = smp.cos(x*y)**2 - x*y*smp.exp(-x/y)\n",
    "f_xy.diff(x)\n"
   ]
  },
  {
   "cell_type": "code",
   "execution_count": 45,
   "id": "4d9c8a53",
   "metadata": {},
   "outputs": [
    {
     "data": {
      "text/latex": [
       "$\\displaystyle - 2 y \\sin{\\left(x y \\right)} \\cos{\\left(x y \\right)}$"
      ],
      "text/plain": [
       "-2*y*sin(x*y)*cos(x*y)"
      ]
     },
     "execution_count": 45,
     "metadata": {},
     "output_type": "execute_result"
    }
   ],
   "source": [
    "(smp.cos(x*y)**2).diff(x)"
   ]
  },
  {
   "cell_type": "code",
   "execution_count": 47,
   "id": "de6ab6aa",
   "metadata": {},
   "outputs": [
    {
     "data": {
      "text/latex": [
       "$\\displaystyle x e^{- \\frac{x}{y}} - y e^{- \\frac{x}{y}}$"
      ],
      "text/plain": [
       "x*exp(-x/y) - y*exp(-x/y)"
      ]
     },
     "execution_count": 47,
     "metadata": {},
     "output_type": "execute_result"
    }
   ],
   "source": [
    "(- x*y*smp.exp(-x/y)).diff(x)"
   ]
  },
  {
   "cell_type": "code",
   "execution_count": null,
   "id": "af9a7f7f",
   "metadata": {},
   "outputs": [],
   "source": []
  }
 ],
 "metadata": {
  "kernelspec": {
   "display_name": "Python 3 (ipykernel)",
   "language": "python",
   "name": "python3"
  },
  "language_info": {
   "codemirror_mode": {
    "name": "ipython",
    "version": 3
   },
   "file_extension": ".py",
   "mimetype": "text/x-python",
   "name": "python",
   "nbconvert_exporter": "python",
   "pygments_lexer": "ipython3",
   "version": "3.8.12"
  }
 },
 "nbformat": 4,
 "nbformat_minor": 5
}
