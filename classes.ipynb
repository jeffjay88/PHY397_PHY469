{
 "cells": [
  {
   "cell_type": "markdown",
   "id": "ffd5c3e2",
   "metadata": {},
   "source": [
    "# Classes / Objects in Python\n",
    "\n",
    "<b>Create a Class</b> <br />\n",
    "To create a class, use the keyword class:\n"
   ]
  },
  {
   "cell_type": "code",
   "execution_count": 1,
   "id": "86b9a55c",
   "metadata": {},
   "outputs": [],
   "source": [
    "class SampleClass:\n",
    "    pass"
   ]
  },
  {
   "cell_type": "code",
   "execution_count": 2,
   "id": "30d94ee2",
   "metadata": {},
   "outputs": [
    {
     "data": {
      "text/plain": [
       "__main__.SampleClass"
      ]
     },
     "execution_count": 2,
     "metadata": {},
     "output_type": "execute_result"
    }
   ],
   "source": [
    "SampleClass"
   ]
  },
  {
   "cell_type": "code",
   "execution_count": 3,
   "id": "b7460bfe",
   "metadata": {},
   "outputs": [],
   "source": [
    "class SampleClass:\n",
    "    x = 5\n",
    "    y = 10\n",
    "    z = x * y"
   ]
  },
  {
   "cell_type": "code",
   "execution_count": 4,
   "id": "e9a781eb",
   "metadata": {},
   "outputs": [
    {
     "data": {
      "text/plain": [
       "5"
      ]
     },
     "execution_count": 4,
     "metadata": {},
     "output_type": "execute_result"
    }
   ],
   "source": [
    "SampleClass.x"
   ]
  },
  {
   "cell_type": "code",
   "execution_count": 5,
   "id": "fce76d13",
   "metadata": {},
   "outputs": [
    {
     "data": {
      "text/plain": [
       "50"
      ]
     },
     "execution_count": 5,
     "metadata": {},
     "output_type": "execute_result"
    }
   ],
   "source": [
    "SampleClass.z"
   ]
  },
  {
   "cell_type": "markdown",
   "id": "fdacef5e",
   "metadata": {},
   "source": [
    "# Create an object from the Class"
   ]
  },
  {
   "cell_type": "code",
   "execution_count": 6,
   "id": "43e206c4",
   "metadata": {},
   "outputs": [
    {
     "data": {
      "text/plain": [
       "50"
      ]
     },
     "execution_count": 6,
     "metadata": {},
     "output_type": "execute_result"
    }
   ],
   "source": [
    "sc = SampleClass()\n",
    "sc.z"
   ]
  },
  {
   "cell_type": "markdown",
   "id": "0c9a2231",
   "metadata": {},
   "source": [
    "# The __init__() Function\n",
    "\n",
    "***Use the __init__() function to assign values to object properties, or other operations that are necessary to do when the object is being created***\n",
    "<br />\n",
    "\n",
    "***Note: The __init__() function is called automatically every time the class is being used to create a new object.***"
   ]
  },
  {
   "cell_type": "code",
   "execution_count": 7,
   "id": "6c672f08",
   "metadata": {},
   "outputs": [
    {
     "data": {
      "text/plain": [
       "10"
      ]
     },
     "execution_count": 7,
     "metadata": {},
     "output_type": "execute_result"
    }
   ],
   "source": [
    "class Area_of_Triangle:\n",
    "  def __init__(self, b, h):\n",
    "    self.b = b\n",
    "    self.h = h\n",
    "\n",
    "\n",
    "area = Area_of_Triangle(5, 10)\n",
    "\n",
    "area.h"
   ]
  },
  {
   "cell_type": "code",
   "execution_count": 16,
   "id": "e72c6209",
   "metadata": {},
   "outputs": [
    {
     "data": {
      "text/plain": [
       "'10'"
      ]
     },
     "execution_count": 16,
     "metadata": {},
     "output_type": "execute_result"
    }
   ],
   "source": [
    "a1 = Area_of_Triangle('5','10')\n",
    "a1.h"
   ]
  },
  {
   "cell_type": "code",
   "execution_count": 19,
   "id": "10c07ef3",
   "metadata": {},
   "outputs": [
    {
     "name": "stdout",
     "output_type": "stream",
     "text": [
      "The area of triangle ABC with height, 10 and base of 5 is 50\n"
     ]
    }
   ],
   "source": [
    "print( f\"The area of triangle ABC with height, {area.h} and base of {area.b} is {area.h*area.b}\")"
   ]
  },
  {
   "cell_type": "code",
   "execution_count": null,
   "id": "a3db38ba",
   "metadata": {},
   "outputs": [],
   "source": []
  },
  {
   "cell_type": "code",
   "execution_count": 45,
   "id": "53c259d0",
   "metadata": {},
   "outputs": [],
   "source": [
    "class Circle:\n",
    "    def __init__(self, r):\n",
    "        self.r = r\n",
    "        \n",
    "    def area(self):\n",
    "        print(f\"Area of Circle with radius ({self.r}) = {(22/7)*float(self.r)**2} \")\n",
    "\n",
    "    def circumference(self):\n",
    "        print(f\"Circumference of Circle with radius ({self.r}) = {2*(22/7)*float(self.r)} \")\n",
    "        \n",
    "    def diameter(self):\n",
    "        print(f\"Diameter of Circle with radius ({self.r}) = {2*float(self.r)} \")\n"
   ]
  },
  {
   "cell_type": "code",
   "execution_count": 46,
   "id": "7cdd31a7",
   "metadata": {},
   "outputs": [
    {
     "name": "stdout",
     "output_type": "stream",
     "text": [
      "Area of Circle with radius (7) = 154.0 \n",
      "Circumference of Circle with radius (7) = 44.0 \n",
      "Diameter of Circle with radius (7) = 14.0 \n",
      "None None None\n"
     ]
    }
   ],
   "source": [
    "p1 = Circle(r=7)\n",
    "print(p1.area(), p1.circumference(), p1.diameter())"
   ]
  },
  {
   "cell_type": "code",
   "execution_count": 49,
   "id": "c03f9f75",
   "metadata": {},
   "outputs": [],
   "source": [
    "p1.r = 21"
   ]
  },
  {
   "cell_type": "code",
   "execution_count": 50,
   "id": "9b8ec4e6",
   "metadata": {},
   "outputs": [
    {
     "name": "stdout",
     "output_type": "stream",
     "text": [
      "Diameter of Circle with radius (21) = 42.0 \n"
     ]
    }
   ],
   "source": [
    "p1.diameter()"
   ]
  },
  {
   "cell_type": "code",
   "execution_count": 44,
   "id": "d8abefc9",
   "metadata": {},
   "outputs": [
    {
     "name": "stdout",
     "output_type": "stream",
     "text": [
      "Area of Circle with radius (7) = 154.0 \n",
      "Circumference of Circle with radius (7) = 44.0 \n",
      "Diameter of Circle with radius (7) = 14.0 \n",
      "None None None\n"
     ]
    }
   ],
   "source": [
    "print(p1.area(), p1.circumference(), p1.diameter())"
   ]
  },
  {
   "cell_type": "code",
   "execution_count": null,
   "id": "fd1a74a7",
   "metadata": {},
   "outputs": [],
   "source": []
  },
  {
   "attachments": {
    "image.png": {
     "image/png": "[encoded data removed]"
    }
   },
   "cell_type": "markdown",
   "id": "92390a31",
   "metadata": {},
   "source": [
    "<h1> Trial Question </h1>\n",
    "<h3> 1-D Harmonic Oscillation </h3>\n",
    "\n",
    "![image.png](attachment:image.png)\n",
    "\n",
    "Using ***Python classes and numerical methods***, simulate the motion of a one-dimensional harmonic oscillator with a mass of 1 kg, a spring constant of 2 N/m, an initial position of 1 m, and an initial velocity of 0 m/s. \n",
    "\n",
    " - Plot the position and velocity of the oscillator as a function of time for a duration of 10 seconds, using a time step of 0.01 seconds.  <br /><br />\n",
    "\n",
    " - Provide a brief explanation of your implementation and discuss the observed motion based on the plotted results.\n",
    " \n",
    " \n",
    "\n",
    "\n",
    "<br /><br /><br />\n",
    "***Key Expressions (How To)*** <br />\n",
    "In this problem, you are asked to simulate the motion of a one-dimensional harmonic oscillator using the following equation of motion:\n",
    "\n",
    "$$F = -k \\times x$$\n",
    "\n",
    "where F is the restoring force, k is the spring constant, and x is the displacement from the equilibrium position. The force acting on the mass can be related to its acceleration (a) through Newton's second law:\n",
    "\n",
    "$$F = m * a$$\n",
    "\n",
    "where m is the mass of the oscillator. Combining these two equations gives:\n",
    "\n",
    "$$m * a = -k * x$$\n",
    "\n",
    "or\n",
    "\n",
    "$$a = -(k/m) * x$$"
   ]
  },
  {
   "cell_type": "code",
   "execution_count": 1,
   "id": "b1730c2a",
   "metadata": {},
   "outputs": [],
   "source": [
    "import numpy as np\n",
    "import matplotlib.pyplot as plt"
   ]
  },
  {
   "cell_type": "markdown",
   "id": "c0238f8b",
   "metadata": {},
   "source": [
    "# Build A Class For The Harmonic Oscillation"
   ]
  },
  {
   "cell_type": "code",
   "execution_count": 11,
   "id": "7f61548e",
   "metadata": {},
   "outputs": [],
   "source": [
    "class HarmonicOscillator:\n",
    "    def __init__(self, mass, spring_constant, initial_position, initial_velocity):\n",
    "        self.mass = mass\n",
    "        self.spring_constant = spring_constant\n",
    "        self.position = initial_position\n",
    "        self.velocity = initial_velocity\n",
    "\n",
    "    def acceleration(self):\n",
    "        return -self.spring_constant * self.position / self.mass\n",
    "\n",
    "    def update(self, dt):\n",
    "        self.velocity += self.acceleration() * dt\n",
    "        self.position += self.velocity * dt\n",
    "\n",
    "class Simulation:\n",
    "    def __init__(self, oscillator, time_step, total_time):\n",
    "        self.oscillator = oscillator\n",
    "        self.time_step = time_step\n",
    "        self.total_time = total_time\n",
    "        self.time = np.arange(0, total_time, time_step)\n",
    "        self.positions = np.zeros_like(self.time)\n",
    "        self.velocities = np.zeros_like(self.time)\n",
    "        self.accelerations = np.zeros_like(self.time)  # Store acceleration data\n",
    "\n",
    "\n",
    "    def run(self):\n",
    "        for i, t in enumerate(self.time):\n",
    "            self.positions[i] = self.oscillator.position\n",
    "            self.velocities[i] = self.oscillator.velocity\n",
    "            self.accelerations[i] = self.oscillator.acceleration()  # Save acceleration at each time step\n",
    "            self.oscillator.update(self.time_step)\n",
    "\n"
   ]
  },
  {
   "cell_type": "code",
   "execution_count": 12,
   "id": "ffa00065",
   "metadata": {},
   "outputs": [],
   "source": [
    "# Create a harmonic oscillator instance with mass=1, spring_constant=2, initial_position=1, and initial_velocity=0\n",
    "oscillator = HarmonicOscillator(1, 2, 1, 0)\n",
    "\n",
    "# Create a simulation instance with the oscillator, time_step=0.01, and total_time=10\n",
    "simulation = Simulation(oscillator, 0.01, 10)\n",
    "\n",
    "# Run the simulation\n",
    "simulation.run()"
   ]
  },
  {
   "cell_type": "markdown",
   "id": "eb468482",
   "metadata": {},
   "source": [
    "# Visualization"
   ]
  },
  {
   "cell_type": "code",
   "execution_count": 13,
   "id": "60734539",
   "metadata": {},
   "outputs": [
    {
     "data": {
      "image/png": "[encoded data removed]",
      "text/plain": [
       "<Figure size 432x288 with 1 Axes>"
      ]
     },
     "metadata": {
      "needs_background": "light"
     },
     "output_type": "display_data"
    }
   ],
   "source": [
    "# Plot the results using matplotlib\n",
    "\n",
    "plt.figure()\n",
    "plt.plot(simulation.time, simulation.positions, label=\"Position\")\n",
    "plt.plot(simulation.time, simulation.velocities, label=\"Velocity\")\n",
    "plt.plot(simulation.time, simulation.accelerations, label=\"Acceleration\")  # Plot acceleration data\n",
    "\n",
    "plt.xlabel(\"Time\")\n",
    "plt.ylabel(\"Value\")\n",
    "plt.legend()\n",
    "plt.show()\n"
   ]
  },
  {
   "cell_type": "code",
   "execution_count": null,
   "id": "15fdcd38",
   "metadata": {},
   "outputs": [],
   "source": []
  },
  {
   "cell_type": "markdown",
   "id": "c56f3308",
   "metadata": {},
   "source": [
    "# Trial Question 2"
   ]
  },
  {
   "cell_type": "markdown",
   "id": "6540fb51",
   "metadata": {},
   "source": [
    "A container with a volume of 1 m³ holds an ideal gas at an initial pressure of 1.5 x 10^5 Pa and a temperature of 300 K. The gas undergoes an isothermal expansion at constant temperature until its final volume is 3 m³. Calculate the final pressure and the work done by the gas during the expansion. Use the following equation for the isothermal process of an ideal gas:\n",
    "\n",
    "$$PV = nRT$$\n",
    "\n",
    "where $P$ is the pressure, $V$ is the volume, $n$ is the number of moles, $R$ is the gas constant, and $T$ is the temperature.\n",
    "\n",
    "Assume that the gas constant $R$ = 8.314 $J/(mol \\ K)$ and the molar mass of the gas is 28.97 $g/mol$.\n",
    "\n",
    "Provide a Python script to perform the calculations and plot the pressure-volume curve during the expansion."
   ]
  },
  {
   "cell_type": "code",
   "execution_count": 14,
   "id": "d396b130",
   "metadata": {},
   "outputs": [],
   "source": [
    "import numpy as np\n",
    "import matplotlib.pyplot as plt\n",
    "\n",
    "class IdealGas:\n",
    "    def __init__(self, P_initial, V_initial, T, molar_mass):\n",
    "        self.R = 8.314  # Gas constant in J/(mol*K)\n",
    "        self.P_initial = P_initial\n",
    "        self.V_initial = V_initial\n",
    "        self.T = T\n",
    "        self.molar_mass = molar_mass\n",
    "        self.n = (P_initial * V_initial) / (self.R * T)  # Calculate the number of moles (n)\n",
    "\n",
    "    def final_pressure(self, V_final):\n",
    "        return (self.n * self.R * self.T) / V_final\n",
    "\n",
    "    def work_done(self, V_final):\n",
    "        return self.n * self.R * self.T * np.log(V_final / self.V_initial)\n",
    "\n",
    "    def plot_isotherm(self, V_final):\n",
    "        volumes = np.linspace(self.V_initial, V_final, 100)\n",
    "        pressures = self.n * self.R * self.T / volumes\n",
    "\n",
    "        plt.figure()\n",
    "        plt.plot(volumes, pressures, label=\"Isothermal Expansion\")\n",
    "        plt.xlabel(\"Volume (m^3)\")\n",
    "        plt.ylabel(\"Pressure (Pa)\")\n",
    "        plt.title(\"Pressure-Volume Curve for Isothermal Expansion\")\n",
    "        plt.legend()\n",
    "        plt.show()\n",
    "\n"
   ]
  },
  {
   "cell_type": "code",
   "execution_count": 15,
   "id": "60ece552",
   "metadata": {},
   "outputs": [
    {
     "name": "stdout",
     "output_type": "stream",
     "text": [
      "Final pressure: 50000.00000000001 Pa\n",
      "Work done: 164791.8433002165 J\n"
     ]
    },
    {
     "data": {
      "image/png": "[encoded data removed]",
      "text/plain": [
       "<Figure size 432x288 with 1 Axes>"
      ]
     },
     "metadata": {
      "needs_background": "light"
     },
     "output_type": "display_data"
    }
   ],
   "source": [
    "# Create an IdealGas instance with initial pressure, initial volume, temperature, and molar mass\n",
    "gas = IdealGas(P_initial=1.5e5, V_initial=1, T=300, molar_mass=28.97e-3)\n",
    "\n",
    "V_final = 3  # Final volume in m^3\n",
    "\n",
    "# Calculate the final pressure and work done\n",
    "P_final = gas.final_pressure(V_final)\n",
    "W = gas.work_done(V_final)\n",
    "\n",
    "# Print the results\n",
    "print(f\"Final pressure: {P_final} Pa\")\n",
    "print(f\"Work done: {W} J\")\n",
    "\n",
    "# Plot the isotherm\n",
    "gas.plot_isotherm(V_final)\n"
   ]
  },
  {
   "cell_type": "code",
   "execution_count": null,
   "id": "1b950e24",
   "metadata": {},
   "outputs": [],
   "source": []
  },
  {
   "cell_type": "code",
   "execution_count": null,
   "id": "56c94e49",
   "metadata": {},
   "outputs": [],
   "source": []
  },
  {
   "cell_type": "code",
   "execution_count": null,
   "id": "b85fc338",
   "metadata": {},
   "outputs": [],
   "source": []
  }
 ],
 "metadata": {
  "kernelspec": {
   "display_name": "Python 3 (ipykernel)",
   "language": "python",
   "name": "python3"
  },
  "language_info": {
   "codemirror_mode": {
    "name": "ipython",
    "version": 3
   },
   "file_extension": ".py",
   "mimetype": "text/x-python",
   "name": "python",
   "nbconvert_exporter": "python",
   "pygments_lexer": "ipython3",
   "version": "3.8.12"
  }
 },
 "nbformat": 4,
 "nbformat_minor": 5
}
