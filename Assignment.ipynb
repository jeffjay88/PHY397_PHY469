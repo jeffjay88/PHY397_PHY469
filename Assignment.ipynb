{
 "cells": [
  {
   "cell_type": "markdown",
   "id": "6d656ba2",
   "metadata": {},
   "source": [
    "<font color=\"blue\"><h1>ASSIGNMENT</h1></font>\n"
   ]
  },
  {
   "cell_type": "markdown",
   "id": "e898a5c3",
   "metadata": {},
   "source": [
    "# Question 1\n",
    "\n",
    "Write a Python code to numerically solve the time-independent Schrödinger equation for a particle in a one-dimensional potential well. The potential energy function is given by:\n",
    "\n",
    "\n",
    "V(x) = { 0         , for 0 $\\leq$ x $\\leq$ a <br />\n",
    " &nbsp;&nbsp;&nbsp;&nbsp;&nbsp;&nbsp;       V$_0$       , for a $\\lt$ x $\\leq$ b <br />\n",
    " &nbsp;&nbsp;&nbsp;&nbsp;&nbsp;&nbsp;       infinity  , for x $\\lt$ 0 or x $\\gt$ b <br />\n",
    "      } <br />\n",
    "\n",
    "where a and b are the width of the well and the total width of the system, respectively, and V$_0$ is the height of the potential barrier. <br />\n",
    "\n",
    "Use the finite difference method to discretize the wavefunction and the potential energy function, and solve the resulting eigenvalue problem using the numpy library. Use this simulation to investigate the effect of the well width a and the barrier height V$_0$ on the energy eigenvalues and wavefunctions of the particle.<br />\n",
    "\n",
    "Additionally, use the matplotlib library to plot the energy eigenvalues and wavefunctions as a function of a and V$_0$, and discuss the physical significance of the results.\n",
    "\n",
    "\n",
    "***Make Use of Classes for your solution***"
   ]
  },
  {
   "cell_type": "markdown",
   "id": "5694b109",
   "metadata": {},
   "source": [
    "# Instruction: \n",
    "\n",
    "For this assignment, submission must be done via Github.\n",
    "Create a Guthub account and an Assignment repo. A google sheet will be circulated. On the Google sheet, enter your Github URL. Ensure that the URL is correctly inserted. <br />\n",
    "\n",
    "\n",
    "Your submission should follow the structure below. You are at liberty to include images or text as you deem fit. However, they must be sound and relate to the topic. <br />\n",
    "\n",
    "<h3> Deadline: 3rd May 2023 (12:00 Midday) </h3>"
   ]
  },
  {
   "cell_type": "markdown",
   "id": "5109d554",
   "metadata": {},
   "source": [
    "<font color=\"red\"><h2> Background</h2></font>\n",
    "\n",
    "- Briefly describe what Computational Physics is (A Brief Bakground)<br />\n",
    "- Link it to the task you have been given <br />\n",
    "- Outline your objectives for this study"
   ]
  },
  {
   "cell_type": "code",
   "execution_count": null,
   "id": "e220b1ce",
   "metadata": {},
   "outputs": [],
   "source": []
  },
  {
   "cell_type": "markdown",
   "id": "24dfba51",
   "metadata": {},
   "source": [
    "<font color=\"red\"><h2> Method and Results </h2></font>\n",
    "\n",
    "- Solve the question here and discuss the results <br />\n"
   ]
  },
  {
   "cell_type": "code",
   "execution_count": null,
   "id": "5ef23a10",
   "metadata": {},
   "outputs": [],
   "source": []
  },
  {
   "cell_type": "markdown",
   "id": "6653056a",
   "metadata": {},
   "source": [
    "<font color=\"red\"><h2> Conclusion </h2></font>\n",
    "\n",
    "- Give a brief conclusion. <br />\n",
    "- Also, discuss your learning journey. Highlight your challenges and great moments. <br />\n"
   ]
  },
  {
   "cell_type": "code",
   "execution_count": null,
   "id": "32bfdf65",
   "metadata": {},
   "outputs": [],
   "source": []
  },
  {
   "cell_type": "markdown",
   "id": "c47149fb",
   "metadata": {},
   "source": [
    "<font color=\"red\"><h2> Recommendation(s) </h2></font>\n",
    "\n",
    "- What area(s) do you suggest the class covers? <br />\n"
   ]
  },
  {
   "cell_type": "code",
   "execution_count": null,
   "id": "bc093814",
   "metadata": {},
   "outputs": [],
   "source": []
  }
 ],
 "metadata": {
  "kernelspec": {
   "display_name": "Python 3 (ipykernel)",
   "language": "python",
   "name": "python3"
  },
  "language_info": {
   "codemirror_mode": {
    "name": "ipython",
    "version": 3
   },
   "file_extension": ".py",
   "mimetype": "text/x-python",
   "name": "python",
   "nbconvert_exporter": "python",
   "pygments_lexer": "ipython3",
   "version": "3.8.12"
  }
 },
 "nbformat": 4,
 "nbformat_minor": 5
}
