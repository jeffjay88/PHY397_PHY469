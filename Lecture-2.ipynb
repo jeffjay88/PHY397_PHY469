{
 "cells": [
  {
   "cell_type": "markdown",
   "id": "55eaae54",
   "metadata": {},
   "source": [
    "Lecture 2\n",
    "--\n",
    "\n",
    "*notebook by Jeffrey N. A. Aryee (PhD)*\n",
    "\n",
    "<h3>Study Objectives</h3>\n",
    "At the end of this lesson, participants should be able to: <br />\n",
    "<ul>\n",
    "    <li>Differentiate iteration forms and apply useful iterations, where necessary </li>\n",
    "    <li>Control iterations </li>\n",
    "    <li>Build and utilize self-defined functions</li>\n",
    "</ul>\n",
    "\n",
    "<h3>Let's Get Started!!! :)</h3>\n",
    "\n",
    "\n",
    "\n",
    "\n",
    "\n"
   ]
  },
  {
   "cell_type": "markdown",
   "id": "159a83f7",
   "metadata": {},
   "source": [
    "# Iterations / Loops\n",
    "\n",
    "<img align='right' width=150px src='img/lecture-2/loop.png'>\n",
    "\n",
    "Humans hate too much repetition. Therefore, repetitious tasks should be performed by computers. All programming languages support repetitions. The general class of programming constructs that allow the definition of repetitions are called \"iterations.” A term which is even more common for such tasks is “loops.” In general, statements are executed sequentially. Programming languages provide various control structures that allow for more complicated execution paths. A loop statement allows us to execute a statement or group of statements multiple times.\n",
    "\n",
    "\n",
    "Types of loops :\n",
    " 1. While Loop\n",
    " 2. For Loop\n",
    " 3. Nested Loop\n",
    "\n",
    "# While Loop\n",
    "A statement or group of statement in a while loop execute if the condition of the loop is True and stops if the condition no longer True. The condition is tested before the loop body executes.\n",
    "<br />\n",
    "<h4 style=\"color:#00f\"><big> While loop syntax </big></h4>\n",
    "iterator<br />\n",
    "while expression_is_True: <br />\n",
    "    &nbsp; &nbsp; &nbsp; &nbsp; statement(s) <br />\n",
    "    &nbsp; &nbsp; &nbsp; &nbsp; iterator increment\n",
    "<br />"
   ]
  },
  {
   "cell_type": "code",
   "execution_count": 5,
   "id": "32ab293b",
   "metadata": {},
   "outputs": [
    {
     "data": {
      "text/plain": [
       "3"
      ]
     },
     "execution_count": 5,
     "metadata": {},
     "output_type": "execute_result"
    }
   ],
   "source": [
    "a = a + 1\n",
    "a"
   ]
  },
  {
   "cell_type": "code",
   "execution_count": 11,
   "id": "9f551a75",
   "metadata": {},
   "outputs": [
    {
     "data": {
      "text/plain": [
       "-1"
      ]
     },
     "execution_count": 11,
     "metadata": {},
     "output_type": "execute_result"
    }
   ],
   "source": [
    "a = 0\n",
    "#a = a + 1\n",
    "a-=1   #a = a-1\n",
    "a"
   ]
  },
  {
   "cell_type": "code",
   "execution_count": 12,
   "id": "b06c668f",
   "metadata": {},
   "outputs": [
    {
     "name": "stdout",
     "output_type": "stream",
     "text": [
      "1\n",
      "2\n",
      "3\n",
      "4\n",
      "5\n",
      "6\n"
     ]
    }
   ],
   "source": [
    "i = 0\n",
    "while i<=5:\n",
    "    i+=1\n",
    "    print(i)"
   ]
  },
  {
   "cell_type": "code",
   "execution_count": 7,
   "id": "c867f2fd",
   "metadata": {},
   "outputs": [
    {
     "name": "stdout",
     "output_type": "stream",
     "text": [
      "0\n",
      "1\n",
      "2\n",
      "3\n",
      "4\n",
      "5\n"
     ]
    }
   ],
   "source": [
    "i = 0\n",
    "while i<=5:\n",
    "    print(i)\n",
    "    i = i+1"
   ]
  },
  {
   "cell_type": "code",
   "execution_count": 2,
   "id": "ea38192f",
   "metadata": {
    "scrolled": true
   },
   "outputs": [
    {
     "name": "stdout",
     "output_type": "stream",
     "text": [
      "1\n",
      "2\n",
      "3\n",
      "4\n",
      "5\n"
     ]
    }
   ],
   "source": [
    "x = 1\n",
    "while x < 6:\n",
    "    print(x)\n",
    "    x = x + 1"
   ]
  },
  {
   "cell_type": "code",
   "execution_count": 3,
   "id": "bedd5eb6",
   "metadata": {},
   "outputs": [
    {
     "name": "stdout",
     "output_type": "stream",
     "text": [
      "1\n",
      "2\n",
      "3\n",
      "4\n",
      "5\n"
     ]
    }
   ],
   "source": [
    "x = 1\n",
    "while x < 6:\n",
    "    print(x)\n",
    "    x += 1"
   ]
  },
  {
   "cell_type": "code",
   "execution_count": 13,
   "id": "32e5e1ea",
   "metadata": {
    "scrolled": true
   },
   "outputs": [
    {
     "name": "stdout",
     "output_type": "stream",
     "text": [
      "x is  1\n",
      "x is  2\n",
      "x is  3\n",
      "x is  4\n",
      "x is  5\n",
      "x is  6\n",
      "x is  7\n",
      "x is no longer < 8\n"
     ]
    }
   ],
   "source": [
    "x = 1 \n",
    "while x < 8:\n",
    "    print(\"x is \",x)\n",
    "    x += 1\n",
    "else:\n",
    "    print(\"x is no longer < 8\")"
   ]
  },
  {
   "cell_type": "markdown",
   "id": "00b22e72",
   "metadata": {},
   "source": [
    "`Trial Exercise 2.1: `<br />\n",
    "Using while loop, find the equvalence of the degree Celcius values for $ C $, where $10 < C < 70 $ in Fahrenheit_degrees $F$. For each $C$, print its corresponding value in $F$ too.\n",
    "\n",
    "<p> C should have an interval of 5 </p>\n",
    "\n",
    "$$ F= \\frac{9C}{5}+ 32$$\n"
   ]
  },
  {
   "cell_type": "code",
   "execution_count": 19,
   "id": "e9ffca8e",
   "metadata": {},
   "outputs": [
    {
     "name": "stdout",
     "output_type": "stream",
     "text": [
      "The Fahrenheit equivalence of 11 degree Celcius is 51.8\n",
      "The Fahrenheit equivalence of 16 degree Celcius is 60.8\n",
      "The Fahrenheit equivalence of 21 degree Celcius is 69.8\n",
      "The Fahrenheit equivalence of 26 degree Celcius is 78.8\n",
      "The Fahrenheit equivalence of 31 degree Celcius is 87.8\n",
      "The Fahrenheit equivalence of 36 degree Celcius is 96.8\n",
      "The Fahrenheit equivalence of 41 degree Celcius is 105.8\n",
      "The Fahrenheit equivalence of 46 degree Celcius is 114.8\n",
      "The Fahrenheit equivalence of 51 degree Celcius is 123.8\n",
      "The Fahrenheit equivalence of 56 degree Celcius is 132.8\n",
      "The Fahrenheit equivalence of 61 degree Celcius is 141.8\n",
      "The Fahrenheit equivalence of 66 degree Celcius is 150.8\n"
     ]
    }
   ],
   "source": [
    "#PEMDAS\n",
    "T_C = 11\n",
    "while T_C<70:\n",
    "    #action\n",
    "    T_F = ( (9*T_C)/5 ) + 32\n",
    "    #print('The Fahrenheit equivalence of ',T_C,' degree Celcius is ',T_F)\n",
    "    print('The Fahrenheit equivalence of {cel} degree Celcius is {fahr}'.format(cel=T_C, fahr=T_F))\n",
    "    \n",
    "    \n",
    "    T_C += 5"
   ]
  },
  {
   "cell_type": "code",
   "execution_count": null,
   "id": "7994253b",
   "metadata": {},
   "outputs": [],
   "source": []
  },
  {
   "cell_type": "code",
   "execution_count": 20,
   "id": "e16af3ff",
   "metadata": {},
   "outputs": [
    {
     "name": "stdout",
     "output_type": "stream",
     "text": [
      "11 51.8\n",
      "16 60.8\n",
      "21 69.8\n",
      "26 78.8\n",
      "31 87.8\n",
      "36 96.8\n",
      "41 105.8\n",
      "46 114.8\n",
      "51 123.8\n",
      "56 132.8\n",
      "61 141.8\n",
      "66 150.8\n"
     ]
    }
   ],
   "source": [
    "T = 11   #Initial Temperature in Fahrenheit\n",
    "while T<70:\n",
    "    F = ((9*T)/5) + 32\n",
    "    print(T, F)\n",
    "    T+=5"
   ]
  },
  {
   "cell_type": "markdown",
   "id": "ca522bad",
   "metadata": {},
   "source": [
    "`Trial Example 2.2:`<br />\n",
    "Using the while loop, with a combination of conditions, print out all prime numbers lesser than a given number."
   ]
  },
  {
   "cell_type": "code",
   "execution_count": 25,
   "id": "ba667e82",
   "metadata": {},
   "outputs": [
    {
     "name": "stdout",
     "output_type": "stream",
     "text": [
      "Enter a whole number: 10\n",
      "Prime Numbers Between 1 and 10\n",
      "2\n",
      "3\n",
      "5\n",
      "7\n"
     ]
    }
   ],
   "source": [
    "value = int( input('Enter a whole number: ') )\n",
    "\n",
    "n = 2\n",
    "#print('Prime Numbers Between 1 and '+str(value))\n",
    "print('Prime Numbers Between 1 and {}'.format(value))\n",
    "while n < value:\n",
    "    m = 2\n",
    "    count = 0\n",
    "    while m <= n//2:\n",
    "        if n%m == 0:\n",
    "            count+=1\n",
    "        m+=1\n",
    "    print(n) if count==0 else ''\n",
    "    n+=1"
   ]
  },
  {
   "cell_type": "markdown",
   "id": "10e0f9ae",
   "metadata": {},
   "source": [
    "# For Loop\n",
    "The Nature of For Loops. When data are collected in a list, we often want to perform the same operations on each element in the list. We then need to walk through all list elements. Computer languages have a special construct for doing this conveniently, and this construct is in Python and many other languages called a for loop.\n",
    "<p>The for-loop allows to iterate over a sequence (this could be a string or a list, for example). Here\n",
    "is an example:</p>"
   ]
  },
  {
   "cell_type": "markdown",
   "id": "fe1f146d",
   "metadata": {},
   "source": [
    "for iterator in sequence: <br/>\n",
    "    &nbsp;&nbsp;&nbsp;&nbsp;action"
   ]
  },
  {
   "cell_type": "code",
   "execution_count": 27,
   "id": "eb12b5d6",
   "metadata": {
    "scrolled": true
   },
   "outputs": [
    {
     "name": "stdout",
     "output_type": "stream",
     "text": [
      "P\n",
      "Y\n",
      "T\n",
      "H\n",
      "O\n",
      "N\n"
     ]
    }
   ],
   "source": [
    "# Example with a string\n",
    "Language = \"PYTHON PROGRAMMING\"\n",
    "for l in Language[:6]:\n",
    "    print(l)"
   ]
  },
  {
   "cell_type": "code",
   "execution_count": 28,
   "id": "4201a6d5",
   "metadata": {
    "scrolled": true
   },
   "outputs": [
    {
     "name": "stdout",
     "output_type": "stream",
     "text": [
      "Dog\n",
      "Goat\n",
      "Cat\n",
      "Fish\n"
     ]
    }
   ],
   "source": [
    "# Example with list of strings\n",
    "Animals = [\"Dog\",\"Goat\",\"Cat\",\"Fish\"]\n",
    "for a in Animals:\n",
    "    print(a)"
   ]
  },
  {
   "cell_type": "code",
   "execution_count": 29,
   "id": "dee8a9e0",
   "metadata": {},
   "outputs": [
    {
     "data": {
      "text/plain": [
       "range(1, 5, 2)"
      ]
     },
     "execution_count": 29,
     "metadata": {},
     "output_type": "execute_result"
    }
   ],
   "source": [
    "range(1,5,2)"
   ]
  },
  {
   "cell_type": "code",
   "execution_count": 32,
   "id": "2014972f",
   "metadata": {},
   "outputs": [
    {
     "name": "stdout",
     "output_type": "stream",
     "text": [
      "1\n",
      "3\n"
     ]
    }
   ],
   "source": [
    "# Using for loop with ranges\n",
    "for x in range(1,5,2):\n",
    "    print(x)"
   ]
  },
  {
   "cell_type": "code",
   "execution_count": 33,
   "id": "b42334b0",
   "metadata": {},
   "outputs": [
    {
     "name": "stdout",
     "output_type": "stream",
     "text": [
      "0\n",
      "1\n",
      "2\n",
      "3\n",
      "4\n"
     ]
    }
   ],
   "source": [
    "for x in range( 5 ):\n",
    "    print( x )"
   ]
  },
  {
   "cell_type": "code",
   "execution_count": 36,
   "id": "ac4f566f",
   "metadata": {},
   "outputs": [
    {
     "name": "stdout",
     "output_type": "stream",
     "text": [
      "0 1\n",
      "1 2\n",
      "2 Yes\n",
      "3 5\n",
      "4 OneQuantum\n",
      "5 PY4CA\n",
      "6 Ghana\n",
      "7 57\n",
      "8 MeteoData\n"
     ]
    }
   ],
   "source": [
    "sequence = [1,2,'Yes',5,'OneQuantum','PY4CA','Ghana','57','MeteoData']\n",
    "\n",
    "   #index, item\n",
    "for index,seq in enumerate(sequence):\n",
    "    print(index, seq)"
   ]
  },
  {
   "cell_type": "code",
   "execution_count": null,
   "id": "9d158ca0",
   "metadata": {},
   "outputs": [],
   "source": []
  },
  {
   "cell_type": "markdown",
   "id": "f3bf9b07",
   "metadata": {},
   "source": [
    "`Trial Example 2.3:` <br />\n",
    "Try using the for loop for exercise 2.1 above"
   ]
  },
  {
   "cell_type": "code",
   "execution_count": null,
   "id": "604d8fb2",
   "metadata": {
    "scrolled": true
   },
   "outputs": [],
   "source": []
  },
  {
   "cell_type": "markdown",
   "id": "bf604e57",
   "metadata": {},
   "source": [
    "# Nested For Loop\n"
   ]
  },
  {
   "cell_type": "markdown",
   "id": "ba49a5a9",
   "metadata": {},
   "source": [
    "We previously looked at loops in general thus the 'for' and the 'while' loop. However, sometimes you need to put nest a loop to be able to achieve what you want. As simple as it name, nesting a loop means simply having a loop (let's call it outer loop) that has inside its commands nother loop (let's call it inner loop). For example, the code appearing below shows two nested loops, an outer for loop over the values of i and an inner for loop over the values of j to multiply inside the inner loop all nine elements of a 3x3 matrix A by a factor f that changes according to the outer loop iteration"
   ]
  },
  {
   "cell_type": "code",
   "execution_count": 37,
   "id": "fe8a96ef",
   "metadata": {},
   "outputs": [
    {
     "name": "stdout",
     "output_type": "stream",
     "text": [
      "1 * 5 = 5\n",
      "1 * 3 = 3\n",
      "2 * 5 = 10\n",
      "2 * 3 = 6\n",
      "3 * 5 = 15\n",
      "3 * 3 = 9\n",
      "4 * 5 = 20\n",
      "4 * 3 = 12\n",
      "5 * 5 = 25\n",
      "5 * 3 = 15\n",
      "6 * 5 = 30\n",
      "6 * 3 = 18\n",
      "7 * 5 = 35\n",
      "7 * 3 = 21\n",
      "8 * 5 = 40\n",
      "8 * 3 = 24\n",
      "9 * 5 = 45\n",
      "9 * 3 = 27\n",
      "10 * 5 = 50\n",
      "10 * 3 = 30\n"
     ]
    }
   ],
   "source": [
    "# Example\n",
    "\n",
    "A = [1,2,3,4,5,6,7,8,9,10]\n",
    "B = [5, 3]\n",
    "for a in A:\n",
    "    for b in B:\n",
    "        y= a * b\n",
    "        print(a,'*',b,'=',y)"
   ]
  },
  {
   "cell_type": "code",
   "execution_count": 44,
   "id": "c41bb62e",
   "metadata": {},
   "outputs": [
    {
     "name": "stdout",
     "output_type": "stream",
     "text": [
      "2 + 3 + 1 = 6\n",
      "2 + 3 + 2 = 7\n",
      "2 + 5 + 1 = 8\n",
      "2 + 5 + 2 = 9\n",
      "4 + 3 + 1 = 8\n",
      "4 + 3 + 2 = 9\n",
      "4 + 5 + 1 = 10\n",
      "4 + 5 + 2 = 11\n"
     ]
    }
   ],
   "source": [
    "N = [2,4]\n",
    "M = [3,5]\n",
    "O = [1,2]\n",
    "\n",
    "for n in N:\n",
    "    for m in M:\n",
    "        for o in O:\n",
    "            u = n + m + o\n",
    "            print(n,'+',m,'+',o,'=',u)"
   ]
  },
  {
   "cell_type": "markdown",
   "id": "4d8b8303",
   "metadata": {},
   "source": [
    "# TRIAL QUESTION\n",
    "\n",
    "Consider a particle of mass ($m$) that is moving under the influence of a constant force ($F$). The equations of motion for the velocity ($v$) and position ($x$) of the particle are given by:\n",
    "$$\\frac{dv}{dt} = \\frac{F}{m} \\quad \\quad \\quad \\quad \\quad \\quad (1) $$\n",
    "\n",
    "$$\\frac{dx}{dt} = v \\quad \\quad \\quad \\quad \\quad \\quad \\quad (2)$$\n",
    "\n",
    "\n",
    "Use a <font color='red'><strong>for loop to solve these equations numerically</strong></font> and determine the velocity and position of the particle as a function of time t. The simulation should run from $t=0$ to $t=t_{final}$ with a time step $dt$, and the initial conditions should be $v_0$ for the velocity and $x_0$ for the position.\n",
    "\n",
    "Plot the velocity v and position x versus time t for $m=1$, $f=1$, $t_{final}=10$, and $dt=0.01$. Compare your numerical results with the analytical solution.\n"
   ]
  },
  {
   "cell_type": "code",
   "execution_count": 25,
   "id": "f5ea332d",
   "metadata": {},
   "outputs": [
    {
     "name": "stdout",
     "output_type": "stream",
     "text": [
      "t = 0.01s; x = 0.000m; v(t) = 0.01m/s\n",
      "t = 0.02s; x = 0.000m; v(t) = 0.02m/s\n",
      "t = 0.03s; x = 0.001m; v(t) = 0.03m/s\n",
      "t = 0.04s; x = 0.001m; v(t) = 0.04m/s\n",
      "t = 0.05s; x = 0.002m; v(t) = 0.05m/s\n",
      "t = 0.06s; x = 0.002m; v(t) = 0.06m/s\n",
      "t = 0.07s; x = 0.003m; v(t) = 0.07m/s\n",
      "t = 0.08s; x = 0.004m; v(t) = 0.08m/s\n",
      "t = 0.09s; x = 0.005m; v(t) = 0.09m/s\n",
      "t = 0.10s; x = 0.006m; v(t) = 0.10m/s\n",
      "t = 0.11s; x = 0.007m; v(t) = 0.11m/s\n",
      "t = 0.12s; x = 0.008m; v(t) = 0.12m/s\n",
      "t = 0.13s; x = 0.009m; v(t) = 0.13m/s\n",
      "t = 0.14s; x = 0.010m; v(t) = 0.14m/s\n",
      "t = 0.15s; x = 0.012m; v(t) = 0.15m/s\n",
      "t = 0.16s; x = 0.014m; v(t) = 0.16m/s\n",
      "t = 0.17s; x = 0.015m; v(t) = 0.17m/s\n",
      "t = 0.18s; x = 0.017m; v(t) = 0.18m/s\n",
      "t = 0.19s; x = 0.019m; v(t) = 0.19m/s\n",
      "t = 0.20s; x = 0.021m; v(t) = 0.20m/s\n",
      "t = 0.21s; x = 0.023m; v(t) = 0.21m/s\n",
      "t = 0.22s; x = 0.025m; v(t) = 0.22m/s\n",
      "t = 0.23s; x = 0.028m; v(t) = 0.23m/s\n",
      "t = 0.24s; x = 0.030m; v(t) = 0.24m/s\n",
      "t = 0.25s; x = 0.033m; v(t) = 0.25m/s\n",
      "t = 0.26s; x = 0.035m; v(t) = 0.26m/s\n",
      "t = 0.27s; x = 0.038m; v(t) = 0.27m/s\n",
      "t = 0.28s; x = 0.041m; v(t) = 0.28m/s\n",
      "t = 0.29s; x = 0.044m; v(t) = 0.29m/s\n",
      "t = 0.30s; x = 0.047m; v(t) = 0.30m/s\n",
      "t = 0.31s; x = 0.050m; v(t) = 0.31m/s\n",
      "t = 0.32s; x = 0.053m; v(t) = 0.32m/s\n",
      "t = 0.33s; x = 0.056m; v(t) = 0.33m/s\n",
      "t = 0.34s; x = 0.060m; v(t) = 0.34m/s\n",
      "t = 0.35s; x = 0.063m; v(t) = 0.35m/s\n",
      "t = 0.36s; x = 0.067m; v(t) = 0.36m/s\n",
      "t = 0.37s; x = 0.070m; v(t) = 0.37m/s\n",
      "t = 0.38s; x = 0.074m; v(t) = 0.38m/s\n",
      "t = 0.39s; x = 0.078m; v(t) = 0.39m/s\n",
      "t = 0.40s; x = 0.082m; v(t) = 0.40m/s\n",
      "t = 0.41s; x = 0.086m; v(t) = 0.41m/s\n",
      "t = 0.42s; x = 0.090m; v(t) = 0.42m/s\n",
      "t = 0.43s; x = 0.095m; v(t) = 0.43m/s\n",
      "t = 0.44s; x = 0.099m; v(t) = 0.44m/s\n",
      "t = 0.45s; x = 0.104m; v(t) = 0.45m/s\n",
      "t = 0.46s; x = 0.108m; v(t) = 0.46m/s\n",
      "t = 0.47s; x = 0.113m; v(t) = 0.47m/s\n",
      "t = 0.48s; x = 0.118m; v(t) = 0.48m/s\n",
      "t = 0.49s; x = 0.123m; v(t) = 0.49m/s\n",
      "t = 0.50s; x = 0.128m; v(t) = 0.50m/s\n",
      "t = 0.51s; x = 0.133m; v(t) = 0.51m/s\n",
      "t = 0.52s; x = 0.138m; v(t) = 0.52m/s\n",
      "t = 0.53s; x = 0.143m; v(t) = 0.53m/s\n",
      "t = 0.54s; x = 0.149m; v(t) = 0.54m/s\n",
      "t = 0.55s; x = 0.154m; v(t) = 0.55m/s\n",
      "t = 0.56s; x = 0.160m; v(t) = 0.56m/s\n",
      "t = 0.57s; x = 0.165m; v(t) = 0.57m/s\n",
      "t = 0.58s; x = 0.171m; v(t) = 0.58m/s\n",
      "t = 0.59s; x = 0.177m; v(t) = 0.59m/s\n",
      "t = 0.60s; x = 0.183m; v(t) = 0.60m/s\n",
      "t = 0.61s; x = 0.189m; v(t) = 0.61m/s\n",
      "t = 0.62s; x = 0.195m; v(t) = 0.62m/s\n",
      "t = 0.63s; x = 0.202m; v(t) = 0.63m/s\n",
      "t = 0.64s; x = 0.208m; v(t) = 0.64m/s\n",
      "t = 0.65s; x = 0.215m; v(t) = 0.65m/s\n",
      "t = 0.66s; x = 0.221m; v(t) = 0.66m/s\n",
      "t = 0.67s; x = 0.228m; v(t) = 0.67m/s\n",
      "t = 0.68s; x = 0.235m; v(t) = 0.68m/s\n",
      "t = 0.69s; x = 0.242m; v(t) = 0.69m/s\n",
      "t = 0.70s; x = 0.249m; v(t) = 0.70m/s\n",
      "t = 0.71s; x = 0.256m; v(t) = 0.71m/s\n",
      "t = 0.72s; x = 0.263m; v(t) = 0.72m/s\n",
      "t = 0.73s; x = 0.270m; v(t) = 0.73m/s\n",
      "t = 0.74s; x = 0.278m; v(t) = 0.74m/s\n",
      "t = 0.75s; x = 0.285m; v(t) = 0.75m/s\n",
      "t = 0.76s; x = 0.293m; v(t) = 0.76m/s\n",
      "t = 0.77s; x = 0.300m; v(t) = 0.77m/s\n",
      "t = 0.78s; x = 0.308m; v(t) = 0.78m/s\n",
      "t = 0.79s; x = 0.316m; v(t) = 0.79m/s\n",
      "t = 0.80s; x = 0.324m; v(t) = 0.80m/s\n",
      "t = 0.81s; x = 0.332m; v(t) = 0.81m/s\n",
      "t = 0.82s; x = 0.340m; v(t) = 0.82m/s\n",
      "t = 0.83s; x = 0.349m; v(t) = 0.83m/s\n",
      "t = 0.84s; x = 0.357m; v(t) = 0.84m/s\n",
      "t = 0.85s; x = 0.366m; v(t) = 0.85m/s\n",
      "t = 0.86s; x = 0.374m; v(t) = 0.86m/s\n",
      "t = 0.87s; x = 0.383m; v(t) = 0.87m/s\n",
      "t = 0.88s; x = 0.392m; v(t) = 0.88m/s\n",
      "t = 0.89s; x = 0.401m; v(t) = 0.89m/s\n",
      "t = 0.90s; x = 0.410m; v(t) = 0.90m/s\n",
      "t = 0.91s; x = 0.419m; v(t) = 0.91m/s\n",
      "t = 0.92s; x = 0.428m; v(t) = 0.92m/s\n",
      "t = 0.93s; x = 0.437m; v(t) = 0.93m/s\n",
      "t = 0.94s; x = 0.447m; v(t) = 0.94m/s\n",
      "t = 0.95s; x = 0.456m; v(t) = 0.95m/s\n",
      "t = 0.96s; x = 0.466m; v(t) = 0.96m/s\n",
      "t = 0.97s; x = 0.475m; v(t) = 0.97m/s\n",
      "t = 0.98s; x = 0.485m; v(t) = 0.98m/s\n",
      "t = 0.99s; x = 0.495m; v(t) = 0.99m/s\n",
      "t = 1.00s; x = 0.505m; v(t) = 1.00m/s\n",
      "t = 1.01s; x = 0.515m; v(t) = 1.01m/s\n",
      "t = 1.02s; x = 0.525m; v(t) = 1.02m/s\n",
      "t = 1.03s; x = 0.536m; v(t) = 1.03m/s\n",
      "t = 1.04s; x = 0.546m; v(t) = 1.04m/s\n",
      "t = 1.05s; x = 0.557m; v(t) = 1.05m/s\n",
      "t = 1.06s; x = 0.567m; v(t) = 1.06m/s\n",
      "t = 1.07s; x = 0.578m; v(t) = 1.07m/s\n",
      "t = 1.08s; x = 0.589m; v(t) = 1.08m/s\n",
      "t = 1.09s; x = 0.600m; v(t) = 1.09m/s\n",
      "t = 1.10s; x = 0.611m; v(t) = 1.10m/s\n",
      "t = 1.11s; x = 0.622m; v(t) = 1.11m/s\n",
      "t = 1.12s; x = 0.633m; v(t) = 1.12m/s\n",
      "t = 1.13s; x = 0.644m; v(t) = 1.13m/s\n",
      "t = 1.14s; x = 0.656m; v(t) = 1.14m/s\n",
      "t = 1.15s; x = 0.667m; v(t) = 1.15m/s\n",
      "t = 1.16s; x = 0.679m; v(t) = 1.16m/s\n",
      "t = 1.17s; x = 0.690m; v(t) = 1.17m/s\n",
      "t = 1.18s; x = 0.702m; v(t) = 1.18m/s\n",
      "t = 1.19s; x = 0.714m; v(t) = 1.19m/s\n",
      "t = 1.20s; x = 0.726m; v(t) = 1.20m/s\n",
      "t = 1.21s; x = 0.738m; v(t) = 1.21m/s\n",
      "t = 1.22s; x = 0.750m; v(t) = 1.22m/s\n",
      "t = 1.23s; x = 0.763m; v(t) = 1.23m/s\n",
      "t = 1.24s; x = 0.775m; v(t) = 1.24m/s\n",
      "t = 1.25s; x = 0.788m; v(t) = 1.25m/s\n",
      "t = 1.26s; x = 0.800m; v(t) = 1.26m/s\n",
      "t = 1.27s; x = 0.813m; v(t) = 1.27m/s\n",
      "t = 1.28s; x = 0.826m; v(t) = 1.28m/s\n",
      "t = 1.29s; x = 0.839m; v(t) = 1.29m/s\n",
      "t = 1.30s; x = 0.852m; v(t) = 1.30m/s\n",
      "t = 1.31s; x = 0.865m; v(t) = 1.31m/s\n",
      "t = 1.32s; x = 0.878m; v(t) = 1.32m/s\n",
      "t = 1.33s; x = 0.891m; v(t) = 1.33m/s\n",
      "t = 1.34s; x = 0.905m; v(t) = 1.34m/s\n",
      "t = 1.35s; x = 0.918m; v(t) = 1.35m/s\n",
      "t = 1.36s; x = 0.932m; v(t) = 1.36m/s\n",
      "t = 1.37s; x = 0.945m; v(t) = 1.37m/s\n",
      "t = 1.38s; x = 0.959m; v(t) = 1.38m/s\n",
      "t = 1.39s; x = 0.973m; v(t) = 1.39m/s\n",
      "t = 1.40s; x = 0.987m; v(t) = 1.40m/s\n",
      "t = 1.41s; x = 1.001m; v(t) = 1.41m/s\n",
      "t = 1.42s; x = 1.015m; v(t) = 1.42m/s\n",
      "t = 1.43s; x = 1.030m; v(t) = 1.43m/s\n",
      "t = 1.44s; x = 1.044m; v(t) = 1.44m/s\n",
      "t = 1.45s; x = 1.059m; v(t) = 1.45m/s\n",
      "t = 1.46s; x = 1.073m; v(t) = 1.46m/s\n",
      "t = 1.47s; x = 1.088m; v(t) = 1.47m/s\n",
      "t = 1.48s; x = 1.103m; v(t) = 1.48m/s\n",
      "t = 1.49s; x = 1.118m; v(t) = 1.49m/s\n",
      "t = 1.50s; x = 1.133m; v(t) = 1.50m/s\n",
      "t = 1.51s; x = 1.148m; v(t) = 1.51m/s\n",
      "t = 1.52s; x = 1.163m; v(t) = 1.52m/s\n",
      "t = 1.53s; x = 1.178m; v(t) = 1.53m/s\n",
      "t = 1.54s; x = 1.194m; v(t) = 1.54m/s\n",
      "t = 1.55s; x = 1.209m; v(t) = 1.55m/s\n",
      "t = 1.56s; x = 1.225m; v(t) = 1.56m/s\n",
      "t = 1.57s; x = 1.240m; v(t) = 1.57m/s\n",
      "t = 1.58s; x = 1.256m; v(t) = 1.58m/s\n",
      "t = 1.59s; x = 1.272m; v(t) = 1.59m/s\n",
      "t = 1.60s; x = 1.288m; v(t) = 1.60m/s\n",
      "t = 1.61s; x = 1.304m; v(t) = 1.61m/s\n",
      "t = 1.62s; x = 1.320m; v(t) = 1.62m/s\n",
      "t = 1.63s; x = 1.337m; v(t) = 1.63m/s\n",
      "t = 1.64s; x = 1.353m; v(t) = 1.64m/s\n",
      "t = 1.65s; x = 1.370m; v(t) = 1.65m/s\n",
      "t = 1.66s; x = 1.386m; v(t) = 1.66m/s\n",
      "t = 1.67s; x = 1.403m; v(t) = 1.67m/s\n",
      "t = 1.68s; x = 1.420m; v(t) = 1.68m/s\n",
      "t = 1.69s; x = 1.437m; v(t) = 1.69m/s\n",
      "t = 1.70s; x = 1.454m; v(t) = 1.70m/s\n",
      "t = 1.71s; x = 1.471m; v(t) = 1.71m/s\n",
      "t = 1.72s; x = 1.488m; v(t) = 1.72m/s\n",
      "t = 1.73s; x = 1.505m; v(t) = 1.73m/s\n",
      "t = 1.74s; x = 1.523m; v(t) = 1.74m/s\n",
      "t = 1.75s; x = 1.540m; v(t) = 1.75m/s\n",
      "t = 1.76s; x = 1.558m; v(t) = 1.76m/s\n",
      "t = 1.77s; x = 1.575m; v(t) = 1.77m/s\n",
      "t = 1.78s; x = 1.593m; v(t) = 1.78m/s\n",
      "t = 1.79s; x = 1.611m; v(t) = 1.79m/s\n",
      "t = 1.80s; x = 1.629m; v(t) = 1.80m/s\n",
      "t = 1.81s; x = 1.647m; v(t) = 1.81m/s\n",
      "t = 1.82s; x = 1.665m; v(t) = 1.82m/s\n",
      "t = 1.83s; x = 1.684m; v(t) = 1.83m/s\n",
      "t = 1.84s; x = 1.702m; v(t) = 1.84m/s\n",
      "t = 1.85s; x = 1.721m; v(t) = 1.85m/s\n",
      "t = 1.86s; x = 1.739m; v(t) = 1.86m/s\n",
      "t = 1.87s; x = 1.758m; v(t) = 1.87m/s\n",
      "t = 1.88s; x = 1.777m; v(t) = 1.88m/s\n",
      "t = 1.89s; x = 1.796m; v(t) = 1.89m/s\n",
      "t = 1.90s; x = 1.815m; v(t) = 1.90m/s\n",
      "t = 1.91s; x = 1.834m; v(t) = 1.91m/s\n",
      "t = 1.92s; x = 1.853m; v(t) = 1.92m/s\n",
      "t = 1.93s; x = 1.872m; v(t) = 1.93m/s\n",
      "t = 1.94s; x = 1.892m; v(t) = 1.94m/s\n",
      "t = 1.95s; x = 1.911m; v(t) = 1.95m/s\n",
      "t = 1.96s; x = 1.931m; v(t) = 1.96m/s\n",
      "t = 1.97s; x = 1.950m; v(t) = 1.97m/s\n",
      "t = 1.98s; x = 1.970m; v(t) = 1.98m/s\n",
      "t = 1.99s; x = 1.990m; v(t) = 1.99m/s\n",
      "t = 2.00s; x = 2.010m; v(t) = 2.00m/s\n",
      "t = 2.01s; x = 2.030m; v(t) = 2.01m/s\n",
      "t = 2.02s; x = 2.050m; v(t) = 2.02m/s\n",
      "t = 2.03s; x = 2.071m; v(t) = 2.03m/s\n",
      "t = 2.04s; x = 2.091m; v(t) = 2.04m/s\n",
      "t = 2.05s; x = 2.112m; v(t) = 2.05m/s\n",
      "t = 2.06s; x = 2.132m; v(t) = 2.06m/s\n",
      "t = 2.07s; x = 2.153m; v(t) = 2.07m/s\n",
      "t = 2.08s; x = 2.174m; v(t) = 2.08m/s\n",
      "t = 2.09s; x = 2.195m; v(t) = 2.09m/s\n",
      "t = 2.10s; x = 2.216m; v(t) = 2.10m/s\n",
      "t = 2.11s; x = 2.237m; v(t) = 2.11m/s\n",
      "t = 2.12s; x = 2.258m; v(t) = 2.12m/s\n",
      "t = 2.13s; x = 2.279m; v(t) = 2.13m/s\n",
      "t = 2.14s; x = 2.301m; v(t) = 2.14m/s\n",
      "t = 2.15s; x = 2.322m; v(t) = 2.15m/s\n",
      "t = 2.16s; x = 2.344m; v(t) = 2.16m/s\n",
      "t = 2.17s; x = 2.365m; v(t) = 2.17m/s\n",
      "t = 2.18s; x = 2.387m; v(t) = 2.18m/s\n",
      "t = 2.19s; x = 2.409m; v(t) = 2.19m/s\n",
      "t = 2.20s; x = 2.431m; v(t) = 2.20m/s\n",
      "t = 2.21s; x = 2.453m; v(t) = 2.21m/s\n",
      "t = 2.22s; x = 2.475m; v(t) = 2.22m/s\n",
      "t = 2.23s; x = 2.498m; v(t) = 2.23m/s\n",
      "t = 2.24s; x = 2.520m; v(t) = 2.24m/s\n",
      "t = 2.25s; x = 2.543m; v(t) = 2.25m/s\n",
      "t = 2.26s; x = 2.565m; v(t) = 2.26m/s\n",
      "t = 2.27s; x = 2.588m; v(t) = 2.27m/s\n",
      "t = 2.28s; x = 2.611m; v(t) = 2.28m/s\n",
      "t = 2.29s; x = 2.634m; v(t) = 2.29m/s\n",
      "t = 2.30s; x = 2.657m; v(t) = 2.30m/s\n",
      "t = 2.31s; x = 2.680m; v(t) = 2.31m/s\n",
      "t = 2.32s; x = 2.703m; v(t) = 2.32m/s\n",
      "t = 2.33s; x = 2.726m; v(t) = 2.33m/s\n",
      "t = 2.34s; x = 2.750m; v(t) = 2.34m/s\n",
      "t = 2.35s; x = 2.773m; v(t) = 2.35m/s\n",
      "t = 2.36s; x = 2.797m; v(t) = 2.36m/s\n",
      "t = 2.37s; x = 2.820m; v(t) = 2.37m/s\n",
      "t = 2.38s; x = 2.844m; v(t) = 2.38m/s\n",
      "t = 2.39s; x = 2.868m; v(t) = 2.39m/s\n",
      "t = 2.40s; x = 2.892m; v(t) = 2.40m/s\n",
      "t = 2.41s; x = 2.916m; v(t) = 2.41m/s\n",
      "t = 2.42s; x = 2.940m; v(t) = 2.42m/s\n",
      "t = 2.43s; x = 2.965m; v(t) = 2.43m/s\n",
      "t = 2.44s; x = 2.989m; v(t) = 2.44m/s\n",
      "t = 2.45s; x = 3.014m; v(t) = 2.45m/s\n",
      "t = 2.46s; x = 3.038m; v(t) = 2.46m/s\n",
      "t = 2.47s; x = 3.063m; v(t) = 2.47m/s\n",
      "t = 2.48s; x = 3.088m; v(t) = 2.48m/s\n",
      "t = 2.49s; x = 3.112m; v(t) = 2.49m/s\n",
      "t = 2.50s; x = 3.137m; v(t) = 2.50m/s\n",
      "t = 2.51s; x = 3.163m; v(t) = 2.51m/s\n",
      "t = 2.52s; x = 3.188m; v(t) = 2.52m/s\n",
      "t = 2.53s; x = 3.213m; v(t) = 2.53m/s\n",
      "t = 2.54s; x = 3.238m; v(t) = 2.54m/s\n",
      "t = 2.55s; x = 3.264m; v(t) = 2.55m/s\n",
      "t = 2.56s; x = 3.290m; v(t) = 2.56m/s\n",
      "t = 2.57s; x = 3.315m; v(t) = 2.57m/s\n",
      "t = 2.58s; x = 3.341m; v(t) = 2.58m/s\n",
      "t = 2.59s; x = 3.367m; v(t) = 2.59m/s\n",
      "t = 2.60s; x = 3.393m; v(t) = 2.60m/s\n",
      "t = 2.61s; x = 3.419m; v(t) = 2.61m/s\n",
      "t = 2.62s; x = 3.445m; v(t) = 2.62m/s\n",
      "t = 2.63s; x = 3.472m; v(t) = 2.63m/s\n",
      "t = 2.64s; x = 3.498m; v(t) = 2.64m/s\n",
      "t = 2.65s; x = 3.524m; v(t) = 2.65m/s\n",
      "t = 2.66s; x = 3.551m; v(t) = 2.66m/s\n",
      "t = 2.67s; x = 3.578m; v(t) = 2.67m/s\n",
      "t = 2.68s; x = 3.605m; v(t) = 2.68m/s\n",
      "t = 2.69s; x = 3.631m; v(t) = 2.69m/s\n",
      "t = 2.70s; x = 3.658m; v(t) = 2.70m/s\n",
      "t = 2.71s; x = 3.686m; v(t) = 2.71m/s\n",
      "t = 2.72s; x = 3.713m; v(t) = 2.72m/s\n",
      "t = 2.73s; x = 3.740m; v(t) = 2.73m/s\n",
      "t = 2.74s; x = 3.767m; v(t) = 2.74m/s\n",
      "t = 2.75s; x = 3.795m; v(t) = 2.75m/s\n",
      "t = 2.76s; x = 3.823m; v(t) = 2.76m/s\n",
      "t = 2.77s; x = 3.850m; v(t) = 2.77m/s\n",
      "t = 2.78s; x = 3.878m; v(t) = 2.78m/s\n",
      "t = 2.79s; x = 3.906m; v(t) = 2.79m/s\n",
      "t = 2.80s; x = 3.934m; v(t) = 2.80m/s\n",
      "t = 2.81s; x = 3.962m; v(t) = 2.81m/s\n",
      "t = 2.82s; x = 3.990m; v(t) = 2.82m/s\n",
      "t = 2.83s; x = 4.019m; v(t) = 2.83m/s\n",
      "t = 2.84s; x = 4.047m; v(t) = 2.84m/s\n",
      "t = 2.85s; x = 4.075m; v(t) = 2.85m/s\n",
      "t = 2.86s; x = 4.104m; v(t) = 2.86m/s\n",
      "t = 2.87s; x = 4.133m; v(t) = 2.87m/s\n",
      "t = 2.88s; x = 4.162m; v(t) = 2.88m/s\n",
      "t = 2.89s; x = 4.190m; v(t) = 2.89m/s\n",
      "t = 2.90s; x = 4.219m; v(t) = 2.90m/s\n",
      "t = 2.91s; x = 4.249m; v(t) = 2.91m/s\n",
      "t = 2.92s; x = 4.278m; v(t) = 2.92m/s\n",
      "t = 2.93s; x = 4.307m; v(t) = 2.93m/s\n",
      "t = 2.94s; x = 4.336m; v(t) = 2.94m/s\n",
      "t = 2.95s; x = 4.366m; v(t) = 2.95m/s\n",
      "t = 2.96s; x = 4.396m; v(t) = 2.96m/s\n",
      "t = 2.97s; x = 4.425m; v(t) = 2.97m/s\n",
      "t = 2.98s; x = 4.455m; v(t) = 2.98m/s\n",
      "t = 2.99s; x = 4.485m; v(t) = 2.99m/s\n",
      "t = 3.00s; x = 4.515m; v(t) = 3.00m/s\n",
      "t = 3.01s; x = 4.545m; v(t) = 3.01m/s\n",
      "t = 3.02s; x = 4.575m; v(t) = 3.02m/s\n",
      "t = 3.03s; x = 4.606m; v(t) = 3.03m/s\n",
      "t = 3.04s; x = 4.636m; v(t) = 3.04m/s\n",
      "t = 3.05s; x = 4.666m; v(t) = 3.05m/s\n",
      "t = 3.06s; x = 4.697m; v(t) = 3.06m/s\n",
      "t = 3.07s; x = 4.728m; v(t) = 3.07m/s\n",
      "t = 3.08s; x = 4.759m; v(t) = 3.08m/s\n",
      "t = 3.09s; x = 4.789m; v(t) = 3.09m/s\n",
      "t = 3.10s; x = 4.820m; v(t) = 3.10m/s\n",
      "t = 3.11s; x = 4.852m; v(t) = 3.11m/s\n",
      "t = 3.12s; x = 4.883m; v(t) = 3.12m/s\n",
      "t = 3.13s; x = 4.914m; v(t) = 3.13m/s\n",
      "t = 3.14s; x = 4.945m; v(t) = 3.14m/s\n",
      "t = 3.15s; x = 4.977m; v(t) = 3.15m/s\n",
      "t = 3.16s; x = 5.009m; v(t) = 3.16m/s\n",
      "t = 3.17s; x = 5.040m; v(t) = 3.17m/s\n",
      "t = 3.18s; x = 5.072m; v(t) = 3.18m/s\n",
      "t = 3.19s; x = 5.104m; v(t) = 3.19m/s\n",
      "t = 3.20s; x = 5.136m; v(t) = 3.20m/s\n",
      "t = 3.21s; x = 5.168m; v(t) = 3.21m/s\n",
      "t = 3.22s; x = 5.200m; v(t) = 3.22m/s\n",
      "t = 3.23s; x = 5.233m; v(t) = 3.23m/s\n",
      "t = 3.24s; x = 5.265m; v(t) = 3.24m/s\n",
      "t = 3.25s; x = 5.297m; v(t) = 3.25m/s\n",
      "t = 3.26s; x = 5.330m; v(t) = 3.26m/s\n",
      "t = 3.27s; x = 5.363m; v(t) = 3.27m/s\n",
      "t = 3.28s; x = 5.396m; v(t) = 3.28m/s\n",
      "t = 3.29s; x = 5.428m; v(t) = 3.29m/s\n",
      "t = 3.30s; x = 5.461m; v(t) = 3.30m/s\n",
      "t = 3.31s; x = 5.495m; v(t) = 3.31m/s\n",
      "t = 3.32s; x = 5.528m; v(t) = 3.32m/s\n",
      "t = 3.33s; x = 5.561m; v(t) = 3.33m/s\n",
      "t = 3.34s; x = 5.594m; v(t) = 3.34m/s\n",
      "t = 3.35s; x = 5.628m; v(t) = 3.35m/s\n",
      "t = 3.36s; x = 5.662m; v(t) = 3.36m/s\n",
      "t = 3.37s; x = 5.695m; v(t) = 3.37m/s\n",
      "t = 3.38s; x = 5.729m; v(t) = 3.38m/s\n",
      "t = 3.39s; x = 5.763m; v(t) = 3.39m/s\n",
      "t = 3.40s; x = 5.797m; v(t) = 3.40m/s\n",
      "t = 3.41s; x = 5.831m; v(t) = 3.41m/s\n",
      "t = 3.42s; x = 5.865m; v(t) = 3.42m/s\n",
      "t = 3.43s; x = 5.900m; v(t) = 3.43m/s\n",
      "t = 3.44s; x = 5.934m; v(t) = 3.44m/s\n",
      "t = 3.45s; x = 5.968m; v(t) = 3.45m/s\n",
      "t = 3.46s; x = 6.003m; v(t) = 3.46m/s\n",
      "t = 3.47s; x = 6.038m; v(t) = 3.47m/s\n",
      "t = 3.48s; x = 6.073m; v(t) = 3.48m/s\n",
      "t = 3.49s; x = 6.107m; v(t) = 3.49m/s\n",
      "t = 3.50s; x = 6.142m; v(t) = 3.50m/s\n",
      "t = 3.51s; x = 6.178m; v(t) = 3.51m/s\n",
      "t = 3.52s; x = 6.213m; v(t) = 3.52m/s\n",
      "t = 3.53s; x = 6.248m; v(t) = 3.53m/s\n",
      "t = 3.54s; x = 6.283m; v(t) = 3.54m/s\n",
      "t = 3.55s; x = 6.319m; v(t) = 3.55m/s\n",
      "t = 3.56s; x = 6.355m; v(t) = 3.56m/s\n",
      "t = 3.57s; x = 6.390m; v(t) = 3.57m/s\n",
      "t = 3.58s; x = 6.426m; v(t) = 3.58m/s\n",
      "t = 3.59s; x = 6.462m; v(t) = 3.59m/s\n",
      "t = 3.60s; x = 6.498m; v(t) = 3.60m/s\n",
      "t = 3.61s; x = 6.534m; v(t) = 3.61m/s\n",
      "t = 3.62s; x = 6.570m; v(t) = 3.62m/s\n",
      "t = 3.63s; x = 6.607m; v(t) = 3.63m/s\n",
      "t = 3.64s; x = 6.643m; v(t) = 3.64m/s\n",
      "t = 3.65s; x = 6.679m; v(t) = 3.65m/s\n",
      "t = 3.66s; x = 6.716m; v(t) = 3.66m/s\n",
      "t = 3.67s; x = 6.753m; v(t) = 3.67m/s\n",
      "t = 3.68s; x = 6.790m; v(t) = 3.68m/s\n",
      "t = 3.69s; x = 6.826m; v(t) = 3.69m/s\n",
      "t = 3.70s; x = 6.863m; v(t) = 3.70m/s\n",
      "t = 3.71s; x = 6.901m; v(t) = 3.71m/s\n",
      "t = 3.72s; x = 6.938m; v(t) = 3.72m/s\n",
      "t = 3.73s; x = 6.975m; v(t) = 3.73m/s\n",
      "t = 3.74s; x = 7.012m; v(t) = 3.74m/s\n",
      "t = 3.75s; x = 7.050m; v(t) = 3.75m/s\n",
      "t = 3.76s; x = 7.088m; v(t) = 3.76m/s\n",
      "t = 3.77s; x = 7.125m; v(t) = 3.77m/s\n",
      "t = 3.78s; x = 7.163m; v(t) = 3.78m/s\n",
      "t = 3.79s; x = 7.201m; v(t) = 3.79m/s\n",
      "t = 3.80s; x = 7.239m; v(t) = 3.80m/s\n",
      "t = 3.81s; x = 7.277m; v(t) = 3.81m/s\n",
      "t = 3.82s; x = 7.315m; v(t) = 3.82m/s\n",
      "t = 3.83s; x = 7.354m; v(t) = 3.83m/s\n",
      "t = 3.84s; x = 7.392m; v(t) = 3.84m/s\n",
      "t = 3.85s; x = 7.430m; v(t) = 3.85m/s\n",
      "t = 3.86s; x = 7.469m; v(t) = 3.86m/s\n",
      "t = 3.87s; x = 7.508m; v(t) = 3.87m/s\n",
      "t = 3.88s; x = 7.547m; v(t) = 3.88m/s\n",
      "t = 3.89s; x = 7.585m; v(t) = 3.89m/s\n",
      "t = 3.90s; x = 7.624m; v(t) = 3.90m/s\n",
      "t = 3.91s; x = 7.664m; v(t) = 3.91m/s\n",
      "t = 3.92s; x = 7.703m; v(t) = 3.92m/s\n",
      "t = 3.93s; x = 7.742m; v(t) = 3.93m/s\n",
      "t = 3.94s; x = 7.781m; v(t) = 3.94m/s\n",
      "t = 3.95s; x = 7.821m; v(t) = 3.95m/s\n",
      "t = 3.96s; x = 7.861m; v(t) = 3.96m/s\n",
      "t = 3.97s; x = 7.900m; v(t) = 3.97m/s\n",
      "t = 3.98s; x = 7.940m; v(t) = 3.98m/s\n",
      "t = 3.99s; x = 7.980m; v(t) = 3.99m/s\n",
      "t = 4.00s; x = 8.020m; v(t) = 4.00m/s\n",
      "t = 4.01s; x = 8.060m; v(t) = 4.01m/s\n",
      "t = 4.02s; x = 8.100m; v(t) = 4.02m/s\n",
      "t = 4.03s; x = 8.141m; v(t) = 4.03m/s\n",
      "t = 4.04s; x = 8.181m; v(t) = 4.04m/s\n",
      "t = 4.05s; x = 8.221m; v(t) = 4.05m/s\n",
      "t = 4.06s; x = 8.262m; v(t) = 4.06m/s\n",
      "t = 4.07s; x = 8.303m; v(t) = 4.07m/s\n",
      "t = 4.08s; x = 8.344m; v(t) = 4.08m/s\n",
      "t = 4.09s; x = 8.384m; v(t) = 4.09m/s\n",
      "t = 4.10s; x = 8.425m; v(t) = 4.10m/s\n",
      "t = 4.11s; x = 8.467m; v(t) = 4.11m/s\n",
      "t = 4.12s; x = 8.508m; v(t) = 4.12m/s\n",
      "t = 4.13s; x = 8.549m; v(t) = 4.13m/s\n",
      "t = 4.14s; x = 8.590m; v(t) = 4.14m/s\n",
      "t = 4.15s; x = 8.632m; v(t) = 4.15m/s\n",
      "t = 4.16s; x = 8.674m; v(t) = 4.16m/s\n",
      "t = 4.17s; x = 8.715m; v(t) = 4.17m/s\n",
      "t = 4.18s; x = 8.757m; v(t) = 4.18m/s\n",
      "t = 4.19s; x = 8.799m; v(t) = 4.19m/s\n",
      "t = 4.20s; x = 8.841m; v(t) = 4.20m/s\n",
      "t = 4.21s; x = 8.883m; v(t) = 4.21m/s\n",
      "t = 4.22s; x = 8.925m; v(t) = 4.22m/s\n",
      "t = 4.23s; x = 8.968m; v(t) = 4.23m/s\n",
      "t = 4.24s; x = 9.010m; v(t) = 4.24m/s\n",
      "t = 4.25s; x = 9.052m; v(t) = 4.25m/s\n",
      "t = 4.26s; x = 9.095m; v(t) = 4.26m/s\n",
      "t = 4.27s; x = 9.138m; v(t) = 4.27m/s\n",
      "t = 4.28s; x = 9.181m; v(t) = 4.28m/s\n",
      "t = 4.29s; x = 9.223m; v(t) = 4.29m/s\n",
      "t = 4.30s; x = 9.266m; v(t) = 4.30m/s\n",
      "t = 4.31s; x = 9.310m; v(t) = 4.31m/s\n",
      "t = 4.32s; x = 9.353m; v(t) = 4.32m/s\n",
      "t = 4.33s; x = 9.396m; v(t) = 4.33m/s\n",
      "t = 4.34s; x = 9.439m; v(t) = 4.34m/s\n",
      "t = 4.35s; x = 9.483m; v(t) = 4.35m/s\n",
      "t = 4.36s; x = 9.527m; v(t) = 4.36m/s\n",
      "t = 4.37s; x = 9.570m; v(t) = 4.37m/s\n",
      "t = 4.38s; x = 9.614m; v(t) = 4.38m/s\n",
      "t = 4.39s; x = 9.658m; v(t) = 4.39m/s\n",
      "t = 4.40s; x = 9.702m; v(t) = 4.40m/s\n",
      "t = 4.41s; x = 9.746m; v(t) = 4.41m/s\n",
      "t = 4.42s; x = 9.790m; v(t) = 4.42m/s\n",
      "t = 4.43s; x = 9.835m; v(t) = 4.43m/s\n",
      "t = 4.44s; x = 9.879m; v(t) = 4.44m/s\n",
      "t = 4.45s; x = 9.923m; v(t) = 4.45m/s\n",
      "t = 4.46s; x = 9.968m; v(t) = 4.46m/s\n",
      "t = 4.47s; x = 10.013m; v(t) = 4.47m/s\n",
      "t = 4.48s; x = 10.058m; v(t) = 4.48m/s\n",
      "t = 4.49s; x = 10.102m; v(t) = 4.49m/s\n",
      "t = 4.50s; x = 10.147m; v(t) = 4.50m/s\n",
      "t = 4.51s; x = 10.193m; v(t) = 4.51m/s\n",
      "t = 4.52s; x = 10.238m; v(t) = 4.52m/s\n",
      "t = 4.53s; x = 10.283m; v(t) = 4.53m/s\n",
      "t = 4.54s; x = 10.328m; v(t) = 4.54m/s\n",
      "t = 4.55s; x = 10.374m; v(t) = 4.55m/s\n",
      "t = 4.56s; x = 10.420m; v(t) = 4.56m/s\n",
      "t = 4.57s; x = 10.465m; v(t) = 4.57m/s\n",
      "t = 4.58s; x = 10.511m; v(t) = 4.58m/s\n",
      "t = 4.59s; x = 10.557m; v(t) = 4.59m/s\n",
      "t = 4.60s; x = 10.603m; v(t) = 4.60m/s\n",
      "t = 4.61s; x = 10.649m; v(t) = 4.61m/s\n",
      "t = 4.62s; x = 10.695m; v(t) = 4.62m/s\n",
      "t = 4.63s; x = 10.742m; v(t) = 4.63m/s\n",
      "t = 4.64s; x = 10.788m; v(t) = 4.64m/s\n",
      "t = 4.65s; x = 10.834m; v(t) = 4.65m/s\n",
      "t = 4.66s; x = 10.881m; v(t) = 4.66m/s\n",
      "t = 4.67s; x = 10.928m; v(t) = 4.67m/s\n",
      "t = 4.68s; x = 10.975m; v(t) = 4.68m/s\n",
      "t = 4.69s; x = 11.021m; v(t) = 4.69m/s\n",
      "t = 4.70s; x = 11.068m; v(t) = 4.70m/s\n",
      "t = 4.71s; x = 11.116m; v(t) = 4.71m/s\n",
      "t = 4.72s; x = 11.163m; v(t) = 4.72m/s\n",
      "t = 4.73s; x = 11.210m; v(t) = 4.73m/s\n",
      "t = 4.74s; x = 11.257m; v(t) = 4.74m/s\n",
      "t = 4.75s; x = 11.305m; v(t) = 4.75m/s\n",
      "t = 4.76s; x = 11.353m; v(t) = 4.76m/s\n",
      "t = 4.77s; x = 11.400m; v(t) = 4.77m/s\n",
      "t = 4.78s; x = 11.448m; v(t) = 4.78m/s\n",
      "t = 4.79s; x = 11.496m; v(t) = 4.79m/s\n",
      "t = 4.80s; x = 11.544m; v(t) = 4.80m/s\n",
      "t = 4.81s; x = 11.592m; v(t) = 4.81m/s\n",
      "t = 4.82s; x = 11.640m; v(t) = 4.82m/s\n",
      "t = 4.83s; x = 11.689m; v(t) = 4.83m/s\n",
      "t = 4.84s; x = 11.737m; v(t) = 4.84m/s\n",
      "t = 4.85s; x = 11.785m; v(t) = 4.85m/s\n",
      "t = 4.86s; x = 11.834m; v(t) = 4.86m/s\n",
      "t = 4.87s; x = 11.883m; v(t) = 4.87m/s\n",
      "t = 4.88s; x = 11.932m; v(t) = 4.88m/s\n",
      "t = 4.89s; x = 11.980m; v(t) = 4.89m/s\n",
      "t = 4.90s; x = 12.029m; v(t) = 4.90m/s\n",
      "t = 4.91s; x = 12.079m; v(t) = 4.91m/s\n",
      "t = 4.92s; x = 12.128m; v(t) = 4.92m/s\n",
      "t = 4.93s; x = 12.177m; v(t) = 4.93m/s\n",
      "t = 4.94s; x = 12.226m; v(t) = 4.94m/s\n",
      "t = 4.95s; x = 12.276m; v(t) = 4.95m/s\n",
      "t = 4.96s; x = 12.326m; v(t) = 4.96m/s\n",
      "t = 4.97s; x = 12.375m; v(t) = 4.97m/s\n",
      "t = 4.98s; x = 12.425m; v(t) = 4.98m/s\n",
      "t = 4.99s; x = 12.475m; v(t) = 4.99m/s\n",
      "t = 5.00s; x = 12.525m; v(t) = 5.00m/s\n",
      "t = 5.01s; x = 12.575m; v(t) = 5.01m/s\n",
      "t = 5.02s; x = 12.625m; v(t) = 5.02m/s\n",
      "t = 5.03s; x = 12.676m; v(t) = 5.03m/s\n",
      "t = 5.04s; x = 12.726m; v(t) = 5.04m/s\n",
      "t = 5.05s; x = 12.776m; v(t) = 5.05m/s\n",
      "t = 5.06s; x = 12.827m; v(t) = 5.06m/s\n",
      "t = 5.07s; x = 12.878m; v(t) = 5.07m/s\n",
      "t = 5.08s; x = 12.929m; v(t) = 5.08m/s\n",
      "t = 5.09s; x = 12.979m; v(t) = 5.09m/s\n",
      "t = 5.10s; x = 13.030m; v(t) = 5.10m/s\n",
      "t = 5.11s; x = 13.082m; v(t) = 5.11m/s\n",
      "t = 5.12s; x = 13.133m; v(t) = 5.12m/s\n",
      "t = 5.13s; x = 13.184m; v(t) = 5.13m/s\n",
      "t = 5.14s; x = 13.235m; v(t) = 5.14m/s\n",
      "t = 5.15s; x = 13.287m; v(t) = 5.15m/s\n",
      "t = 5.16s; x = 13.339m; v(t) = 5.16m/s\n",
      "t = 5.17s; x = 13.390m; v(t) = 5.17m/s\n",
      "t = 5.18s; x = 13.442m; v(t) = 5.18m/s\n",
      "t = 5.19s; x = 13.494m; v(t) = 5.19m/s\n",
      "t = 5.20s; x = 13.546m; v(t) = 5.20m/s\n",
      "t = 5.21s; x = 13.598m; v(t) = 5.21m/s\n",
      "t = 5.22s; x = 13.650m; v(t) = 5.22m/s\n",
      "t = 5.23s; x = 13.703m; v(t) = 5.23m/s\n",
      "t = 5.24s; x = 13.755m; v(t) = 5.24m/s\n",
      "t = 5.25s; x = 13.807m; v(t) = 5.25m/s\n",
      "t = 5.26s; x = 13.860m; v(t) = 5.26m/s\n",
      "t = 5.27s; x = 13.913m; v(t) = 5.27m/s\n",
      "t = 5.28s; x = 13.966m; v(t) = 5.28m/s\n",
      "t = 5.29s; x = 14.018m; v(t) = 5.29m/s\n",
      "t = 5.30s; x = 14.071m; v(t) = 5.30m/s\n",
      "t = 5.31s; x = 14.125m; v(t) = 5.31m/s\n",
      "t = 5.32s; x = 14.178m; v(t) = 5.32m/s\n",
      "t = 5.33s; x = 14.231m; v(t) = 5.33m/s\n",
      "t = 5.34s; x = 14.284m; v(t) = 5.34m/s\n",
      "t = 5.35s; x = 14.338m; v(t) = 5.35m/s\n",
      "t = 5.36s; x = 14.392m; v(t) = 5.36m/s\n",
      "t = 5.37s; x = 14.445m; v(t) = 5.37m/s\n",
      "t = 5.38s; x = 14.499m; v(t) = 5.38m/s\n",
      "t = 5.39s; x = 14.553m; v(t) = 5.39m/s\n",
      "t = 5.40s; x = 14.607m; v(t) = 5.40m/s\n",
      "t = 5.41s; x = 14.661m; v(t) = 5.41m/s\n",
      "t = 5.42s; x = 14.715m; v(t) = 5.42m/s\n",
      "t = 5.43s; x = 14.770m; v(t) = 5.43m/s\n",
      "t = 5.44s; x = 14.824m; v(t) = 5.44m/s\n",
      "t = 5.45s; x = 14.878m; v(t) = 5.45m/s\n",
      "t = 5.46s; x = 14.933m; v(t) = 5.46m/s\n",
      "t = 5.47s; x = 14.988m; v(t) = 5.47m/s\n",
      "t = 5.48s; x = 15.043m; v(t) = 5.48m/s\n",
      "t = 5.49s; x = 15.097m; v(t) = 5.49m/s\n",
      "t = 5.50s; x = 15.152m; v(t) = 5.50m/s\n",
      "t = 5.51s; x = 15.208m; v(t) = 5.51m/s\n",
      "t = 5.52s; x = 15.263m; v(t) = 5.52m/s\n",
      "t = 5.53s; x = 15.318m; v(t) = 5.53m/s\n",
      "t = 5.54s; x = 15.373m; v(t) = 5.54m/s\n",
      "t = 5.55s; x = 15.429m; v(t) = 5.55m/s\n",
      "t = 5.56s; x = 15.485m; v(t) = 5.56m/s\n",
      "t = 5.57s; x = 15.540m; v(t) = 5.57m/s\n",
      "t = 5.58s; x = 15.596m; v(t) = 5.58m/s\n",
      "t = 5.59s; x = 15.652m; v(t) = 5.59m/s\n",
      "t = 5.60s; x = 15.708m; v(t) = 5.60m/s\n",
      "t = 5.61s; x = 15.764m; v(t) = 5.61m/s\n",
      "t = 5.62s; x = 15.820m; v(t) = 5.62m/s\n",
      "t = 5.63s; x = 15.877m; v(t) = 5.63m/s\n",
      "t = 5.64s; x = 15.933m; v(t) = 5.64m/s\n",
      "t = 5.65s; x = 15.989m; v(t) = 5.65m/s\n",
      "t = 5.66s; x = 16.046m; v(t) = 5.66m/s\n",
      "t = 5.67s; x = 16.103m; v(t) = 5.67m/s\n",
      "t = 5.68s; x = 16.160m; v(t) = 5.68m/s\n",
      "t = 5.69s; x = 16.216m; v(t) = 5.69m/s\n",
      "t = 5.70s; x = 16.273m; v(t) = 5.70m/s\n",
      "t = 5.71s; x = 16.331m; v(t) = 5.71m/s\n",
      "t = 5.72s; x = 16.388m; v(t) = 5.72m/s\n",
      "t = 5.73s; x = 16.445m; v(t) = 5.73m/s\n",
      "t = 5.74s; x = 16.502m; v(t) = 5.74m/s\n",
      "t = 5.75s; x = 16.560m; v(t) = 5.75m/s\n",
      "t = 5.76s; x = 16.618m; v(t) = 5.76m/s\n",
      "t = 5.77s; x = 16.675m; v(t) = 5.77m/s\n",
      "t = 5.78s; x = 16.733m; v(t) = 5.78m/s\n",
      "t = 5.79s; x = 16.791m; v(t) = 5.79m/s\n",
      "t = 5.80s; x = 16.849m; v(t) = 5.80m/s\n",
      "t = 5.81s; x = 16.907m; v(t) = 5.81m/s\n",
      "t = 5.82s; x = 16.965m; v(t) = 5.82m/s\n",
      "t = 5.83s; x = 17.024m; v(t) = 5.83m/s\n",
      "t = 5.84s; x = 17.082m; v(t) = 5.84m/s\n",
      "t = 5.85s; x = 17.140m; v(t) = 5.85m/s\n",
      "t = 5.86s; x = 17.199m; v(t) = 5.86m/s\n",
      "t = 5.87s; x = 17.258m; v(t) = 5.87m/s\n",
      "t = 5.88s; x = 17.317m; v(t) = 5.88m/s\n",
      "t = 5.89s; x = 17.375m; v(t) = 5.89m/s\n",
      "t = 5.90s; x = 17.434m; v(t) = 5.90m/s\n",
      "t = 5.91s; x = 17.494m; v(t) = 5.91m/s\n",
      "t = 5.92s; x = 17.553m; v(t) = 5.92m/s\n",
      "t = 5.93s; x = 17.612m; v(t) = 5.93m/s\n",
      "t = 5.94s; x = 17.671m; v(t) = 5.94m/s\n",
      "t = 5.95s; x = 17.731m; v(t) = 5.95m/s\n",
      "t = 5.96s; x = 17.791m; v(t) = 5.96m/s\n",
      "t = 5.97s; x = 17.850m; v(t) = 5.97m/s\n",
      "t = 5.98s; x = 17.910m; v(t) = 5.98m/s\n",
      "t = 5.99s; x = 17.970m; v(t) = 5.99m/s\n",
      "t = 6.00s; x = 18.030m; v(t) = 6.00m/s\n",
      "t = 6.01s; x = 18.090m; v(t) = 6.01m/s\n",
      "t = 6.02s; x = 18.150m; v(t) = 6.02m/s\n",
      "t = 6.03s; x = 18.211m; v(t) = 6.03m/s\n",
      "t = 6.04s; x = 18.271m; v(t) = 6.04m/s\n",
      "t = 6.05s; x = 18.331m; v(t) = 6.05m/s\n",
      "t = 6.06s; x = 18.392m; v(t) = 6.06m/s\n",
      "t = 6.07s; x = 18.453m; v(t) = 6.07m/s\n",
      "t = 6.08s; x = 18.514m; v(t) = 6.08m/s\n",
      "t = 6.09s; x = 18.574m; v(t) = 6.09m/s\n",
      "t = 6.10s; x = 18.635m; v(t) = 6.10m/s\n",
      "t = 6.11s; x = 18.697m; v(t) = 6.11m/s\n",
      "t = 6.12s; x = 18.758m; v(t) = 6.12m/s\n",
      "t = 6.13s; x = 18.819m; v(t) = 6.13m/s\n",
      "t = 6.14s; x = 18.880m; v(t) = 6.14m/s\n",
      "t = 6.15s; x = 18.942m; v(t) = 6.15m/s\n",
      "t = 6.16s; x = 19.004m; v(t) = 6.16m/s\n",
      "t = 6.17s; x = 19.065m; v(t) = 6.17m/s\n",
      "t = 6.18s; x = 19.127m; v(t) = 6.18m/s\n",
      "t = 6.19s; x = 19.189m; v(t) = 6.19m/s\n",
      "t = 6.20s; x = 19.251m; v(t) = 6.20m/s\n",
      "t = 6.21s; x = 19.313m; v(t) = 6.21m/s\n",
      "t = 6.22s; x = 19.375m; v(t) = 6.22m/s\n",
      "t = 6.23s; x = 19.438m; v(t) = 6.23m/s\n",
      "t = 6.24s; x = 19.500m; v(t) = 6.24m/s\n",
      "t = 6.25s; x = 19.562m; v(t) = 6.25m/s\n",
      "t = 6.26s; x = 19.625m; v(t) = 6.26m/s\n",
      "t = 6.27s; x = 19.688m; v(t) = 6.27m/s\n",
      "t = 6.28s; x = 19.751m; v(t) = 6.28m/s\n",
      "t = 6.29s; x = 19.813m; v(t) = 6.29m/s\n",
      "t = 6.30s; x = 19.876m; v(t) = 6.30m/s\n",
      "t = 6.31s; x = 19.940m; v(t) = 6.31m/s\n",
      "t = 6.32s; x = 20.003m; v(t) = 6.32m/s\n",
      "t = 6.33s; x = 20.066m; v(t) = 6.33m/s\n",
      "t = 6.34s; x = 20.129m; v(t) = 6.34m/s\n",
      "t = 6.35s; x = 20.193m; v(t) = 6.35m/s\n",
      "t = 6.36s; x = 20.257m; v(t) = 6.36m/s\n",
      "t = 6.37s; x = 20.320m; v(t) = 6.37m/s\n",
      "t = 6.38s; x = 20.384m; v(t) = 6.38m/s\n",
      "t = 6.39s; x = 20.448m; v(t) = 6.39m/s\n",
      "t = 6.40s; x = 20.512m; v(t) = 6.40m/s\n",
      "t = 6.41s; x = 20.576m; v(t) = 6.41m/s\n",
      "t = 6.42s; x = 20.640m; v(t) = 6.42m/s\n",
      "t = 6.43s; x = 20.705m; v(t) = 6.43m/s\n",
      "t = 6.44s; x = 20.769m; v(t) = 6.44m/s\n",
      "t = 6.45s; x = 20.833m; v(t) = 6.45m/s\n",
      "t = 6.46s; x = 20.898m; v(t) = 6.46m/s\n",
      "t = 6.47s; x = 20.963m; v(t) = 6.47m/s\n",
      "t = 6.48s; x = 21.028m; v(t) = 6.48m/s\n",
      "t = 6.49s; x = 21.092m; v(t) = 6.49m/s\n",
      "t = 6.50s; x = 21.157m; v(t) = 6.50m/s\n",
      "t = 6.51s; x = 21.223m; v(t) = 6.51m/s\n",
      "t = 6.52s; x = 21.288m; v(t) = 6.52m/s\n",
      "t = 6.53s; x = 21.353m; v(t) = 6.53m/s\n",
      "t = 6.54s; x = 21.418m; v(t) = 6.54m/s\n",
      "t = 6.55s; x = 21.484m; v(t) = 6.55m/s\n",
      "t = 6.56s; x = 21.550m; v(t) = 6.56m/s\n",
      "t = 6.57s; x = 21.615m; v(t) = 6.57m/s\n",
      "t = 6.58s; x = 21.681m; v(t) = 6.58m/s\n",
      "t = 6.59s; x = 21.747m; v(t) = 6.59m/s\n",
      "t = 6.60s; x = 21.813m; v(t) = 6.60m/s\n",
      "t = 6.61s; x = 21.879m; v(t) = 6.61m/s\n",
      "t = 6.62s; x = 21.945m; v(t) = 6.62m/s\n",
      "t = 6.63s; x = 22.012m; v(t) = 6.63m/s\n",
      "t = 6.64s; x = 22.078m; v(t) = 6.64m/s\n",
      "t = 6.65s; x = 22.144m; v(t) = 6.65m/s\n",
      "t = 6.66s; x = 22.211m; v(t) = 6.66m/s\n",
      "t = 6.67s; x = 22.278m; v(t) = 6.67m/s\n",
      "t = 6.68s; x = 22.345m; v(t) = 6.68m/s\n",
      "t = 6.69s; x = 22.411m; v(t) = 6.69m/s\n",
      "t = 6.70s; x = 22.478m; v(t) = 6.70m/s\n",
      "t = 6.71s; x = 22.546m; v(t) = 6.71m/s\n",
      "t = 6.72s; x = 22.613m; v(t) = 6.72m/s\n",
      "t = 6.73s; x = 22.680m; v(t) = 6.73m/s\n",
      "t = 6.74s; x = 22.747m; v(t) = 6.74m/s\n",
      "t = 6.75s; x = 22.815m; v(t) = 6.75m/s\n",
      "t = 6.76s; x = 22.883m; v(t) = 6.76m/s\n",
      "t = 6.77s; x = 22.950m; v(t) = 6.77m/s\n",
      "t = 6.78s; x = 23.018m; v(t) = 6.78m/s\n",
      "t = 6.79s; x = 23.086m; v(t) = 6.79m/s\n",
      "t = 6.80s; x = 23.154m; v(t) = 6.80m/s\n",
      "t = 6.81s; x = 23.222m; v(t) = 6.81m/s\n",
      "t = 6.82s; x = 23.290m; v(t) = 6.82m/s\n",
      "t = 6.83s; x = 23.359m; v(t) = 6.83m/s\n",
      "t = 6.84s; x = 23.427m; v(t) = 6.84m/s\n",
      "t = 6.85s; x = 23.495m; v(t) = 6.85m/s\n",
      "t = 6.86s; x = 23.564m; v(t) = 6.86m/s\n",
      "t = 6.87s; x = 23.633m; v(t) = 6.87m/s\n",
      "t = 6.88s; x = 23.702m; v(t) = 6.88m/s\n",
      "t = 6.89s; x = 23.770m; v(t) = 6.89m/s\n",
      "t = 6.90s; x = 23.839m; v(t) = 6.90m/s\n",
      "t = 6.91s; x = 23.909m; v(t) = 6.91m/s\n",
      "t = 6.92s; x = 23.978m; v(t) = 6.92m/s\n",
      "t = 6.93s; x = 24.047m; v(t) = 6.93m/s\n",
      "t = 6.94s; x = 24.116m; v(t) = 6.94m/s\n",
      "t = 6.95s; x = 24.186m; v(t) = 6.95m/s\n",
      "t = 6.96s; x = 24.256m; v(t) = 6.96m/s\n",
      "t = 6.97s; x = 24.325m; v(t) = 6.97m/s\n",
      "t = 6.98s; x = 24.395m; v(t) = 6.98m/s\n",
      "t = 6.99s; x = 24.465m; v(t) = 6.99m/s\n",
      "t = 7.00s; x = 24.535m; v(t) = 7.00m/s\n",
      "t = 7.01s; x = 24.605m; v(t) = 7.01m/s\n",
      "t = 7.02s; x = 24.675m; v(t) = 7.02m/s\n",
      "t = 7.03s; x = 24.746m; v(t) = 7.03m/s\n",
      "t = 7.04s; x = 24.816m; v(t) = 7.04m/s\n",
      "t = 7.05s; x = 24.886m; v(t) = 7.05m/s\n",
      "t = 7.06s; x = 24.957m; v(t) = 7.06m/s\n",
      "t = 7.07s; x = 25.028m; v(t) = 7.07m/s\n",
      "t = 7.08s; x = 25.099m; v(t) = 7.08m/s\n",
      "t = 7.09s; x = 25.169m; v(t) = 7.09m/s\n",
      "t = 7.10s; x = 25.240m; v(t) = 7.10m/s\n",
      "t = 7.11s; x = 25.312m; v(t) = 7.11m/s\n",
      "t = 7.12s; x = 25.383m; v(t) = 7.12m/s\n",
      "t = 7.13s; x = 25.454m; v(t) = 7.13m/s\n",
      "t = 7.14s; x = 25.525m; v(t) = 7.14m/s\n",
      "t = 7.15s; x = 25.597m; v(t) = 7.15m/s\n",
      "t = 7.16s; x = 25.669m; v(t) = 7.16m/s\n",
      "t = 7.17s; x = 25.740m; v(t) = 7.17m/s\n",
      "t = 7.18s; x = 25.812m; v(t) = 7.18m/s\n",
      "t = 7.19s; x = 25.884m; v(t) = 7.19m/s\n",
      "t = 7.20s; x = 25.956m; v(t) = 7.20m/s\n",
      "t = 7.21s; x = 26.028m; v(t) = 7.21m/s\n",
      "t = 7.22s; x = 26.100m; v(t) = 7.22m/s\n",
      "t = 7.23s; x = 26.173m; v(t) = 7.23m/s\n",
      "t = 7.24s; x = 26.245m; v(t) = 7.24m/s\n",
      "t = 7.25s; x = 26.317m; v(t) = 7.25m/s\n",
      "t = 7.26s; x = 26.390m; v(t) = 7.26m/s\n",
      "t = 7.27s; x = 26.463m; v(t) = 7.27m/s\n",
      "t = 7.28s; x = 26.536m; v(t) = 7.28m/s\n",
      "t = 7.29s; x = 26.608m; v(t) = 7.29m/s\n",
      "t = 7.30s; x = 26.681m; v(t) = 7.30m/s\n",
      "t = 7.31s; x = 26.755m; v(t) = 7.31m/s\n",
      "t = 7.32s; x = 26.828m; v(t) = 7.32m/s\n",
      "t = 7.33s; x = 26.901m; v(t) = 7.33m/s\n",
      "t = 7.34s; x = 26.974m; v(t) = 7.34m/s\n",
      "t = 7.35s; x = 27.048m; v(t) = 7.35m/s\n",
      "t = 7.36s; x = 27.122m; v(t) = 7.36m/s\n",
      "t = 7.37s; x = 27.195m; v(t) = 7.37m/s\n",
      "t = 7.38s; x = 27.269m; v(t) = 7.38m/s\n",
      "t = 7.39s; x = 27.343m; v(t) = 7.39m/s\n",
      "t = 7.40s; x = 27.417m; v(t) = 7.40m/s\n",
      "t = 7.41s; x = 27.491m; v(t) = 7.41m/s\n",
      "t = 7.42s; x = 27.565m; v(t) = 7.42m/s\n",
      "t = 7.43s; x = 27.640m; v(t) = 7.43m/s\n",
      "t = 7.44s; x = 27.714m; v(t) = 7.44m/s\n",
      "t = 7.45s; x = 27.788m; v(t) = 7.45m/s\n",
      "t = 7.46s; x = 27.863m; v(t) = 7.46m/s\n",
      "t = 7.47s; x = 27.938m; v(t) = 7.47m/s\n",
      "t = 7.48s; x = 28.013m; v(t) = 7.48m/s\n",
      "t = 7.49s; x = 28.087m; v(t) = 7.49m/s\n",
      "t = 7.50s; x = 28.162m; v(t) = 7.50m/s\n",
      "t = 7.51s; x = 28.238m; v(t) = 7.51m/s\n",
      "t = 7.52s; x = 28.313m; v(t) = 7.52m/s\n",
      "t = 7.53s; x = 28.388m; v(t) = 7.53m/s\n",
      "t = 7.54s; x = 28.463m; v(t) = 7.54m/s\n",
      "t = 7.55s; x = 28.539m; v(t) = 7.55m/s\n",
      "t = 7.56s; x = 28.615m; v(t) = 7.56m/s\n",
      "t = 7.57s; x = 28.690m; v(t) = 7.57m/s\n",
      "t = 7.58s; x = 28.766m; v(t) = 7.58m/s\n",
      "t = 7.59s; x = 28.842m; v(t) = 7.59m/s\n",
      "t = 7.60s; x = 28.918m; v(t) = 7.60m/s\n",
      "t = 7.61s; x = 28.994m; v(t) = 7.61m/s\n",
      "t = 7.62s; x = 29.070m; v(t) = 7.62m/s\n",
      "t = 7.63s; x = 29.147m; v(t) = 7.63m/s\n",
      "t = 7.64s; x = 29.223m; v(t) = 7.64m/s\n",
      "t = 7.65s; x = 29.299m; v(t) = 7.65m/s\n",
      "t = 7.66s; x = 29.376m; v(t) = 7.66m/s\n",
      "t = 7.67s; x = 29.453m; v(t) = 7.67m/s\n",
      "t = 7.68s; x = 29.530m; v(t) = 7.68m/s\n",
      "t = 7.69s; x = 29.606m; v(t) = 7.69m/s\n",
      "t = 7.70s; x = 29.683m; v(t) = 7.70m/s\n",
      "t = 7.71s; x = 29.761m; v(t) = 7.71m/s\n",
      "t = 7.72s; x = 29.838m; v(t) = 7.72m/s\n",
      "t = 7.73s; x = 29.915m; v(t) = 7.73m/s\n",
      "t = 7.74s; x = 29.992m; v(t) = 7.74m/s\n",
      "t = 7.75s; x = 30.070m; v(t) = 7.75m/s\n",
      "t = 7.76s; x = 30.148m; v(t) = 7.76m/s\n",
      "t = 7.77s; x = 30.225m; v(t) = 7.77m/s\n",
      "t = 7.78s; x = 30.303m; v(t) = 7.78m/s\n",
      "t = 7.79s; x = 30.381m; v(t) = 7.79m/s\n",
      "t = 7.80s; x = 30.459m; v(t) = 7.80m/s\n",
      "t = 7.81s; x = 30.537m; v(t) = 7.81m/s\n",
      "t = 7.82s; x = 30.615m; v(t) = 7.82m/s\n",
      "t = 7.83s; x = 30.694m; v(t) = 7.83m/s\n",
      "t = 7.84s; x = 30.772m; v(t) = 7.84m/s\n",
      "t = 7.85s; x = 30.850m; v(t) = 7.85m/s\n",
      "t = 7.86s; x = 30.929m; v(t) = 7.86m/s\n",
      "t = 7.87s; x = 31.008m; v(t) = 7.87m/s\n",
      "t = 7.88s; x = 31.087m; v(t) = 7.88m/s\n",
      "t = 7.89s; x = 31.165m; v(t) = 7.89m/s\n",
      "t = 7.90s; x = 31.244m; v(t) = 7.90m/s\n",
      "t = 7.91s; x = 31.324m; v(t) = 7.91m/s\n",
      "t = 7.92s; x = 31.403m; v(t) = 7.92m/s\n",
      "t = 7.93s; x = 31.482m; v(t) = 7.93m/s\n",
      "t = 7.94s; x = 31.561m; v(t) = 7.94m/s\n",
      "t = 7.95s; x = 31.641m; v(t) = 7.95m/s\n",
      "t = 7.96s; x = 31.721m; v(t) = 7.96m/s\n",
      "t = 7.97s; x = 31.800m; v(t) = 7.97m/s\n",
      "t = 7.98s; x = 31.880m; v(t) = 7.98m/s\n",
      "t = 7.99s; x = 31.960m; v(t) = 7.99m/s\n",
      "t = 8.00s; x = 32.040m; v(t) = 8.00m/s\n",
      "t = 8.01s; x = 32.120m; v(t) = 8.01m/s\n",
      "t = 8.02s; x = 32.200m; v(t) = 8.02m/s\n",
      "t = 8.03s; x = 32.281m; v(t) = 8.03m/s\n",
      "t = 8.04s; x = 32.361m; v(t) = 8.04m/s\n",
      "t = 8.05s; x = 32.441m; v(t) = 8.05m/s\n",
      "t = 8.06s; x = 32.522m; v(t) = 8.06m/s\n",
      "t = 8.07s; x = 32.603m; v(t) = 8.07m/s\n",
      "t = 8.08s; x = 32.684m; v(t) = 8.08m/s\n",
      "t = 8.09s; x = 32.764m; v(t) = 8.09m/s\n",
      "t = 8.10s; x = 32.845m; v(t) = 8.10m/s\n",
      "t = 8.11s; x = 32.927m; v(t) = 8.11m/s\n",
      "t = 8.12s; x = 33.008m; v(t) = 8.12m/s\n",
      "t = 8.13s; x = 33.089m; v(t) = 8.13m/s\n",
      "t = 8.14s; x = 33.170m; v(t) = 8.14m/s\n",
      "t = 8.15s; x = 33.252m; v(t) = 8.15m/s\n",
      "t = 8.16s; x = 33.334m; v(t) = 8.16m/s\n",
      "t = 8.17s; x = 33.415m; v(t) = 8.17m/s\n",
      "t = 8.18s; x = 33.497m; v(t) = 8.18m/s\n",
      "t = 8.19s; x = 33.579m; v(t) = 8.19m/s\n",
      "t = 8.20s; x = 33.661m; v(t) = 8.20m/s\n",
      "t = 8.21s; x = 33.743m; v(t) = 8.21m/s\n",
      "t = 8.22s; x = 33.825m; v(t) = 8.22m/s\n",
      "t = 8.23s; x = 33.908m; v(t) = 8.23m/s\n",
      "t = 8.24s; x = 33.990m; v(t) = 8.24m/s\n",
      "t = 8.25s; x = 34.072m; v(t) = 8.25m/s\n",
      "t = 8.26s; x = 34.155m; v(t) = 8.26m/s\n",
      "t = 8.27s; x = 34.238m; v(t) = 8.27m/s\n",
      "t = 8.28s; x = 34.321m; v(t) = 8.28m/s\n",
      "t = 8.29s; x = 34.403m; v(t) = 8.29m/s\n",
      "t = 8.30s; x = 34.486m; v(t) = 8.30m/s\n",
      "t = 8.31s; x = 34.570m; v(t) = 8.31m/s\n",
      "t = 8.32s; x = 34.653m; v(t) = 8.32m/s\n",
      "t = 8.33s; x = 34.736m; v(t) = 8.33m/s\n",
      "t = 8.34s; x = 34.819m; v(t) = 8.34m/s\n",
      "t = 8.35s; x = 34.903m; v(t) = 8.35m/s\n",
      "t = 8.36s; x = 34.987m; v(t) = 8.36m/s\n",
      "t = 8.37s; x = 35.070m; v(t) = 8.37m/s\n",
      "t = 8.38s; x = 35.154m; v(t) = 8.38m/s\n",
      "t = 8.39s; x = 35.238m; v(t) = 8.39m/s\n",
      "t = 8.40s; x = 35.322m; v(t) = 8.40m/s\n",
      "t = 8.41s; x = 35.406m; v(t) = 8.41m/s\n",
      "t = 8.42s; x = 35.490m; v(t) = 8.42m/s\n",
      "t = 8.43s; x = 35.575m; v(t) = 8.43m/s\n",
      "t = 8.44s; x = 35.659m; v(t) = 8.44m/s\n",
      "t = 8.45s; x = 35.743m; v(t) = 8.45m/s\n",
      "t = 8.46s; x = 35.828m; v(t) = 8.46m/s\n",
      "t = 8.47s; x = 35.913m; v(t) = 8.47m/s\n",
      "t = 8.48s; x = 35.998m; v(t) = 8.48m/s\n",
      "t = 8.49s; x = 36.082m; v(t) = 8.49m/s\n",
      "t = 8.50s; x = 36.167m; v(t) = 8.50m/s\n",
      "t = 8.51s; x = 36.253m; v(t) = 8.51m/s\n",
      "t = 8.52s; x = 36.338m; v(t) = 8.52m/s\n",
      "t = 8.53s; x = 36.423m; v(t) = 8.53m/s\n",
      "t = 8.54s; x = 36.508m; v(t) = 8.54m/s\n",
      "t = 8.55s; x = 36.594m; v(t) = 8.55m/s\n",
      "t = 8.56s; x = 36.680m; v(t) = 8.56m/s\n",
      "t = 8.57s; x = 36.765m; v(t) = 8.57m/s\n",
      "t = 8.58s; x = 36.851m; v(t) = 8.58m/s\n",
      "t = 8.59s; x = 36.937m; v(t) = 8.59m/s\n",
      "t = 8.60s; x = 37.023m; v(t) = 8.60m/s\n",
      "t = 8.61s; x = 37.109m; v(t) = 8.61m/s\n",
      "t = 8.62s; x = 37.195m; v(t) = 8.62m/s\n",
      "t = 8.63s; x = 37.282m; v(t) = 8.63m/s\n",
      "t = 8.64s; x = 37.368m; v(t) = 8.64m/s\n",
      "t = 8.65s; x = 37.454m; v(t) = 8.65m/s\n",
      "t = 8.66s; x = 37.541m; v(t) = 8.66m/s\n",
      "t = 8.67s; x = 37.628m; v(t) = 8.67m/s\n",
      "t = 8.68s; x = 37.715m; v(t) = 8.68m/s\n",
      "t = 8.69s; x = 37.801m; v(t) = 8.69m/s\n",
      "t = 8.70s; x = 37.888m; v(t) = 8.70m/s\n",
      "t = 8.71s; x = 37.976m; v(t) = 8.71m/s\n",
      "t = 8.72s; x = 38.063m; v(t) = 8.72m/s\n",
      "t = 8.73s; x = 38.150m; v(t) = 8.73m/s\n",
      "t = 8.74s; x = 38.237m; v(t) = 8.74m/s\n",
      "t = 8.75s; x = 38.325m; v(t) = 8.75m/s\n",
      "t = 8.76s; x = 38.413m; v(t) = 8.76m/s\n",
      "t = 8.77s; x = 38.500m; v(t) = 8.77m/s\n",
      "t = 8.78s; x = 38.588m; v(t) = 8.78m/s\n",
      "t = 8.79s; x = 38.676m; v(t) = 8.79m/s\n",
      "t = 8.80s; x = 38.764m; v(t) = 8.80m/s\n",
      "t = 8.81s; x = 38.852m; v(t) = 8.81m/s\n",
      "t = 8.82s; x = 38.940m; v(t) = 8.82m/s\n",
      "t = 8.83s; x = 39.029m; v(t) = 8.83m/s\n",
      "t = 8.84s; x = 39.117m; v(t) = 8.84m/s\n",
      "t = 8.85s; x = 39.205m; v(t) = 8.85m/s\n",
      "t = 8.86s; x = 39.294m; v(t) = 8.86m/s\n",
      "t = 8.87s; x = 39.383m; v(t) = 8.87m/s\n",
      "t = 8.88s; x = 39.472m; v(t) = 8.88m/s\n",
      "t = 8.89s; x = 39.560m; v(t) = 8.89m/s\n",
      "t = 8.90s; x = 39.649m; v(t) = 8.90m/s\n",
      "t = 8.91s; x = 39.739m; v(t) = 8.91m/s\n",
      "t = 8.92s; x = 39.828m; v(t) = 8.92m/s\n",
      "t = 8.93s; x = 39.917m; v(t) = 8.93m/s\n",
      "t = 8.94s; x = 40.006m; v(t) = 8.94m/s\n",
      "t = 8.95s; x = 40.096m; v(t) = 8.95m/s\n",
      "t = 8.96s; x = 40.186m; v(t) = 8.96m/s\n",
      "t = 8.97s; x = 40.275m; v(t) = 8.97m/s\n",
      "t = 8.98s; x = 40.365m; v(t) = 8.98m/s\n",
      "t = 8.99s; x = 40.455m; v(t) = 8.99m/s\n",
      "t = 9.00s; x = 40.545m; v(t) = 9.00m/s\n",
      "t = 9.01s; x = 40.635m; v(t) = 9.01m/s\n",
      "t = 9.02s; x = 40.725m; v(t) = 9.02m/s\n",
      "t = 9.03s; x = 40.816m; v(t) = 9.03m/s\n",
      "t = 9.04s; x = 40.906m; v(t) = 9.04m/s\n",
      "t = 9.05s; x = 40.996m; v(t) = 9.05m/s\n",
      "t = 9.06s; x = 41.087m; v(t) = 9.06m/s\n",
      "t = 9.07s; x = 41.178m; v(t) = 9.07m/s\n",
      "t = 9.08s; x = 41.269m; v(t) = 9.08m/s\n",
      "t = 9.09s; x = 41.359m; v(t) = 9.09m/s\n",
      "t = 9.10s; x = 41.450m; v(t) = 9.10m/s\n",
      "t = 9.11s; x = 41.542m; v(t) = 9.11m/s\n",
      "t = 9.12s; x = 41.633m; v(t) = 9.12m/s\n",
      "t = 9.13s; x = 41.724m; v(t) = 9.13m/s\n",
      "t = 9.14s; x = 41.815m; v(t) = 9.14m/s\n",
      "t = 9.15s; x = 41.907m; v(t) = 9.15m/s\n",
      "t = 9.16s; x = 41.999m; v(t) = 9.16m/s\n",
      "t = 9.17s; x = 42.090m; v(t) = 9.17m/s\n",
      "t = 9.18s; x = 42.182m; v(t) = 9.18m/s\n",
      "t = 9.19s; x = 42.274m; v(t) = 9.19m/s\n",
      "t = 9.20s; x = 42.366m; v(t) = 9.20m/s\n",
      "t = 9.21s; x = 42.458m; v(t) = 9.21m/s\n",
      "t = 9.22s; x = 42.550m; v(t) = 9.22m/s\n",
      "t = 9.23s; x = 42.643m; v(t) = 9.23m/s\n",
      "t = 9.24s; x = 42.735m; v(t) = 9.24m/s\n",
      "t = 9.25s; x = 42.827m; v(t) = 9.25m/s\n",
      "t = 9.26s; x = 42.920m; v(t) = 9.26m/s\n",
      "t = 9.27s; x = 43.013m; v(t) = 9.27m/s\n",
      "t = 9.28s; x = 43.106m; v(t) = 9.28m/s\n",
      "t = 9.29s; x = 43.198m; v(t) = 9.29m/s\n",
      "t = 9.30s; x = 43.291m; v(t) = 9.30m/s\n",
      "t = 9.31s; x = 43.385m; v(t) = 9.31m/s\n",
      "t = 9.32s; x = 43.478m; v(t) = 9.32m/s\n",
      "t = 9.33s; x = 43.571m; v(t) = 9.33m/s\n",
      "t = 9.34s; x = 43.664m; v(t) = 9.34m/s\n",
      "t = 9.35s; x = 43.758m; v(t) = 9.35m/s\n",
      "t = 9.36s; x = 43.852m; v(t) = 9.36m/s\n",
      "t = 9.37s; x = 43.945m; v(t) = 9.37m/s\n",
      "t = 9.38s; x = 44.039m; v(t) = 9.38m/s\n",
      "t = 9.39s; x = 44.133m; v(t) = 9.39m/s\n",
      "t = 9.40s; x = 44.227m; v(t) = 9.40m/s\n",
      "t = 9.41s; x = 44.321m; v(t) = 9.41m/s\n",
      "t = 9.42s; x = 44.415m; v(t) = 9.42m/s\n",
      "t = 9.43s; x = 44.510m; v(t) = 9.43m/s\n",
      "t = 9.44s; x = 44.604m; v(t) = 9.44m/s\n",
      "t = 9.45s; x = 44.698m; v(t) = 9.45m/s\n",
      "t = 9.46s; x = 44.793m; v(t) = 9.46m/s\n",
      "t = 9.47s; x = 44.888m; v(t) = 9.47m/s\n",
      "t = 9.48s; x = 44.983m; v(t) = 9.48m/s\n",
      "t = 9.49s; x = 45.077m; v(t) = 9.49m/s\n",
      "t = 9.50s; x = 45.172m; v(t) = 9.50m/s\n",
      "t = 9.51s; x = 45.268m; v(t) = 9.51m/s\n",
      "t = 9.52s; x = 45.363m; v(t) = 9.52m/s\n",
      "t = 9.53s; x = 45.458m; v(t) = 9.53m/s\n",
      "t = 9.54s; x = 45.553m; v(t) = 9.54m/s\n",
      "t = 9.55s; x = 45.649m; v(t) = 9.55m/s\n",
      "t = 9.56s; x = 45.745m; v(t) = 9.56m/s\n",
      "t = 9.57s; x = 45.840m; v(t) = 9.57m/s\n",
      "t = 9.58s; x = 45.936m; v(t) = 9.58m/s\n",
      "t = 9.59s; x = 46.032m; v(t) = 9.59m/s\n",
      "t = 9.60s; x = 46.128m; v(t) = 9.60m/s\n",
      "t = 9.61s; x = 46.224m; v(t) = 9.61m/s\n",
      "t = 9.62s; x = 46.320m; v(t) = 9.62m/s\n",
      "t = 9.63s; x = 46.417m; v(t) = 9.63m/s\n",
      "t = 9.64s; x = 46.513m; v(t) = 9.64m/s\n",
      "t = 9.65s; x = 46.609m; v(t) = 9.65m/s\n",
      "t = 9.66s; x = 46.706m; v(t) = 9.66m/s\n",
      "t = 9.67s; x = 46.803m; v(t) = 9.67m/s\n",
      "t = 9.68s; x = 46.900m; v(t) = 9.68m/s\n",
      "t = 9.69s; x = 46.996m; v(t) = 9.69m/s\n",
      "t = 9.70s; x = 47.093m; v(t) = 9.70m/s\n",
      "t = 9.71s; x = 47.191m; v(t) = 9.71m/s\n",
      "t = 9.72s; x = 47.288m; v(t) = 9.72m/s\n",
      "t = 9.73s; x = 47.385m; v(t) = 9.73m/s\n",
      "t = 9.74s; x = 47.482m; v(t) = 9.74m/s\n",
      "t = 9.75s; x = 47.580m; v(t) = 9.75m/s\n",
      "t = 9.76s; x = 47.678m; v(t) = 9.76m/s\n",
      "t = 9.77s; x = 47.775m; v(t) = 9.77m/s\n",
      "t = 9.78s; x = 47.873m; v(t) = 9.78m/s\n",
      "t = 9.79s; x = 47.971m; v(t) = 9.79m/s\n",
      "t = 9.80s; x = 48.069m; v(t) = 9.80m/s\n",
      "t = 9.81s; x = 48.167m; v(t) = 9.81m/s\n",
      "t = 9.82s; x = 48.265m; v(t) = 9.82m/s\n",
      "t = 9.83s; x = 48.364m; v(t) = 9.83m/s\n",
      "t = 9.84s; x = 48.462m; v(t) = 9.84m/s\n",
      "t = 9.85s; x = 48.560m; v(t) = 9.85m/s\n",
      "t = 9.86s; x = 48.659m; v(t) = 9.86m/s\n",
      "t = 9.87s; x = 48.758m; v(t) = 9.87m/s\n",
      "t = 9.88s; x = 48.857m; v(t) = 9.88m/s\n",
      "t = 9.89s; x = 48.955m; v(t) = 9.89m/s\n",
      "t = 9.90s; x = 49.054m; v(t) = 9.90m/s\n",
      "t = 9.91s; x = 49.154m; v(t) = 9.91m/s\n",
      "t = 9.92s; x = 49.253m; v(t) = 9.92m/s\n",
      "t = 9.93s; x = 49.352m; v(t) = 9.93m/s\n",
      "t = 9.94s; x = 49.451m; v(t) = 9.94m/s\n",
      "t = 9.95s; x = 49.551m; v(t) = 9.95m/s\n",
      "t = 9.96s; x = 49.651m; v(t) = 9.96m/s\n",
      "t = 9.97s; x = 49.750m; v(t) = 9.97m/s\n",
      "t = 9.98s; x = 49.850m; v(t) = 9.98m/s\n",
      "t = 9.99s; x = 49.950m; v(t) = 9.99m/s\n",
      "t = 10.00s; x = 50.050m; v(t) = 10.00m/s\n"
     ]
    }
   ],
   "source": [
    "#import numpy as np\n",
    "\n",
    "m = 1 # mass\n",
    "f = 1 # force\n",
    "t_final = 10 # final time\n",
    "dt = 0.01 # time step\n",
    "\n",
    "# Initial conditions\n",
    "v0 = 0 # initial velocity\n",
    "x0 = 0 # initial position\n",
    "\n",
    "# Lists to store the results\n",
    "t_list = [0]\n",
    "v_list = [v0]\n",
    "x_list = [x0]\n",
    "\n",
    "for i in range(int(t_final/dt)):\n",
    "    # update velocity\n",
    "    v = v_list[-1] + f/m*dt\n",
    "    v_list.append(v)\n",
    "    \n",
    "    # update position\n",
    "    x = x_list[-1] + v_list[-1]*dt\n",
    "    x_list.append(x)\n",
    "    \n",
    "    # update time\n",
    "    t = (i+1)*dt\n",
    "    t_list.append(t)\n",
    "    \n",
    "    print('t = {:.2f}s; x = {:.3f}m; v(t) = {:.2f}m/s'.format(t, x, v))\n",
    "\n",
    "# Convert lists to arrays\n",
    "#t = np.array(t_list)\n",
    "#v = np.array(v_list)\n",
    "#x = np.array(x_list)"
   ]
  },
  {
   "cell_type": "code",
   "execution_count": 27,
   "id": "04527437",
   "metadata": {},
   "outputs": [
    {
     "data": {
      "text/plain": [
       "<matplotlib.legend.Legend at 0x237eaba70d0>"
      ]
     },
     "execution_count": 27,
     "metadata": {},
     "output_type": "execute_result"
    },
    {
     "data": {
      "image/png": "[encoded data removed]",
      "text/plain": [
       "<Figure size 432x288 with 1 Axes>"
      ]
     },
     "metadata": {
      "needs_background": "light"
     },
     "output_type": "display_data"
    }
   ],
   "source": [
    "import matplotlib.pyplot as plt\n",
    "plt.plot(t_list, x_list, color='r', label=r'$\\frac{dx}{dt}$')\n",
    "plt.plot(t_list, v_list, color='b', label=r'$\\frac{dv}{dt}$')\n",
    "\n",
    "plt.legend(fontsize=14)\n"
   ]
  },
  {
   "cell_type": "markdown",
   "id": "1450519b",
   "metadata": {},
   "source": [
    "<h1> <font color='blue'>Exercise</font></h1>"
   ]
  },
  {
   "cell_type": "markdown",
   "id": "b8b24bff",
   "metadata": {},
   "source": [
    "<h1>1.</h1> \n",
    "Consider a solid with heat capacity C and an initial temperature T0. The solid is placed in an environment with temperature T_e, and heat is transferred from the environment to the solid over time. The rate of heat transfer, dQ/dt, can be described by the equation:\n",
    "\n",
    "$$\\frac{dQ}{dt} = -kA \\frac{(T - T_{e})}{d}$$\n",
    "\n",
    "***where k is the thermal conductivity of the solid, A is the surface area, d is the thickness of the solid, and T is the temperature of the solid.***\n",
    "\n",
    "Use a for loop in Python to solve this equation numerically and determine the temperature T of the solid as a function of time ($t$). The simulation should run from $t=0$ to $t=t_{final}$ with a time step dt, and the initial temperature should be $T_0$.\n",
    "\n",
    "Calculate the specific heat capacity $C_p$ of the solid by running the simulation for a range of heat inputs and plotting the temperature ($T$) versus the heat input ($Q$). Extract the slope of this plot, which will give you $\\frac{C_p}{V}$, where $V$ is the volume of the solid.\n",
    "\n",
    "***Given the parameters $k=0.1$, $A=1$, $d=0.1$, $T_{e}=300$, $T_0=500$, $dt=0.01$, and $t_{final}=100$.***"
   ]
  },
  {
   "cell_type": "code",
   "execution_count": null,
   "id": "cd0c53f8",
   "metadata": {},
   "outputs": [],
   "source": []
  },
  {
   "cell_type": "markdown",
   "id": "900020e9",
   "metadata": {},
   "source": [
    "# Loop Control Statement\n",
    "<p> In python language, loop statements provides you the capacity to over and again run a statement or group of statements.  In any case, once in a while you might need to exit the loop completely or skip certain statement in the loop. Control Statement here, help to change or control the progression of loop execution dependent on the some particular condition</p>\n",
    "<p> There are three extra statements that help you control the flow in a loop. They are: </p>\n",
    "<ul>\n",
    "    <li>Break</li>\n",
    "    <li>Continue</li>\n",
    "    <li>Pass</li>\n",
    "    <li>Else</li>\n",
    "    \n",
    "\n",
    "</ul>\n",
    "<p1>They work with both while and for loops.</p1>\n",
    "\n",
    " "
   ]
  },
  {
   "cell_type": "code",
   "execution_count": 46,
   "id": "9e7d3024",
   "metadata": {},
   "outputs": [
    {
     "name": "stdout",
     "output_type": "stream",
     "text": [
      "0\n",
      "1\n",
      "2\n",
      "3\n",
      "4\n",
      "5\n",
      "6\n",
      "7\n",
      "8\n",
      "9\n",
      "10\n",
      "11\n"
     ]
    }
   ],
   "source": [
    "i = 0\n",
    "while i>=0:\n",
    "    print(i)\n",
    "    if i > 10:\n",
    "        break\n",
    "    i+=1"
   ]
  },
  {
   "cell_type": "markdown",
   "id": "e14e1dbc",
   "metadata": {},
   "source": [
    "<h1>BREAK</h1>\n",
    "The break statement terminates the loop containing it. Control of the program flows to the statement immediately after the body of the loop. If break statement is inside a nested loop (loop inside another loop), break will terminate the innermost loop\n",
    " "
   ]
  },
  {
   "cell_type": "code",
   "execution_count": 48,
   "id": "d5dac0a6",
   "metadata": {},
   "outputs": [
    {
     "name": "stdout",
     "output_type": "stream",
     "text": [
      "John\n",
      "Gideon\n",
      "Elvis\n",
      "Grace\n",
      "Anthonia 'I have found her'\n"
     ]
    }
   ],
   "source": [
    "names = ['John','Gideon','Elvis', 'Grace', 'Anthonia','Rosemary']\n",
    "\n",
    "for name in names:\n",
    "    if name == 'Anthonia':\n",
    "        print(name,\"'I have found her'\")\n",
    "        break\n",
    "    print(name)"
   ]
  },
  {
   "cell_type": "markdown",
   "id": "df3b2cd5",
   "metadata": {},
   "source": [
    "`Trial Example 2.4:`<br />\n",
    "Using the while loop, with a combination of conditions, print out all prime numbers lesser than a given number."
   ]
  },
  {
   "cell_type": "code",
   "execution_count": 14,
   "id": "9125651d",
   "metadata": {},
   "outputs": [
    {
     "name": "stdout",
     "output_type": "stream",
     "text": [
      "Enter a whole number: 23\n",
      "Prime Numbers Between 1 and 23\n",
      "2\n",
      "3\n",
      "5\n",
      "7\n",
      "11\n",
      "13\n",
      "17\n",
      "19\n",
      "23\n"
     ]
    }
   ],
   "source": [
    "value = int(input('Enter a whole number: '))\n",
    "\n",
    "n = 2\n",
    "print('Prime Numbers Between 1 and '+str(value))\n",
    "while n <= value:\n",
    "    m = 2\n",
    "    count = 0\n",
    "    while m <= n//2:\n",
    "        if n%m == 0:\n",
    "            count+=1\n",
    "            break\n",
    "        m+=1\n",
    "    print(n) if count==0 else ''\n",
    "    n+=1"
   ]
  },
  {
   "cell_type": "markdown",
   "id": "86b45f88",
   "metadata": {},
   "source": [
    "<h1>Continue</h1>\n",
    "Just like with an if statement, you can add an else statement to the end of a while or\n",
    "for loop. The code block for the else is executed whenever the loop ends, i.e., when the\n",
    "boolean expression for the while loop evaluates to False, or when the last item of the\n",
    "collection of the for loop is processed. Here is an example for a while loop:"
   ]
  },
  {
   "cell_type": "code",
   "execution_count": 51,
   "id": "fd9df91d",
   "metadata": {},
   "outputs": [
    {
     "name": "stdout",
     "output_type": "stream",
     "text": [
      "Number is 0\n",
      "Number is 1\n",
      "Number is 2\n",
      "Number is 3\n",
      "Number is 4\n",
      "5 is skipped\n",
      "Number is 6\n",
      "Number is 7\n",
      "Number is 8\n",
      "Number is 9\n",
      "Out of loop\n"
     ]
    }
   ],
   "source": [
    "ctr = 0\n",
    "\n",
    "for ctr in range(10):\n",
    "    #ctr = ctr + 1\n",
    "    \n",
    "    if ctr == 5:\n",
    "        print(\"5 is skipped\")\n",
    "       \n",
    "        continue    # continue here\n",
    "        print (\"This won't be printed too.\")\n",
    "    print('Number is ' + str(ctr))\n",
    "print('Out of loop')"
   ]
  },
  {
   "cell_type": "markdown",
   "id": "edf540d9",
   "metadata": {},
   "source": [
    "<h1> Pass</h1>\n",
    "<p>The pass statement does not perform any action, It serves as a placeholder in Python. It can be used when a statement is required syntactically but the program requires no action . Python has a requirement that code blocks after if, except, def, class cannot be empty either than that the interpreter will produce 'IndentationError' if the above mention code blocks are left empty.</p>"
   ]
  },
  {
   "cell_type": "code",
   "execution_count": 52,
   "id": "ea512ac7",
   "metadata": {},
   "outputs": [],
   "source": [
    "for i in range(3):\n",
    "    pass"
   ]
  },
  {
   "cell_type": "code",
   "execution_count": 54,
   "id": "29d002d1",
   "metadata": {},
   "outputs": [],
   "source": [
    "# Example 1\n",
    "x='Kweku'\n",
    "if x==\"Kweku\":\n",
    "    pass\n",
    "\n",
    "#example 2\n",
    "\n",
    "#def myname(name):\n",
    "#    pass"
   ]
  },
  {
   "cell_type": "code",
   "execution_count": 17,
   "id": "bc149bba",
   "metadata": {},
   "outputs": [
    {
     "name": "stdout",
     "output_type": "stream",
     "text": [
      "number is: 2\n",
      "number is: 4\n",
      "number is: 6\n",
      "number is: 10\n"
     ]
    }
   ],
   "source": [
    "#Example two\n",
    "\n",
    "numbers = [ 1, 2, 4, 3, 6, 5, 7, 10, 9 ]\n",
    "#loop through the numbers\n",
    "for number in numbers:\n",
    "    #check if the number is odd numbers\n",
    "    if number % 2 != 0:\n",
    "        #if even, then pass ( No operation )\n",
    "        pass\n",
    "    else:\n",
    "        print ('number is:', number)"
   ]
  },
  {
   "cell_type": "markdown",
   "id": "1f56e2ca",
   "metadata": {},
   "source": [
    "<h1>ELSE</h1>\n",
    "Just like with an if statement, you can add an else statement to the end of a while or\n",
    "for loop. The code block for the else is executed whenever the loop ends, i.e., when the\n",
    "boolean expression for the while loop evaluates to False, or when the last item of the\n",
    "collection of the for loop is processed. Here is an example for a while loop:\n",
    " "
   ]
  },
  {
   "cell_type": "code",
   "execution_count": 56,
   "id": "b701c396",
   "metadata": {
    "scrolled": true
   },
   "outputs": [
    {
     "name": "stdout",
     "output_type": "stream",
     "text": [
      "what would you like to have?: salad\n",
      "vitamin\n",
      "what would you like to have?: potato\n",
      "carbohydrate\n",
      "what would you like to have?: eba\n",
      "we don't have eba\n",
      "what would you like to have?: none\n"
     ]
    }
   ],
   "source": [
    "# This example involve a list of food, an iput is received and then loop through the menu to find in food is there\n",
    "\n",
    "menu = {'salad': 'vitamin', 'potato': 'carbohydrate', 'chicken': 'protein', 'yogurt': 'mineral'}\n",
    "while True:   \n",
    "    menu_choice = input(\"what would you like to have?: \")   \n",
    "    if menu_choice == 'none':\n",
    "        break   \n",
    "    if menu_choice in menu:\n",
    "        food = menu.get(menu_choice)\n",
    "        print(food) \n",
    "    else: \n",
    "        print (\"we don't have \" + menu_choice)"
   ]
  },
  {
   "cell_type": "markdown",
   "id": "70e8d17c",
   "metadata": {},
   "source": [
    "`Trial Example:`<br />\n",
    "Re-try the above code with the stopping criteria being when a user fails to input a selection at all."
   ]
  },
  {
   "cell_type": "markdown",
   "id": "491ca196",
   "metadata": {},
   "source": [
    "<h1 style=\"color:#f00\">FUNCTIONS in Python</h1>\n",
    "<p1>Functions, as used in any programming language, helps to simplify recursive, repetitive tasks. The goal of functions is to reduce the lines of code, and also to limit re-doing of same task over and over again.\n",
    "The word \"function\" has different meanings in mathematics and programming. In programming it refers to a named sequence of operations that perform a computation. Functions allow us to group a number of statements into a logical block. We communicate with a function through a clearly defined interface, providing certain parameters to the function, and receiving some information back.</p1>\n",
    "<p2> Importance of Functions include:</p2>\n",
    "<ul>\n",
    "    <li>Reduces the size of your code.</li>\n",
    "    <li>Saves typing and makes it easier to change the program later.</li>\n",
    "    <li>Makes the code clearer and readable.</li>\n",
    "    <li>Makes codes more manageable.</li>\n",
    "\n",
    "</ul>\n",
    "\n",
    "<h2> Syntax</h2>\n",
    "<p>\n",
    "In Python 3, functions are defined of identified by the <a>def</a> statement. On the first line, the first item is to specify def (for defining functions), followed by the function_name(). The parenthesis are necessary since every functions relies on arguments, hence the parenthesis holds all dependent arguments. See the Python 3 function syntax below </p>\n",
    "\n",
    "<img align='right' width=300px src='img/lecture-2/functions.png'>\n",
    "\n",
    "\n",
    "*def   function_name* (arg1, arg2 ...,argn): <br>\n",
    "\n",
    "        statements\n",
    "        return\n",
    "        \n",
    "<p3> The variables *arg1*,*arg2*,*argn* are the parameters needed for the execution of the function's *statements*</p3>\n",
    "\n",
    "\n",
    "<p>\n",
    "To pass output from the function into the console, main_program, etc., it's advisable to use the return statement, which is acceptable way for function outputs.\n",
    "</p>\n",
    "   \n",
    "<br />\n",
    "To invoke the function, you call the function_name on the actual input values, and each input value must denote a defined dummy argument. \n",
    "<br />\n",
    "<br />\n",
    "    \n",
    "<p>\n",
    "    Example\n",
    "</p>"
   ]
  },
  {
   "cell_type": "code",
   "execution_count": 57,
   "id": "954a0985",
   "metadata": {},
   "outputs": [],
   "source": [
    "def squares(n):\n",
    "    return n**2"
   ]
  },
  {
   "cell_type": "code",
   "execution_count": 60,
   "id": "194d99a4",
   "metadata": {},
   "outputs": [
    {
     "data": {
      "text/plain": [
       "6084"
      ]
     },
     "execution_count": 60,
     "metadata": {},
     "output_type": "execute_result"
    }
   ],
   "source": [
    "squares(78)"
   ]
  },
  {
   "cell_type": "code",
   "execution_count": null,
   "id": "8c712541",
   "metadata": {},
   "outputs": [],
   "source": [
    "print(5**2)\n",
    "print(78**2)\n",
    "print(45**2)"
   ]
  },
  {
   "cell_type": "code",
   "execution_count": 67,
   "id": "8190c131",
   "metadata": {},
   "outputs": [
    {
     "data": {
      "text/plain": [
       "'Hello, you are welcome to OneQuantum Ghana'"
      ]
     },
     "execution_count": 67,
     "metadata": {},
     "output_type": "execute_result"
    }
   ],
   "source": [
    "def welcome():\n",
    "    #print('Welcome to OneQuantum Ghana')\n",
    "    c = 'Hello, you are welcome to OneQuantum Ghana'\n",
    "    return c\n",
    "\n",
    "welcome()"
   ]
  },
  {
   "cell_type": "code",
   "execution_count": 65,
   "id": "d82fa8ee",
   "metadata": {},
   "outputs": [
    {
     "data": {
      "text/plain": [
       "[1, 2, 3, 6, 5, 7]"
      ]
     },
     "execution_count": 65,
     "metadata": {},
     "output_type": "execute_result"
    }
   ],
   "source": [
    "def sum_of_nums(a,b):\n",
    "    c=a+b\n",
    "    return c\n",
    "    \n",
    "\n",
    "#sum_of_nums(2,3)\n",
    "#sum_of_nums(30,20)\n",
    "#sum_of_nums(1,2,3)\n",
    "sum_of_nums([1,2,3],[6,5,7])"
   ]
  },
  {
   "cell_type": "code",
   "execution_count": 63,
   "id": "0d03776e",
   "metadata": {},
   "outputs": [
    {
     "data": {
      "text/plain": [
       "5"
      ]
     },
     "execution_count": 63,
     "metadata": {},
     "output_type": "execute_result"
    }
   ],
   "source": [
    "sum_of_nums(2,3)"
   ]
  },
  {
   "cell_type": "code",
   "execution_count": 68,
   "id": "46bf8430",
   "metadata": {
    "scrolled": true
   },
   "outputs": [
    {
     "data": {
      "text/plain": [
       "8"
      ]
     },
     "execution_count": 68,
     "metadata": {},
     "output_type": "execute_result"
    }
   ],
   "source": [
    "# Example of a function that calculates the power of a number\n",
    "def power(a,b):\n",
    "    i=a**b          # Statement\n",
    "    return i        # return value\n",
    "x = 2\n",
    "y = 3\n",
    "power(x,y)        # 2 exponent 3"
   ]
  },
  {
   "cell_type": "code",
   "execution_count": 70,
   "id": "cb8150c2",
   "metadata": {},
   "outputs": [
    {
     "data": {
      "text/plain": [
       "9025"
      ]
     },
     "execution_count": 70,
     "metadata": {},
     "output_type": "execute_result"
    }
   ],
   "source": [
    "power(95,2)"
   ]
  },
  {
   "cell_type": "markdown",
   "id": "c16a2afb",
   "metadata": {},
   "source": [
    "<h2>Local and Global variables</h2>\n",
    "<p>From the two examples above, we could identify that there are variable outside and within the functions that we created. We can therefore group these varibles into Local and global variables.</p>\n",
    "<h3>Global Variable</h3>\n",
    "In Python, a variable declared outside of the function is known as global variable. This means, global variable can be accessed inside or outside of the function"
   ]
  },
  {
   "cell_type": "code",
   "execution_count": 23,
   "id": "ab5d4f63",
   "metadata": {},
   "outputs": [
    {
     "name": "stdout",
     "output_type": "stream",
     "text": [
      "X inside the function is 2\n"
     ]
    },
    {
     "data": {
      "text/plain": [
       "8"
      ]
     },
     "execution_count": 23,
     "metadata": {},
     "output_type": "execute_result"
    }
   ],
   "source": [
    "# x and y global variables which can be used everywhere in the code\n",
    "x = 2          \n",
    "y = 3\n",
    "\n",
    "def power(a,b):\n",
    "    i=a**b    \n",
    "    print('X inside the function is',x)\n",
    "    return i       \n",
    "power(x,y)"
   ]
  },
  {
   "cell_type": "markdown",
   "id": "a155f748",
   "metadata": {},
   "source": [
    "<h1>Local Variable</h1>\n",
    "A variable declared inside the function's body or in the local scope is known as local variable. These variables can only be assessed within the function or local scope inwhich they are defined"
   ]
  },
  {
   "cell_type": "code",
   "execution_count": 76,
   "id": "c9a05458",
   "metadata": {},
   "outputs": [
    {
     "name": "stdout",
     "output_type": "stream",
     "text": [
      "2\n"
     ]
    }
   ],
   "source": [
    " # With the same example a,b and i are local variable, they exist only in the function\n",
    "x = 2          \n",
    "y = 3\n",
    "\n",
    "def power(p,b):\n",
    "    print(x)\n",
    "    i=p**b\n",
    "    #return i       \n",
    "power(x,y)\n",
    "\n",
    "\n"
   ]
  },
  {
   "cell_type": "code",
   "execution_count": 73,
   "id": "f773fc73",
   "metadata": {},
   "outputs": [
    {
     "ename": "NameError",
     "evalue": "name 'p' is not defined",
     "output_type": "error",
     "traceback": [
      "\u001b[1;31m---------------------------------------------------------------------------\u001b[0m",
      "\u001b[1;31mNameError\u001b[0m                                 Traceback (most recent call last)",
      "\u001b[1;32m~\\AppData\\Local\\Temp/ipykernel_7004/626125819.py\u001b[0m in \u001b[0;36m<module>\u001b[1;34m\u001b[0m\n\u001b[1;32m----> 1\u001b[1;33m \u001b[0mp\u001b[0m\u001b[1;33m\u001b[0m\u001b[1;33m\u001b[0m\u001b[0m\n\u001b[0m",
      "\u001b[1;31mNameError\u001b[0m: name 'p' is not defined"
     ]
    }
   ],
   "source": []
  },
  {
   "cell_type": "markdown",
   "id": "e9937034",
   "metadata": {},
   "source": [
    "<p>\n",
    "<h4 style=\"color:#f00\">Let's try out a simple function for computing potential temperature:</h4>\n",
    "</p>    \n",
    "    $$ \\theta= T (\\frac{P_o}{P_1})\\, ^{0.286}$$\n"
   ]
  },
  {
   "cell_type": "code",
   "execution_count": 78,
   "id": "a0be2920",
   "metadata": {
    "scrolled": true
   },
   "outputs": [
    {
     "data": {
      "text/plain": [
       "30.401184847410068"
      ]
     },
     "execution_count": 78,
     "metadata": {},
     "output_type": "execute_result"
    }
   ],
   "source": [
    "# Examples  #PEMDAS\n",
    "#Building the function\n",
    "def potential_temperature(T,P0,P1):\n",
    "    answer = T*(P0/P1) **0.286\n",
    "    return answer\n",
    "\n",
    "\n",
    "potential_temperature(28,1000,750)"
   ]
  },
  {
   "cell_type": "markdown",
   "id": "c5485868",
   "metadata": {},
   "source": [
    "# Growing the Function to Automatically Deal with conditions"
   ]
  },
  {
   "cell_type": "code",
   "execution_count": 26,
   "id": "cabec37f",
   "metadata": {},
   "outputs": [
    {
     "data": {
      "text/plain": [
       "53.82560059991221"
      ]
     },
     "execution_count": 26,
     "metadata": {},
     "output_type": "execute_result"
    }
   ],
   "source": [
    "# Examples\n",
    "#Building the function\n",
    "def potential_temperature(T,P0,P1,units):\n",
    "    if units.upper()=='C' or units.upper()=='CELSIUS':\n",
    "        T=T+273.15\n",
    "        answer=T*(P0/P1)**0.286\n",
    "        answer=answer-273.15\n",
    "    elif units.upper()=='K' or units.upper()=='KELVIN':\n",
    "        answer=T*(P0/P1)**0.286\n",
    "    return answer\n",
    "\n",
    "\n",
    "potential_temperature(28,1000,750,'c')"
   ]
  },
  {
   "cell_type": "markdown",
   "id": "826be876",
   "metadata": {},
   "source": [
    "# Looping within Functions"
   ]
  },
  {
   "cell_type": "code",
   "execution_count": 80,
   "id": "d95699a3",
   "metadata": {
    "scrolled": true
   },
   "outputs": [
    {
     "name": "stdout",
     "output_type": "stream",
     "text": [
      "2\n",
      "4\n",
      "6\n",
      "8\n",
      "10\n",
      "12\n",
      "14\n",
      "16\n",
      "18\n",
      "20\n",
      "22\n",
      "24\n",
      "26\n",
      "28\n",
      "30\n",
      "32\n",
      "34\n",
      "36\n",
      "38\n",
      "40\n",
      "42\n",
      "44\n",
      "46\n",
      "48\n"
     ]
    },
    {
     "data": {
      "text/plain": [
       "50"
      ]
     },
     "execution_count": 80,
     "metadata": {},
     "output_type": "execute_result"
    }
   ],
   "source": [
    "# Examples\n",
    "#Building the function\n",
    "def test(x,max_x,x_interval):\n",
    "    while(x<max_x):\n",
    "        print(x)\n",
    "        x+=x_interval\n",
    "    return x\n",
    "\n",
    "\n",
    "#\n",
    "test(2,50,2)"
   ]
  },
  {
   "cell_type": "markdown",
   "id": "89702463",
   "metadata": {},
   "source": [
    "LAMBDA EXPRESSIONS\n",
    "--\n",
    "\n",
    "function/expression name = lambda argument(s):execution/action"
   ]
  },
  {
   "cell_type": "markdown",
   "id": "f46bcc34",
   "metadata": {},
   "source": [
    "function/expression name = lambda argument(s):execution/action"
   ]
  },
  {
   "cell_type": "code",
   "execution_count": null,
   "id": "439abbc0",
   "metadata": {},
   "outputs": [],
   "source": [
    "def fn_name(arg):\n",
    "    action\n",
    "    return output\n",
    "\n",
    "fn_name = lambda arg: action"
   ]
  },
  {
   "cell_type": "code",
   "execution_count": 81,
   "id": "e76ffad5",
   "metadata": {},
   "outputs": [
    {
     "data": {
      "text/plain": [
       "25"
      ]
     },
     "execution_count": 81,
     "metadata": {},
     "output_type": "execute_result"
    }
   ],
   "source": [
    "#Using Lambda function to build a function that squares data input\n",
    "square = lambda x:x**2\n",
    "square(5)"
   ]
  },
  {
   "cell_type": "code",
   "execution_count": 82,
   "id": "d4fe96c8",
   "metadata": {},
   "outputs": [],
   "source": [
    "sum_of_numbers = lambda x,y,z : x+y+z"
   ]
  },
  {
   "cell_type": "code",
   "execution_count": 84,
   "id": "f89c7db2",
   "metadata": {},
   "outputs": [
    {
     "data": {
      "text/plain": [
       "22"
      ]
     },
     "execution_count": 84,
     "metadata": {},
     "output_type": "execute_result"
    }
   ],
   "source": [
    "sum_of_numbers(1,10,11)"
   ]
  },
  {
   "cell_type": "markdown",
   "id": "cb806ad8",
   "metadata": {},
   "source": [
    "<h3><font color='red'>It is also possible to pass visualizations within functions. The example below will come in handy for you once we delve into importing packages tomorrow.</font></h3>\n",
    "\n",
    "\n",
    "\n",
    "# Simple Plotting within Functions\n"
   ]
  },
  {
   "cell_type": "code",
   "execution_count": 85,
   "id": "b7e49a1c",
   "metadata": {
    "scrolled": true
   },
   "outputs": [
    {
     "name": "stderr",
     "output_type": "stream",
     "text": [
      "C:\\Users\\UncleJay\\AppData\\Local\\Temp/ipykernel_7004/3160129677.py:8: DeprecationWarning: scipy.randn is deprecated and will be removed in SciPy 2.0.0, use numpy.random.randn instead\n",
      "  cp=plt.plot(sp.randn(x),np.sin(sp.randn(x)),'ro')\n"
     ]
    },
    {
     "data": {
      "text/plain": [
       "[<matplotlib.lines.Line2D at 0x23fb1fdf400>]"
      ]
     },
     "execution_count": 85,
     "metadata": {},
     "output_type": "execute_result"
    },
    {
     "data": {
      "image/png": "[encoded data removed]",
      "text/plain": [
       "<Figure size 432x288 with 1 Axes>"
      ]
     },
     "metadata": {
      "needs_background": "light"
     },
     "output_type": "display_data"
    }
   ],
   "source": [
    "# Examples\n",
    "#Let's pass a number beyond 10, and generate random numbers of that size. Afterwards, we plot it's sin() values against the random values.\n",
    "def sin_plot(x):\n",
    "    import numpy as np\n",
    "    import scipy as sp\n",
    "    import matplotlib.pyplot as plt\n",
    "    if (type(x)==int):\n",
    "        cp=plt.plot(sp.randn(x),np.sin(sp.randn(x)),'ro')\n",
    "        #plt.show()\n",
    "    elif (type(x)==float):\n",
    "        cp=plt.plot(sp.randn(np.int(x)),np.sin(sp.randn(np.int(x))),'gv')\n",
    "        #plt.show()\n",
    "    else:\n",
    "        pass\n",
    "   \n",
    "    if (np.size(cp)==1):\n",
    "        plt.xlabel('Random Nubers', fontsize=12)\n",
    "        plt.ylabel('Trig. Values', fontsize=12)\n",
    "        plt.title('Plotting within a Function'.upper(), fontsize=14)\n",
    "    return cp \n",
    "\n",
    "\n",
    "sin_plot(100)"
   ]
  },
  {
   "cell_type": "markdown",
   "id": "9f6bfc16",
   "metadata": {},
   "source": [
    "<hr>\n",
    "<h2 align='center'> RECAP OF ITEMS STUDIED </h2>\n",
    "<hr>\n",
    "<ul>\n",
    "<li>Iterations </li>\n",
    "<li>Loop Controls </li>\n",
    "<li>Functions in Python </li>\n",
    "<li>Lambda Functions/Expressions </li>\n",
    "</ul>\n",
    "<hr>\n",
    "<h1 align='center'> END OF DAY TWO</h1>\n"
   ]
  }
 ],
 "metadata": {
  "kernelspec": {
   "display_name": "Python 3 (ipykernel)",
   "language": "python",
   "name": "python3"
  },
  "language_info": {
   "codemirror_mode": {
    "name": "ipython",
    "version": 3
   },
   "file_extension": ".py",
   "mimetype": "text/x-python",
   "name": "python",
   "nbconvert_exporter": "python",
   "pygments_lexer": "ipython3",
   "version": "3.8.12"
  }
 },
 "nbformat": 4,
 "nbformat_minor": 5
}
