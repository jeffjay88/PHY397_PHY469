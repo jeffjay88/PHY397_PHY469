{
  "cells": [
    {
      "cell_type": "markdown",
      "metadata": {
        "id": "AeEZu3-BeXb3"
      },
      "source": [
        "# <font color=\"blue\"> **`Machine Learning: `**</font>\n",
        "\n",
        "'''This is basically the application of algorithms(models) or computer program to learn about different patterns in data and then taking that algoritm and what it's learned to make predictions about the future using similar data'''\n",
        "The difference between machine learning algorithms and normal algorithms and computer programs is the learning aspects.\n",
        "Machine Learning finds patterns in collected data and uses the patterns for future problems.\n",
        "Machine Learning helps predict results based on incoming data."
      ]
    },
    {
      "cell_type": "markdown",
      "metadata": {
        "id": "SckPlTughB9n"
      },
      "source": [
        "**Framework For Machine Learning**\n",
        "1. **Problem Definition**: What problem you are trying to solve?\n",
        "How can it be phrased as a machine learning problem?\n",
        "Which of these categories (Supervised, unsupervised, classification or regression.) does the problem fall under?\n",
        "\n",
        "2. **Data:** What kind of data do we have? Structured or unstractured.\n",
        "How does it match the problem definition?\n",
        "\n",
        "3. **Evaluation:** Define your success.\n",
        "\n",
        "4. **Features:** What do we already know about the data? How does what we know influence our work?\n",
        "Features are the variables within the data.\n",
        "\n",
        "5. **Modelling:** Based on our problem and data, what model should we use?\n",
        "\n",
        "Modelling can be put into 3 parts.\n",
        "i. Choosing and training: to train the model.\n",
        "ii. Validation: to tune your model\n",
        "iii. Test (model comparison) to test and compare your different models on.\n",
        "\n",
        "6. **Experimentation:** Does our deployed model do as we expected\n",
        " How could we improve/ what can we try next?\n",
        "\n",
        " **Types of Machine Learning**\n",
        " 1. Supervised Learning: It has both data and labels and employs an algorithm that uses data to predict a label. If it gets the label wrong, the algorithm correects itself and tries again.\n",
        "   **Types of Supervised Learning:**\n",
        "   i. Classification and\n",
        "   ii. Regression\n",
        "\n",
        "\n",
        " 2. Unsupervised Learning:It has only data but no labels. Based on the data available, a machine learning algorithm is used to group the data based on similar characteristics.\n",
        " 3. Transfer Learning: It involves taking the infoemation an existing machine model has learned and adjust it to a problem.\n",
        " 4. Reinforced Learning\n",
        "**Data:** Data comes in many shapes and sizes but the main types of data are;\n",
        "i. Structured (Data in an excel file with rows and columns)\n",
        "ii. Unstructured (eg. pictures, voice recordidng etc. )\n",
        "\n",
        "**Evaluation Metric**: The measure of how well a machine learning algorithm predicts the future.\n",
        "\n",
        "**Types of Evaluation Metrics**\n",
        "1. Classification( Accuracy, Precision and Recall)\n",
        "2. Regression (Mean absolute error (MAE), Mean square error (MSE) and Root mean square (RMSE))\n",
        "3.Recommendation (Precision at K)\n",
        "\n"
      ]
    },
    {
      "cell_type": "markdown",
      "source": [
        "<hr />\n",
        "\n",
        "1. **Define the problem:** Clearly articulate the problem you want to solve and the goals you aim to achieve with machine learning.\n",
        "\n",
        "2. **Gather and preprocess data:** Collect relevant data for your problem domain, clean and preprocess it to handle missing values, outliers, and inconsistencies.\n",
        "\n",
        "3. **Explore the data:** Analyze the data to understand its distribution, relationships between variables, and identify patterns or trends that could inform model selection and feature engineering.\n",
        "\n",
        "4. **Feature engineering:** Select, transform, or create features that are most relevant and informative for the problem at hand. This may involve dimensionality reduction, scaling, encoding categorical variables, or generating new features.\n",
        "\n",
        "5. **Choose a model:** Select an appropriate machine learning algorithm based on the problem type (e.g., classification, regression), the size and nature of the data, and the desired interpretability and performance.\n",
        "\n",
        "6. **Train the model:** Split the data into training and validation sets, train the model on the training data, and fine-tune hyperparameters to optimize performance.\n",
        "\n",
        "7. **Evaluate the model:** Assess the model's performance on the validation set using appropriate evaluation metrics (e.g., accuracy, precision, recall, F1-score, ROC-AUC), and analyze any discrepancies between training and validation performance to diagnose potential issues such as overfitting or underfitting.\n",
        "\n",
        "8. **Iterate and refine:** Iterate on the model by refining features, trying different algorithms, or adjusting hyperparameters based on insights gained from the evaluation process.\n",
        "\n",
        "9. **Interpret the results:** Interpret the model's predictions and understand the factors driving them, considering domain knowledge and business context. Communicate findings effectively to stakeholders.\n",
        "\n",
        "10. **Deploy and monitor:** Deploy the trained model into production, monitor its performance in real-world settings, and continuously update and improve the model as new data becomes available or business requirements change."
      ],
      "metadata": {
        "id": "9e7t96YE_-Im"
      }
    },
    {
      "cell_type": "markdown",
      "source": [
        "# Introduction to Scikit-Learn\n"
      ],
      "metadata": {
        "id": "zb1smQeJFzQs"
      }
    },
    {
      "cell_type": "markdown",
      "source": [
        "In this interactive lecture, we will understand the fundamentals of linear and logistic regressions and implement them using Python.\n",
        "\n",
        "\n",
        "**Outline:**\n",
        "1. Introduction to Linear Regression\n",
        "2. Understanding the Dataset\n",
        "3. Building a Simple Linear Regression Model\n",
        "4. Evaluating the Model\n",
        "5. Introduction to Logistic Regression\n",
        "6. Simple Evaluations"
      ],
      "metadata": {
        "id": "kGe9jLXSlggW"
      }
    },
    {
      "cell_type": "markdown",
      "source": [
        "# **REGRESSION ANALYSIS**\n",
        "\n",
        "**Regression analysis** is a powerful tool used in science to model relationships between various environmental factors. In this tutorial, we will cover two types of regression: linear and logistic regression.\n",
        "\n",
        "\n",
        "In a regression problem, we need data features ('regressors', or independent variables) that we will use to predict a dependent variable. For example, we could try to predict the amount of carbon dioxide released into the atmosphere (dependent variable) based on features such as electricity use and flights taken (regressors). We can use linear regression to model this relationship by fitting a straight line through the data points.\n",
        "\n",
        "To try out linear regression with scikit-learn, we will start with synthetic data. Linear regression assumes there is a linear relationship between the regressors and the predicted value, so we will simulate data that does have such a linear relationship. Specifically, we will build data with the following relationship:\n",
        "\\begin{align}\n",
        " y = \\beta x_1 + (1-\\beta) x_2 + \\alpha \\epsilon\n",
        "\\end{align}\n",
        "\n",
        "where :\n",
        "* y is the dependent variable\n",
        "* x<sub>1</sub> and x<sub>2</sub> are regressors\n",
        "* $\\beta$ can range from 0 to 1; it is a weighting variable that controls the relative influence from each regressor (at .5, both regressors contribute equally).\n",
        "* $\\epsilon$ is a noise term that makes y only partially dependent on these regressors.\n",
        "* The strength of the noise is controlled by $\\alpha$.  \n",
        "\n",
        "In climate science, linear regression can be used to model relationships between variables such as temperature and time, or cumulative carbon dioxide emissions and global temperature change. By analyzing the relationship between these variables, we can make predictions and gain a better understanding of the climate system.\n",
        "\n",
        "Before we work with real data, let's start by creating some synthetic values for the regressors and practice using the technique."
      ],
      "metadata": {
        "id": "A_VhMab68Ky_"
      }
    },
    {
      "cell_type": "markdown",
      "source": [
        "**1. Introduction to Linear Regression:**\n",
        "\n",
        "Linear regression is a statistical method used to model the relationship between a dependent variable and one or more independent variables.\n",
        "It assumes a linear relationship between the independent and dependent variables."
      ],
      "metadata": {
        "id": "dT6ZLdkBlz_9"
      }
    },
    {
      "cell_type": "markdown",
      "source": [
        "**2. Understanding the Dataset:**\n",
        "\n",
        "For this demonstration, we will use a simple dataset containing two variables: 'X' and 'y'.\n",
        "'X' will represent the independent variable, and 'y' will represent the dependent variable."
      ],
      "metadata": {
        "id": "Ybx_O-16l5Dz"
      }
    },
    {
      "cell_type": "markdown",
      "source": [
        "**3. Building a Simple Linear Regression Model:**\n",
        "\n",
        "We will use Python's scikit-learn library to implement linear regression.\n",
        "Let's start by importing the necessary libraries and loading the dataset."
      ],
      "metadata": {
        "id": "qz-9ban5l9cD"
      }
    },
    {
      "cell_type": "code",
      "source": [
        "# Importing libraries\n",
        "import numpy as np\n",
        "import pandas as pd\n",
        "import matplotlib.pyplot as plt\n",
        "from sklearn.model_selection import train_test_split\n",
        "from sklearn.linear_model import LinearRegression\n",
        "\n",
        "# Generating random data\n",
        "np.random.seed(0)\n",
        "X = 2 * np.random.rand(100, 1)\n",
        "y = 3 * X + np.random.randn(100, 1)\n",
        "\n",
        "# Visualizing the data\n",
        "plt.scatter(X, y)\n",
        "plt.xlabel('X')\n",
        "plt.ylabel('y')\n",
        "plt.title('Linear Regression Data')\n",
        "plt.show()\n"
      ],
      "metadata": {
        "colab": {
          "base_uri": "https://localhost:8080/",
          "height": 472
        },
        "id": "XCwkZGWplfun",
        "outputId": "ee58abcf-210b-4dc7-d908-df5236cbf825"
      },
      "execution_count": 53,
      "outputs": [
        {
          "output_type": "display_data",
          "data": {
            "text/plain": [
              "<Figure size 640x480 with 1 Axes>"
            ],
            "image/png": "[encoded data removed]"
          },
          "metadata": {}
        }
      ]
    },
    {
      "cell_type": "markdown",
      "source": [
        "**4. Building the Model:**\n",
        "\n",
        "Next, we will split the data into training and testing sets.\n",
        "Then, we will train the linear regression model on the training data."
      ],
      "metadata": {
        "id": "ebg3Sp-0mKPK"
      }
    },
    {
      "cell_type": "code",
      "source": [
        "# Splitting the data into training and testing sets\n",
        "X_train, X_test, y_train, y_test = train_test_split(X, y, test_size=0.2)#, random_state=42)\n",
        "\n",
        "# Creating and training the model\n",
        "model = LinearRegression()\n",
        "model.fit(X_train, y_train)\n"
      ],
      "metadata": {
        "colab": {
          "base_uri": "https://localhost:8080/",
          "height": 74
        },
        "id": "Ikh_T9u7mN_V",
        "outputId": "84eb9a30-6d34-4bbf-94df-817e08ab7a5d"
      },
      "execution_count": 54,
      "outputs": [
        {
          "output_type": "execute_result",
          "data": {
            "text/plain": [
              "LinearRegression()"
            ],
            "text/html": [
              "<style>#sk-container-id-6 {color: black;background-color: white;}#sk-container-id-6 pre{padding: 0;}#sk-container-id-6 div.sk-toggleable {background-color: white;}#sk-container-id-6 label.sk-toggleable__label {cursor: pointer;display: block;width: 100%;margin-bottom: 0;padding: 0.3em;box-sizing: border-box;text-align: center;}#sk-container-id-6 label.sk-toggleable__label-arrow:before {content: \"▸\";float: left;margin-right: 0.25em;color: #696969;}#sk-container-id-6 label.sk-toggleable__label-arrow:hover:before {color: black;}#sk-container-id-6 div.sk-estimator:hover label.sk-toggleable__label-arrow:before {color: black;}#sk-container-id-6 div.sk-toggleable__content {max-height: 0;max-width: 0;overflow: hidden;text-align: left;background-color: #f0f8ff;}#sk-container-id-6 div.sk-toggleable__content pre {margin: 0.2em;color: black;border-radius: 0.25em;background-color: #f0f8ff;}#sk-container-id-6 input.sk-toggleable__control:checked~div.sk-toggleable__content {max-height: 200px;max-width: 100%;overflow: auto;}#sk-container-id-6 input.sk-toggleable__control:checked~label.sk-toggleable__label-arrow:before {content: \"▾\";}#sk-container-id-6 div.sk-estimator input.sk-toggleable__control:checked~label.sk-toggleable__label {background-color: #d4ebff;}#sk-container-id-6 div.sk-label input.sk-toggleable__control:checked~label.sk-toggleable__label {background-color: #d4ebff;}#sk-container-id-6 input.sk-hidden--visually {border: 0;clip: rect(1px 1px 1px 1px);clip: rect(1px, 1px, 1px, 1px);height: 1px;margin: -1px;overflow: hidden;padding: 0;position: absolute;width: 1px;}#sk-container-id-6 div.sk-estimator {font-family: monospace;background-color: #f0f8ff;border: 1px dotted black;border-radius: 0.25em;box-sizing: border-box;margin-bottom: 0.5em;}#sk-container-id-6 div.sk-estimator:hover {background-color: #d4ebff;}#sk-container-id-6 div.sk-parallel-item::after {content: \"\";width: 100%;border-bottom: 1px solid gray;flex-grow: 1;}#sk-container-id-6 div.sk-label:hover label.sk-toggleable__label {background-color: #d4ebff;}#sk-container-id-6 div.sk-serial::before {content: \"\";position: absolute;border-left: 1px solid gray;box-sizing: border-box;top: 0;bottom: 0;left: 50%;z-index: 0;}#sk-container-id-6 div.sk-serial {display: flex;flex-direction: column;align-items: center;background-color: white;padding-right: 0.2em;padding-left: 0.2em;position: relative;}#sk-container-id-6 div.sk-item {position: relative;z-index: 1;}#sk-container-id-6 div.sk-parallel {display: flex;align-items: stretch;justify-content: center;background-color: white;position: relative;}#sk-container-id-6 div.sk-item::before, #sk-container-id-6 div.sk-parallel-item::before {content: \"\";position: absolute;border-left: 1px solid gray;box-sizing: border-box;top: 0;bottom: 0;left: 50%;z-index: -1;}#sk-container-id-6 div.sk-parallel-item {display: flex;flex-direction: column;z-index: 1;position: relative;background-color: white;}#sk-container-id-6 div.sk-parallel-item:first-child::after {align-self: flex-end;width: 50%;}#sk-container-id-6 div.sk-parallel-item:last-child::after {align-self: flex-start;width: 50%;}#sk-container-id-6 div.sk-parallel-item:only-child::after {width: 0;}#sk-container-id-6 div.sk-dashed-wrapped {border: 1px dashed gray;margin: 0 0.4em 0.5em 0.4em;box-sizing: border-box;padding-bottom: 0.4em;background-color: white;}#sk-container-id-6 div.sk-label label {font-family: monospace;font-weight: bold;display: inline-block;line-height: 1.2em;}#sk-container-id-6 div.sk-label-container {text-align: center;}#sk-container-id-6 div.sk-container {/* jupyter's `normalize.less` sets `[hidden] { display: none; }` but bootstrap.min.css set `[hidden] { display: none !important; }` so we also need the `!important` here to be able to override the default hidden behavior on the sphinx rendered scikit-learn.org. See: https://github.com/scikit-learn/scikit-learn/issues/21755 */display: inline-block !important;position: relative;}#sk-container-id-6 div.sk-text-repr-fallback {display: none;}</style><div id=\"sk-container-id-6\" class=\"sk-top-container\"><div class=\"sk-text-repr-fallback\"><pre>LinearRegression()</pre><b>In a Jupyter environment, please rerun this cell to show the HTML representation or trust the notebook. <br />On GitHub, the HTML representation is unable to render, please try loading this page with nbviewer.org.</b></div><div class=\"sk-container\" hidden><div class=\"sk-item\"><div class=\"sk-estimator sk-toggleable\"><input class=\"sk-toggleable__control sk-hidden--visually\" id=\"sk-estimator-id-6\" type=\"checkbox\" checked><label for=\"sk-estimator-id-6\" class=\"sk-toggleable__label sk-toggleable__label-arrow\">LinearRegression</label><div class=\"sk-toggleable__content\"><pre>LinearRegression()</pre></div></div></div></div></div>"
            ]
          },
          "metadata": {},
          "execution_count": 54
        }
      ]
    },
    {
      "cell_type": "markdown",
      "source": [
        "**5. Evaluating the Model:**\n",
        "\n",
        "We will evaluate the performance of the model by predicting values for the test data and comparing them with the actual values."
      ],
      "metadata": {
        "id": "3K_NClkBmSvM"
      }
    },
    {
      "cell_type": "code",
      "source": [
        "# Making predictions\n",
        "y_pred = model.predict(X_test)\n",
        "\n",
        "# Visualizing the results\n",
        "plt.scatter(X_test, y_test, color='blue')\n",
        "plt.plot(X_test, y_pred, color='red')\n",
        "plt.xlabel('X')\n",
        "plt.ylabel('y')\n",
        "plt.title('Linear Regression Prediction')\n",
        "plt.show()\n"
      ],
      "metadata": {
        "colab": {
          "base_uri": "https://localhost:8080/",
          "height": 472
        },
        "id": "I6cpDiulmcFj",
        "outputId": "7ccd2172-bde8-4308-e0d3-264ac7d44638"
      },
      "execution_count": 55,
      "outputs": [
        {
          "output_type": "display_data",
          "data": {
            "text/plain": [
              "<Figure size 640x480 with 1 Axes>"
            ],
            "image/png": "[encoded data removed]"
          },
          "metadata": {}
        }
      ]
    },
    {
      "cell_type": "code",
      "source": [
        "# Visualizing both the training and testing data\n",
        "plt.scatter(X, y, color='r', label='training set')\n",
        "plt.scatter(X_test, y_test, color='blue', label='test set')\n",
        "plt.plot(X_test, y_pred, color='blue')\n",
        "plt.xlabel('X')\n",
        "plt.ylabel('y')\n",
        "\n",
        "\n",
        "plt.legend()"
      ],
      "metadata": {
        "colab": {
          "base_uri": "https://localhost:8080/",
          "height": 467
        },
        "id": "rciEhwIRmjNb",
        "outputId": "6be5cabf-353b-47f5-fef2-4ea52795b9c4"
      },
      "execution_count": 56,
      "outputs": [
        {
          "output_type": "execute_result",
          "data": {
            "text/plain": [
              "<matplotlib.legend.Legend at 0x78aec8dcf790>"
            ]
          },
          "metadata": {},
          "execution_count": 56
        },
        {
          "output_type": "display_data",
          "data": {
            "text/plain": [
              "<Figure size 640x480 with 1 Axes>"
            ],
            "image/png": "[encoded data removed]"
          },
          "metadata": {}
        }
      ]
    },
    {
      "cell_type": "code",
      "source": [
        "# Evaluate the model's performance\n",
        "model.score(X_test, y_test)"
      ],
      "metadata": {
        "id": "zKRcuXrfF62j",
        "colab": {
          "base_uri": "https://localhost:8080/"
        },
        "outputId": "32e7c9a4-a18f-4e18-b58d-338192823bf9"
      },
      "execution_count": 57,
      "outputs": [
        {
          "output_type": "execute_result",
          "data": {
            "text/plain": [
              "0.7684533737638994"
            ]
          },
          "metadata": {},
          "execution_count": 57
        }
      ]
    },
    {
      "cell_type": "code",
      "source": [
        "model.score(X_train, y_train)"
      ],
      "metadata": {
        "colab": {
          "base_uri": "https://localhost:8080/"
        },
        "id": "c00npxOrnS68",
        "outputId": "b67b65e6-ea81-4046-dfd1-97c43605d224"
      },
      "execution_count": 58,
      "outputs": [
        {
          "output_type": "execute_result",
          "data": {
            "text/plain": [
              "0.7417960007463236"
            ]
          },
          "metadata": {},
          "execution_count": 58
        }
      ]
    },
    {
      "cell_type": "markdown",
      "source": [
        "**Conclusion and Next Steps:**\n",
        "\n",
        "Linear regression is a simple yet powerful technique for modeling the relationship between variables. <br />\n",
        "We have implemented a basic linear regression model using Python's scikit-learn library. <br />\n",
        "Next steps could include exploring more complex regression techniques, feature engineering, or tuning hyperparameters for better performance.\n",
        "\n",
        "\n",
        "**Interactive Exercises:**\n",
        "\n",
        "Modify the dataset to introduce more noise and observe the impact on the model's performance. <br />\n",
        "Try different train-test split ratios and observe how it affects the model's performance. <br />\n",
        "Experiment with different features or combinations of features to see how it affects the model's predictions. <br />"
      ],
      "metadata": {
        "id": "o7PlY-ZVnsBe"
      }
    },
    {
      "cell_type": "code",
      "source": [],
      "metadata": {
        "id": "-vvkSDe9UDGI"
      },
      "execution_count": 58,
      "outputs": []
    },
    {
      "cell_type": "markdown",
      "source": [
        "Let's attempt to see how the model performs depending on the training and testing data split size."
      ],
      "metadata": {
        "id": "v3QgwykaonfW"
      }
    },
    {
      "cell_type": "code",
      "source": [
        "out = []\n",
        "for split_size in np.arange(0.1, 0.91, .01):\n",
        "  # Splitting the data into training and testing sets\n",
        "  X_train, X_test, y_train, y_test = train_test_split(X, y, test_size=split_size, random_state=42)\n",
        "\n",
        "  # Creating and training the model\n",
        "  model = LinearRegression()\n",
        "  model.fit(X_train, y_train)\n",
        "\n",
        "  # Making predictions\n",
        "  y_pred = model.predict(X_test)\n",
        "\n",
        "  score = model.score(X_test, y_test)\n",
        "\n",
        "  out.append([split_size, score])\n",
        "\n",
        "metrics = pd.DataFrame(np.copy(out), columns=[['split_size','score']]).astype(float)\n",
        "\n",
        "plt.plot(metrics.split_size, metrics.score)"
      ],
      "metadata": {
        "colab": {
          "base_uri": "https://localhost:8080/",
          "height": 448
        },
        "id": "O0hB08GBovNm",
        "outputId": "4e2ef9ee-86a5-4494-acfe-1d987e89f002"
      },
      "execution_count": 66,
      "outputs": [
        {
          "output_type": "execute_result",
          "data": {
            "text/plain": [
              "[<matplotlib.lines.Line2D at 0x78aec8b56140>]"
            ]
          },
          "metadata": {},
          "execution_count": 66
        },
        {
          "output_type": "display_data",
          "data": {
            "text/plain": [
              "<Figure size 640x480 with 1 Axes>"
            ],
            "image/png": "[encoded data removed]"
          },
          "metadata": {}
        }
      ]
    },
    {
      "cell_type": "markdown",
      "source": [
        "**Experiment with different features or combinations of features to see how it affects the model's predictions.**\n",
        "\n",
        "To experiment with different features or combinations of features, we can extend our dataset to include additional independent variables. Let's create a synthetic dataset with multiple features and observe how including different combinations affects the model's predictions."
      ],
      "metadata": {
        "id": "5SmRy7qls5k4"
      }
    },
    {
      "cell_type": "code",
      "source": [
        "# Importing libraries\n",
        "import numpy as np\n",
        "import matplotlib.pyplot as plt\n",
        "from sklearn.model_selection import train_test_split\n",
        "from sklearn.linear_model import LinearRegression\n",
        "\n",
        "# Generating synthetic data with multiple features\n",
        "np.random.seed(0)\n",
        "num_samples = 100\n",
        "X1 = 2 * np.random.rand(num_samples, 1)  # Feature 1\n",
        "X2 = 3 * np.random.rand(num_samples, 1)  # Feature 2\n",
        "X3 = 4 * np.random.rand(num_samples, 1)  # Feature 3\n",
        "y = 5 + 2*X1 + 3*X2 + 4*X3 + np.random.randn(num_samples, 1)  # Target variable with noise\n",
        "\n",
        "# Concatenating features into a single array\n",
        "X = np.hstack((X1, X2, X3))\n",
        "\n",
        "# Splitting the data into training and testing sets\n",
        "X_train, X_test, y_train, y_test = train_test_split(X, y, test_size=0.2, random_state=42)\n",
        "\n",
        "# Creating and training the model\n",
        "model = LinearRegression()\n",
        "model.fit(X_train, y_train)\n",
        "\n",
        "# Making predictions\n",
        "y_pred = model.predict(X_test)\n",
        "\n",
        "# Visualizing the results\n",
        "plt.figure(figsize=(10, 6))\n",
        "plt.scatter(y_test, y_pred, color='blue')\n",
        "plt.plot([y.min(), y.max()], [y.min(), y.max()], linestyle='--', color='red')  # Diagonal line representing perfect prediction\n",
        "plt.xlabel('Actual')\n",
        "plt.ylabel('Predicted')\n",
        "plt.title('Actual vs Predicted')\n",
        "plt.grid(True)\n",
        "plt.show()\n",
        "\n",
        "# Displaying model coefficients\n",
        "print(\"Model Coefficients:\")\n",
        "for i, coef in enumerate(model.coef_[0]):\n",
        "    print(f\"Feature {i+1}: {coef}\")\n",
        "\n",
        "# Displaying model intercept\n",
        "print(\"Intercept:\", model.intercept_[0])\n"
      ],
      "metadata": {
        "colab": {
          "base_uri": "https://localhost:8080/",
          "height": 675
        },
        "id": "HuBP4lmYplRq",
        "outputId": "448d7c17-1571-40ce-a970-c75268992585"
      },
      "execution_count": 67,
      "outputs": [
        {
          "output_type": "display_data",
          "data": {
            "text/plain": [
              "<Figure size 1000x600 with 1 Axes>"
            ],
            "image/png": "[encoded data removed]"
          },
          "metadata": {}
        },
        {
          "output_type": "stream",
          "name": "stdout",
          "text": [
            "Model Coefficients:\n",
            "Feature 1: 1.6754624347422737\n",
            "Feature 2: 2.8230963554423694\n",
            "Feature 3: 3.9554699436772887\n",
            "Intercept: 5.5535576795608\n"
          ]
        }
      ]
    },
    {
      "cell_type": "markdown",
      "source": [
        "Using real physics data for linear regression is a great way to understand how physical phenomena can be modeled using machine learning techniques. Let's use an example dataset related to physics, such as experimental data from a simple pendulum experiment. In this experiment, we measure the length of the pendulum and the corresponding period of oscillation."
      ],
      "metadata": {
        "id": "uzPPEzIDy66v"
      }
    },
    {
      "cell_type": "code",
      "source": [
        "y.shape"
      ],
      "metadata": {
        "colab": {
          "base_uri": "https://localhost:8080/"
        },
        "id": "fPW9GNiixIRX",
        "outputId": "95ecc1b9-d3ca-4fb2-f5f8-333082a0f848"
      },
      "execution_count": 68,
      "outputs": [
        {
          "output_type": "execute_result",
          "data": {
            "text/plain": [
              "(100, 1)"
            ]
          },
          "metadata": {},
          "execution_count": 68
        }
      ]
    },
    {
      "cell_type": "code",
      "source": [
        "X.shape"
      ],
      "metadata": {
        "colab": {
          "base_uri": "https://localhost:8080/"
        },
        "id": "25jgcN7KyHtG",
        "outputId": "215314e5-71a3-4b1a-ef31-1fb20cc76994"
      },
      "execution_count": 69,
      "outputs": [
        {
          "output_type": "execute_result",
          "data": {
            "text/plain": [
              "(100, 3)"
            ]
          },
          "metadata": {},
          "execution_count": 69
        }
      ]
    },
    {
      "cell_type": "markdown",
      "source": [
        "# Trial Question (Simple Pendulum)\n",
        "\n",
        "**Question:**\n",
        "\n",
        "You are provided with a dataset containing measurements from a simple pendulum experiment. The dataset includes the length of the pendulum, the mass of the bob attached to the pendulum, the diameter of the bob, and the corresponding period of oscillation. Your task is to build a linear regression model to predict the period of oscillation based on the given features.\n",
        "\n",
        "**Dataset:**\n",
        "\n",
        "Pendulum_Length: Length of the pendulum in meters. <br />\n",
        "Mass: Mass of the bob attached to the pendulum in kilograms. <br />\n",
        "Bob_Diameter: Diameter of the bob in meters. <br />\n",
        "Period_of_Oscillation: Period of oscillation in seconds. <br />"
      ],
      "metadata": {
        "id": "T4izPIB42SR3"
      }
    },
    {
      "cell_type": "code",
      "source": [
        "import pandas as pd\n",
        "import numpy as np\n",
        "import matplotlib.pyplot as plt\n",
        "from sklearn.model_selection import train_test_split\n",
        "from sklearn.linear_model import LinearRegression\n",
        "from sklearn.metrics import mean_squared_error\n",
        "\n",
        "data_path = \"https://raw.githubusercontent.com/jeffjay88/PHY397_PHY469/master/data/simple_pendulum.csv\"\n",
        "\n",
        "# Load the dataset\n",
        "data = pd.read_csv(data_path)\n",
        "\n",
        "# Extract features and target variable\n",
        "X = data[['Pendulum_Length', 'Mass', 'Bob_Diameter']]\n",
        "y = data['Period_of_Oscillation']\n",
        "\n",
        "# Split the data into training and testing sets\n",
        "X_train, X_test, y_train, y_test = train_test_split(X, y, test_size=0.2, random_state=42)\n",
        "\n",
        "# Train the linear regression model\n",
        "model = LinearRegression()\n",
        "model.fit(X_train, y_train)\n",
        "\n",
        "# Make predictions on the test set\n",
        "y_pred = model.predict(X_test)\n",
        "\n",
        "# Evaluate the model\n",
        "mse = mean_squared_error(y_test, y_pred)\n",
        "print(\"Mean Squared Error:\", mse)\n",
        "\n",
        "# Visualize the results\n",
        "plt.scatter(y_test, y_pred, color='blue')\n",
        "plt.plot([y.min(), y.max()], [y.min(), y.max()], linestyle='--', color='red')\n",
        "plt.xlabel('Actual Period of Oscillation (s)')\n",
        "plt.ylabel('Predicted Period of Oscillation (s)')\n",
        "plt.title('Actual vs Predicted Period of Oscillation')\n",
        "plt.grid(True)\n",
        "plt.show()\n"
      ],
      "metadata": {
        "colab": {
          "base_uri": "https://localhost:8080/",
          "height": 490
        },
        "id": "msHC4KqayJeV",
        "outputId": "bc30e1cf-cb5a-4577-d9d5-ef5fe5a0cf2c"
      },
      "execution_count": 31,
      "outputs": [
        {
          "output_type": "stream",
          "name": "stdout",
          "text": [
            "Mean Squared Error: 0.04890203188906447\n"
          ]
        },
        {
          "output_type": "display_data",
          "data": {
            "text/plain": [
              "<Figure size 640x480 with 1 Axes>"
            ],
            "image/png": "[encoded data removed]"
          },
          "metadata": {}
        }
      ]
    },
    {
      "cell_type": "markdown",
      "source": [
        "**Logistic regression** is typically used for binary classification tasks, where the target variable has two possible outcomes. However, in this case, we're trying to predict a continuous variable (the period of oscillation) based on multiple features (pendulum length, mass, and bob diameter). For this type of regression problem, linear regression is more appropriate.\n",
        "\n",
        "Logistic regression can be useful for predicting the probability of occurrence of events. Logistic regression is a statistical method used to model the probability of a binary outcome (e.g., success/failure, yes/no) as a function of one or more predictor variables. As such, it can be used to model binary outcomes such as whether a particular region will experience drought or not.\n",
        "\n",
        "Logistic regression is built on the same principles as linear regression, but it can be applied to classification problems instead of just regression. The equation for logistic regression is as follows:\n",
        "\n",
        "\\begin{equation}\n",
        "p = S(\\beta x_1 + \\beta x_2 + \\epsilon)\n",
        "\\end{equation}\n",
        "\n",
        "where:\n",
        "\n",
        "* $p$ represents the probability of an event occurring (e.g., precipitation exceeding a certain threshold).\n",
        "* $S$ is the sigmoid function, which maps any real-valued number to a probability between 0 and 1.\n",
        "* $\\beta$ represents the regression coefficient or weight associated with each predictor variable ($x_1$ and $x_2$) in the model. It indicates the direction and strength of the relationship between the predictor and the outcome variable. For example, a positive $\\beta$ value for $x_1$ means that an increase in $x_1$ is associated with an increase in the probability of the event occurring.\n",
        "* $\\epsilon$ represents the noise or error term, which, like with linear regression, captures the unexplained variation in the outcome variable that is not accounted for by the predictor variables. It includes measurement error and any other factors that are not included in the model.\n",
        "\n",
        "In the context of climate science, logistic regression can be used to model the probability of an extreme weather event (e.g., heatwave, drought, flood) occurring based on various climatic factors (e.g., temperature, precipitation, humidity). By fitting a logistic regression model to the data, we can estimate the impact of each predictor variable on the probability of the event occurring, and use this information to make predictions about future events.\n",
        "In order to perform binary classification, we map the probability value to 0 or 1. To do that, we simply apply a threshold of .5 (i.e., if $p<.5$ then the input is labeld as belonging to category 0).\n",
        "\n",
        "<br /><br />\n",
        "<font color='blue'>If you're interested in exploring classification with logistic regression, you could frame the problem differently, such as predicting whether a pendulum will oscillate within a certain period range based on its characteristics. </font>\n",
        "<br /><br />\n"
      ],
      "metadata": {
        "id": "d-ijSDOn6IPu"
      }
    },
    {
      "cell_type": "markdown",
      "source": [
        "**Modified Question:**\n",
        "You are provided with a dataset containing measurements from a simple pendulum experiment. The dataset includes the length of the pendulum, the mass of the bob attached to the pendulum, the diameter of the bob, and the corresponding period of oscillation. Your task is to build a logistic regression model to classify whether the period of oscillation of a pendulum falls within a certain range based on the given features.\n",
        "\n",
        "**Dataset:** <br />\n",
        "**Pendulum_Length:** Length of the pendulum in meters. <br />\n",
        "**Mass:** Mass of the bob attached to the pendulum in kilograms. <br />\n",
        "**Bob_Diameter: **Diameter of the bob in meters. <br />\n",
        "**Period_of_Oscillation:** Period of oscillation in seconds. <br />\n",
        "\n",
        "\n",
        "**Modeling Approach:** <br />\n",
        "Define a threshold period range (e.g., short period vs. long period).\n",
        "Convert the problem into a binary classification task: classify pendulum oscillations as either short or long based on whether their period falls within the specified range. <br />\n",
        "Use logistic regression to train the classification model."
      ],
      "metadata": {
        "id": "717U8K-o6UNH"
      }
    },
    {
      "cell_type": "markdown",
      "source": [
        "<hr />\n",
        "\n",
        "Let's say we want to classify pendulum oscillations as \"short\" if their period is less than or equal to 2.5 seconds, and \"long\" otherwise.\n",
        "\n",
        "Here's how you can implement logistic regression for this classification task using Python's scikit-learn library:"
      ],
      "metadata": {
        "id": "mk9pyse76stJ"
      }
    },
    {
      "cell_type": "code",
      "source": [
        "import pandas as pd\n",
        "import numpy as np\n",
        "import matplotlib.pyplot as plt\n",
        "from sklearn.model_selection import train_test_split\n",
        "from sklearn.linear_model import LogisticRegression\n",
        "from sklearn.metrics import accuracy_score, confusion_matrix, classification_report\n",
        "\n",
        "# Load the dataset\n",
        "data = pd.read_csv(data_path)\n",
        "\n",
        "# Define the threshold period range\n",
        "threshold = 2.5\n",
        "\n",
        "# Define the target variable based on the threshold\n",
        "data['Class'] = np.where(data['Period_of_Oscillation'] <= threshold, 'Short', 'Long')\n",
        "\n",
        "data\n"
      ],
      "metadata": {
        "colab": {
          "base_uri": "https://localhost:8080/",
          "height": 423
        },
        "id": "fwdrQdHG6Kl1",
        "outputId": "d6d60628-ed84-4a7a-dd74-b4e37b95d0bf"
      },
      "execution_count": 32,
      "outputs": [
        {
          "output_type": "execute_result",
          "data": {
            "text/plain": [
              "     Pendulum_Length  Mass  Bob_Diameter  Period_of_Oscillation  Class\n",
              "0                0.1  0.05         0.020                  0.452  Short\n",
              "1                0.2  0.10         0.025                  0.639  Short\n",
              "2                0.3  0.15         0.030                  0.785  Short\n",
              "3                0.4  0.20         0.035                  0.905  Short\n",
              "4                0.5  0.25         0.040                  1.015  Short\n",
              "..               ...   ...           ...                    ...    ...\n",
              "175             17.6  8.80         0.895                  4.372   Long\n",
              "176             17.7  8.85         0.900                  4.382   Long\n",
              "177             17.8  8.90         0.905                  4.391   Long\n",
              "178             17.9  8.95         0.910                  4.401   Long\n",
              "179             18.0  9.00         0.915                  4.411   Long\n",
              "\n",
              "[180 rows x 5 columns]"
            ],
            "text/html": [
              "\n",
              "  <div id=\"df-e9ec95ec-13d8-45b7-85dc-ce02dd247b56\" class=\"colab-df-container\">\n",
              "    <div>\n",
              "<style scoped>\n",
              "    .dataframe tbody tr th:only-of-type {\n",
              "        vertical-align: middle;\n",
              "    }\n",
              "\n",
              "    .dataframe tbody tr th {\n",
              "        vertical-align: top;\n",
              "    }\n",
              "\n",
              "    .dataframe thead th {\n",
              "        text-align: right;\n",
              "    }\n",
              "</style>\n",
              "<table border=\"1\" class=\"dataframe\">\n",
              "  <thead>\n",
              "    <tr style=\"text-align: right;\">\n",
              "      <th></th>\n",
              "      <th>Pendulum_Length</th>\n",
              "      <th>Mass</th>\n",
              "      <th>Bob_Diameter</th>\n",
              "      <th>Period_of_Oscillation</th>\n",
              "      <th>Class</th>\n",
              "    </tr>\n",
              "  </thead>\n",
              "  <tbody>\n",
              "    <tr>\n",
              "      <th>0</th>\n",
              "      <td>0.1</td>\n",
              "      <td>0.05</td>\n",
              "      <td>0.020</td>\n",
              "      <td>0.452</td>\n",
              "      <td>Short</td>\n",
              "    </tr>\n",
              "    <tr>\n",
              "      <th>1</th>\n",
              "      <td>0.2</td>\n",
              "      <td>0.10</td>\n",
              "      <td>0.025</td>\n",
              "      <td>0.639</td>\n",
              "      <td>Short</td>\n",
              "    </tr>\n",
              "    <tr>\n",
              "      <th>2</th>\n",
              "      <td>0.3</td>\n",
              "      <td>0.15</td>\n",
              "      <td>0.030</td>\n",
              "      <td>0.785</td>\n",
              "      <td>Short</td>\n",
              "    </tr>\n",
              "    <tr>\n",
              "      <th>3</th>\n",
              "      <td>0.4</td>\n",
              "      <td>0.20</td>\n",
              "      <td>0.035</td>\n",
              "      <td>0.905</td>\n",
              "      <td>Short</td>\n",
              "    </tr>\n",
              "    <tr>\n",
              "      <th>4</th>\n",
              "      <td>0.5</td>\n",
              "      <td>0.25</td>\n",
              "      <td>0.040</td>\n",
              "      <td>1.015</td>\n",
              "      <td>Short</td>\n",
              "    </tr>\n",
              "    <tr>\n",
              "      <th>...</th>\n",
              "      <td>...</td>\n",
              "      <td>...</td>\n",
              "      <td>...</td>\n",
              "      <td>...</td>\n",
              "      <td>...</td>\n",
              "    </tr>\n",
              "    <tr>\n",
              "      <th>175</th>\n",
              "      <td>17.6</td>\n",
              "      <td>8.80</td>\n",
              "      <td>0.895</td>\n",
              "      <td>4.372</td>\n",
              "      <td>Long</td>\n",
              "    </tr>\n",
              "    <tr>\n",
              "      <th>176</th>\n",
              "      <td>17.7</td>\n",
              "      <td>8.85</td>\n",
              "      <td>0.900</td>\n",
              "      <td>4.382</td>\n",
              "      <td>Long</td>\n",
              "    </tr>\n",
              "    <tr>\n",
              "      <th>177</th>\n",
              "      <td>17.8</td>\n",
              "      <td>8.90</td>\n",
              "      <td>0.905</td>\n",
              "      <td>4.391</td>\n",
              "      <td>Long</td>\n",
              "    </tr>\n",
              "    <tr>\n",
              "      <th>178</th>\n",
              "      <td>17.9</td>\n",
              "      <td>8.95</td>\n",
              "      <td>0.910</td>\n",
              "      <td>4.401</td>\n",
              "      <td>Long</td>\n",
              "    </tr>\n",
              "    <tr>\n",
              "      <th>179</th>\n",
              "      <td>18.0</td>\n",
              "      <td>9.00</td>\n",
              "      <td>0.915</td>\n",
              "      <td>4.411</td>\n",
              "      <td>Long</td>\n",
              "    </tr>\n",
              "  </tbody>\n",
              "</table>\n",
              "<p>180 rows × 5 columns</p>\n",
              "</div>\n",
              "    <div class=\"colab-df-buttons\">\n",
              "\n",
              "  <div class=\"colab-df-container\">\n",
              "    <button class=\"colab-df-convert\" onclick=\"convertToInteractive('df-e9ec95ec-13d8-45b7-85dc-ce02dd247b56')\"\n",
              "            title=\"Convert this dataframe to an interactive table.\"\n",
              "            style=\"display:none;\">\n",
              "\n",
              "  <svg xmlns=\"http://www.w3.org/2000/svg\" height=\"24px\" viewBox=\"0 -960 960 960\">\n",
              "    <path d=\"M120-120v-720h720v720H120Zm60-500h600v-160H180v160Zm220 220h160v-160H400v160Zm0 220h160v-160H400v160ZM180-400h160v-160H180v160Zm440 0h160v-160H620v160ZM180-180h160v-160H180v160Zm440 0h160v-160H620v160Z\"/>\n",
              "  </svg>\n",
              "    </button>\n",
              "\n",
              "  <style>\n",
              "    .colab-df-container {\n",
              "      display:flex;\n",
              "      gap: 12px;\n",
              "    }\n",
              "\n",
              "    .colab-df-convert {\n",
              "      background-color: #E8F0FE;\n",
              "      border: none;\n",
              "      border-radius: 50%;\n",
              "      cursor: pointer;\n",
              "      display: none;\n",
              "      fill: #1967D2;\n",
              "      height: 32px;\n",
              "      padding: 0 0 0 0;\n",
              "      width: 32px;\n",
              "    }\n",
              "\n",
              "    .colab-df-convert:hover {\n",
              "      background-color: #E2EBFA;\n",
              "      box-shadow: 0px 1px 2px rgba(60, 64, 67, 0.3), 0px 1px 3px 1px rgba(60, 64, 67, 0.15);\n",
              "      fill: #174EA6;\n",
              "    }\n",
              "\n",
              "    .colab-df-buttons div {\n",
              "      margin-bottom: 4px;\n",
              "    }\n",
              "\n",
              "    [theme=dark] .colab-df-convert {\n",
              "      background-color: #3B4455;\n",
              "      fill: #D2E3FC;\n",
              "    }\n",
              "\n",
              "    [theme=dark] .colab-df-convert:hover {\n",
              "      background-color: #434B5C;\n",
              "      box-shadow: 0px 1px 3px 1px rgba(0, 0, 0, 0.15);\n",
              "      filter: drop-shadow(0px 1px 2px rgba(0, 0, 0, 0.3));\n",
              "      fill: #FFFFFF;\n",
              "    }\n",
              "  </style>\n",
              "\n",
              "    <script>\n",
              "      const buttonEl =\n",
              "        document.querySelector('#df-e9ec95ec-13d8-45b7-85dc-ce02dd247b56 button.colab-df-convert');\n",
              "      buttonEl.style.display =\n",
              "        google.colab.kernel.accessAllowed ? 'block' : 'none';\n",
              "\n",
              "      async function convertToInteractive(key) {\n",
              "        const element = document.querySelector('#df-e9ec95ec-13d8-45b7-85dc-ce02dd247b56');\n",
              "        const dataTable =\n",
              "          await google.colab.kernel.invokeFunction('convertToInteractive',\n",
              "                                                    [key], {});\n",
              "        if (!dataTable) return;\n",
              "\n",
              "        const docLinkHtml = 'Like what you see? Visit the ' +\n",
              "          '<a target=\"_blank\" href=https://colab.research.google.com/notebooks/data_table.ipynb>data table notebook</a>'\n",
              "          + ' to learn more about interactive tables.';\n",
              "        element.innerHTML = '';\n",
              "        dataTable['output_type'] = 'display_data';\n",
              "        await google.colab.output.renderOutput(dataTable, element);\n",
              "        const docLink = document.createElement('div');\n",
              "        docLink.innerHTML = docLinkHtml;\n",
              "        element.appendChild(docLink);\n",
              "      }\n",
              "    </script>\n",
              "  </div>\n",
              "\n",
              "\n",
              "<div id=\"df-1c072be0-cfa1-400f-98a8-e132b4366d64\">\n",
              "  <button class=\"colab-df-quickchart\" onclick=\"quickchart('df-1c072be0-cfa1-400f-98a8-e132b4366d64')\"\n",
              "            title=\"Suggest charts\"\n",
              "            style=\"display:none;\">\n",
              "\n",
              "<svg xmlns=\"http://www.w3.org/2000/svg\" height=\"24px\"viewBox=\"0 0 24 24\"\n",
              "     width=\"24px\">\n",
              "    <g>\n",
              "        <path d=\"M19 3H5c-1.1 0-2 .9-2 2v14c0 1.1.9 2 2 2h14c1.1 0 2-.9 2-2V5c0-1.1-.9-2-2-2zM9 17H7v-7h2v7zm4 0h-2V7h2v10zm4 0h-2v-4h2v4z\"/>\n",
              "    </g>\n",
              "</svg>\n",
              "  </button>\n",
              "\n",
              "<style>\n",
              "  .colab-df-quickchart {\n",
              "      --bg-color: #E8F0FE;\n",
              "      --fill-color: #1967D2;\n",
              "      --hover-bg-color: #E2EBFA;\n",
              "      --hover-fill-color: #174EA6;\n",
              "      --disabled-fill-color: #AAA;\n",
              "      --disabled-bg-color: #DDD;\n",
              "  }\n",
              "\n",
              "  [theme=dark] .colab-df-quickchart {\n",
              "      --bg-color: #3B4455;\n",
              "      --fill-color: #D2E3FC;\n",
              "      --hover-bg-color: #434B5C;\n",
              "      --hover-fill-color: #FFFFFF;\n",
              "      --disabled-bg-color: #3B4455;\n",
              "      --disabled-fill-color: #666;\n",
              "  }\n",
              "\n",
              "  .colab-df-quickchart {\n",
              "    background-color: var(--bg-color);\n",
              "    border: none;\n",
              "    border-radius: 50%;\n",
              "    cursor: pointer;\n",
              "    display: none;\n",
              "    fill: var(--fill-color);\n",
              "    height: 32px;\n",
              "    padding: 0;\n",
              "    width: 32px;\n",
              "  }\n",
              "\n",
              "  .colab-df-quickchart:hover {\n",
              "    background-color: var(--hover-bg-color);\n",
              "    box-shadow: 0 1px 2px rgba(60, 64, 67, 0.3), 0 1px 3px 1px rgba(60, 64, 67, 0.15);\n",
              "    fill: var(--button-hover-fill-color);\n",
              "  }\n",
              "\n",
              "  .colab-df-quickchart-complete:disabled,\n",
              "  .colab-df-quickchart-complete:disabled:hover {\n",
              "    background-color: var(--disabled-bg-color);\n",
              "    fill: var(--disabled-fill-color);\n",
              "    box-shadow: none;\n",
              "  }\n",
              "\n",
              "  .colab-df-spinner {\n",
              "    border: 2px solid var(--fill-color);\n",
              "    border-color: transparent;\n",
              "    border-bottom-color: var(--fill-color);\n",
              "    animation:\n",
              "      spin 1s steps(1) infinite;\n",
              "  }\n",
              "\n",
              "  @keyframes spin {\n",
              "    0% {\n",
              "      border-color: transparent;\n",
              "      border-bottom-color: var(--fill-color);\n",
              "      border-left-color: var(--fill-color);\n",
              "    }\n",
              "    20% {\n",
              "      border-color: transparent;\n",
              "      border-left-color: var(--fill-color);\n",
              "      border-top-color: var(--fill-color);\n",
              "    }\n",
              "    30% {\n",
              "      border-color: transparent;\n",
              "      border-left-color: var(--fill-color);\n",
              "      border-top-color: var(--fill-color);\n",
              "      border-right-color: var(--fill-color);\n",
              "    }\n",
              "    40% {\n",
              "      border-color: transparent;\n",
              "      border-right-color: var(--fill-color);\n",
              "      border-top-color: var(--fill-color);\n",
              "    }\n",
              "    60% {\n",
              "      border-color: transparent;\n",
              "      border-right-color: var(--fill-color);\n",
              "    }\n",
              "    80% {\n",
              "      border-color: transparent;\n",
              "      border-right-color: var(--fill-color);\n",
              "      border-bottom-color: var(--fill-color);\n",
              "    }\n",
              "    90% {\n",
              "      border-color: transparent;\n",
              "      border-bottom-color: var(--fill-color);\n",
              "    }\n",
              "  }\n",
              "</style>\n",
              "\n",
              "  <script>\n",
              "    async function quickchart(key) {\n",
              "      const quickchartButtonEl =\n",
              "        document.querySelector('#' + key + ' button');\n",
              "      quickchartButtonEl.disabled = true;  // To prevent multiple clicks.\n",
              "      quickchartButtonEl.classList.add('colab-df-spinner');\n",
              "      try {\n",
              "        const charts = await google.colab.kernel.invokeFunction(\n",
              "            'suggestCharts', [key], {});\n",
              "      } catch (error) {\n",
              "        console.error('Error during call to suggestCharts:', error);\n",
              "      }\n",
              "      quickchartButtonEl.classList.remove('colab-df-spinner');\n",
              "      quickchartButtonEl.classList.add('colab-df-quickchart-complete');\n",
              "    }\n",
              "    (() => {\n",
              "      let quickchartButtonEl =\n",
              "        document.querySelector('#df-1c072be0-cfa1-400f-98a8-e132b4366d64 button');\n",
              "      quickchartButtonEl.style.display =\n",
              "        google.colab.kernel.accessAllowed ? 'block' : 'none';\n",
              "    })();\n",
              "  </script>\n",
              "</div>\n",
              "\n",
              "  <div id=\"id_3d9e754a-72c6-4ca6-8978-62b2fef59cf5\">\n",
              "    <style>\n",
              "      .colab-df-generate {\n",
              "        background-color: #E8F0FE;\n",
              "        border: none;\n",
              "        border-radius: 50%;\n",
              "        cursor: pointer;\n",
              "        display: none;\n",
              "        fill: #1967D2;\n",
              "        height: 32px;\n",
              "        padding: 0 0 0 0;\n",
              "        width: 32px;\n",
              "      }\n",
              "\n",
              "      .colab-df-generate:hover {\n",
              "        background-color: #E2EBFA;\n",
              "        box-shadow: 0px 1px 2px rgba(60, 64, 67, 0.3), 0px 1px 3px 1px rgba(60, 64, 67, 0.15);\n",
              "        fill: #174EA6;\n",
              "      }\n",
              "\n",
              "      [theme=dark] .colab-df-generate {\n",
              "        background-color: #3B4455;\n",
              "        fill: #D2E3FC;\n",
              "      }\n",
              "\n",
              "      [theme=dark] .colab-df-generate:hover {\n",
              "        background-color: #434B5C;\n",
              "        box-shadow: 0px 1px 3px 1px rgba(0, 0, 0, 0.15);\n",
              "        filter: drop-shadow(0px 1px 2px rgba(0, 0, 0, 0.3));\n",
              "        fill: #FFFFFF;\n",
              "      }\n",
              "    </style>\n",
              "    <button class=\"colab-df-generate\" onclick=\"generateWithVariable('data')\"\n",
              "            title=\"Generate code using this dataframe.\"\n",
              "            style=\"display:none;\">\n",
              "\n",
              "  <svg xmlns=\"http://www.w3.org/2000/svg\" height=\"24px\"viewBox=\"0 0 24 24\"\n",
              "       width=\"24px\">\n",
              "    <path d=\"M7,19H8.4L18.45,9,17,7.55,7,17.6ZM5,21V16.75L18.45,3.32a2,2,0,0,1,2.83,0l1.4,1.43a1.91,1.91,0,0,1,.58,1.4,1.91,1.91,0,0,1-.58,1.4L9.25,21ZM18.45,9,17,7.55Zm-12,3A5.31,5.31,0,0,0,4.9,8.1,5.31,5.31,0,0,0,1,6.5,5.31,5.31,0,0,0,4.9,4.9,5.31,5.31,0,0,0,6.5,1,5.31,5.31,0,0,0,8.1,4.9,5.31,5.31,0,0,0,12,6.5,5.46,5.46,0,0,0,6.5,12Z\"/>\n",
              "  </svg>\n",
              "    </button>\n",
              "    <script>\n",
              "      (() => {\n",
              "      const buttonEl =\n",
              "        document.querySelector('#id_3d9e754a-72c6-4ca6-8978-62b2fef59cf5 button.colab-df-generate');\n",
              "      buttonEl.style.display =\n",
              "        google.colab.kernel.accessAllowed ? 'block' : 'none';\n",
              "\n",
              "      buttonEl.onclick = () => {\n",
              "        google.colab.notebook.generateWithVariable('data');\n",
              "      }\n",
              "      })();\n",
              "    </script>\n",
              "  </div>\n",
              "\n",
              "    </div>\n",
              "  </div>\n"
            ],
            "application/vnd.google.colaboratory.intrinsic+json": {
              "type": "dataframe",
              "variable_name": "data",
              "summary": "{\n  \"name\": \"data\",\n  \"rows\": 180,\n  \"fields\": [\n    {\n      \"column\": \"Pendulum_Length\",\n      \"properties\": {\n        \"dtype\": \"number\",\n        \"std\": 5.2105661880452105,\n        \"min\": 0.1,\n        \"max\": 18.0,\n        \"num_unique_values\": 180,\n        \"samples\": [\n          2.0,\n          4.3,\n          15.4\n        ],\n        \"semantic_type\": \"\",\n        \"description\": \"\"\n      }\n    },\n    {\n      \"column\": \"Mass\",\n      \"properties\": {\n        \"dtype\": \"number\",\n        \"std\": 2.6052830940226053,\n        \"min\": 0.05,\n        \"max\": 9.0,\n        \"num_unique_values\": 180,\n        \"samples\": [\n          1.0,\n          2.15,\n          7.7\n        ],\n        \"semantic_type\": \"\",\n        \"description\": \"\"\n      }\n    },\n    {\n      \"column\": \"Bob_Diameter\",\n      \"properties\": {\n        \"dtype\": \"number\",\n        \"std\": 0.26052830940226057,\n        \"min\": 0.02,\n        \"max\": 0.915,\n        \"num_unique_values\": 180,\n        \"samples\": [\n          0.115,\n          0.23,\n          0.785\n        ],\n        \"semantic_type\": \"\",\n        \"description\": \"\"\n      }\n    },\n    {\n      \"column\": \"Period_of_Oscillation\",\n      \"properties\": {\n        \"dtype\": \"number\",\n        \"std\": 0.8858914463683478,\n        \"min\": 0.452,\n        \"max\": 4.411,\n        \"num_unique_values\": 180,\n        \"samples\": [\n          2.031,\n          2.796,\n          4.155\n        ],\n        \"semantic_type\": \"\",\n        \"description\": \"\"\n      }\n    },\n    {\n      \"column\": \"Class\",\n      \"properties\": {\n        \"dtype\": \"category\",\n        \"num_unique_values\": 2,\n        \"samples\": [\n          \"Long\",\n          \"Short\"\n        ],\n        \"semantic_type\": \"\",\n        \"description\": \"\"\n      }\n    }\n  ]\n}"
            }
          },
          "metadata": {},
          "execution_count": 32
        }
      ]
    },
    {
      "cell_type": "code",
      "source": [
        "# Extract features and target variable\n",
        "X = data[['Pendulum_Length', 'Mass', 'Bob_Diameter']]\n",
        "y = data['Class']\n",
        "\n",
        "# Split the data into training and testing sets\n",
        "X_train, X_test, y_train, y_test = train_test_split(X, y, test_size=0.75)#, random_state=42)\n",
        "\n",
        "# Train the logistic regression model\n",
        "model = LogisticRegression()\n",
        "model.fit(X_train, y_train)\n",
        "\n",
        "# Make predictions on the test set\n",
        "y_pred = model.predict(X_test)\n",
        "\n",
        "# Evaluate the model\n",
        "accuracy = accuracy_score(y_test, y_pred)\n",
        "print(\"Accuracy:\", accuracy)\n"
      ],
      "metadata": {
        "colab": {
          "base_uri": "https://localhost:8080/"
        },
        "id": "Sm3RyX3e9hkX",
        "outputId": "f7c51fbd-bf7f-4a60-ec1d-4bb8e367e2c3"
      },
      "execution_count": 28,
      "outputs": [
        {
          "output_type": "stream",
          "name": "stdout",
          "text": [
            "Accuracy: 0.9925925925925926\n"
          ]
        }
      ]
    },
    {
      "cell_type": "code",
      "source": [
        "# Print confusion matrix and classification report\n",
        "print(\"Confusion Matrix:\")\n",
        "print(confusion_matrix(y_test, y_pred))\n",
        "print(\"\\nClassification Report:\")\n",
        "print(classification_report(y_test, y_pred))"
      ],
      "metadata": {
        "colab": {
          "base_uri": "https://localhost:8080/"
        },
        "id": "tFoWRYHr-fm1",
        "outputId": "c517e058-e332-434d-bb74-441338eb6f35"
      },
      "execution_count": 29,
      "outputs": [
        {
          "output_type": "stream",
          "name": "stdout",
          "text": [
            "Confusion Matrix:\n",
            "[[111   0]\n",
            " [  1  23]]\n",
            "\n",
            "Classification Report:\n",
            "              precision    recall  f1-score   support\n",
            "\n",
            "        Long       0.99      1.00      1.00       111\n",
            "       Short       1.00      0.96      0.98        24\n",
            "\n",
            "    accuracy                           0.99       135\n",
            "   macro avg       1.00      0.98      0.99       135\n",
            "weighted avg       0.99      0.99      0.99       135\n",
            "\n"
          ]
        }
      ]
    },
    {
      "cell_type": "code",
      "source": [
        "from sklearn.metrics import confusion_matrix\n",
        "import seaborn as sns\n",
        "\n",
        "# Calculate confusion matrix\n",
        "cm = confusion_matrix(y_test, y_pred)\n",
        "\n",
        "# Plot confusion matrix\n",
        "plt.figure(figsize=(8, 6))\n",
        "sns.heatmap(cm, annot=True, fmt='d', cmap='Greys', cbar=False,\n",
        "            xticklabels=['Short', 'Long'], yticklabels=['Short', 'Long'],  annot_kws={\"fontsize\":24})\n",
        "plt.xlabel('Predicted Class', fontsize=15)\n",
        "plt.ylabel('True Class', fontsize=15)\n",
        "plt.title('Confusion Matrix')\n",
        "plt.show()\n"
      ],
      "metadata": {
        "colab": {
          "base_uri": "https://localhost:8080/",
          "height": 570
        },
        "id": "_4gZrVWt7TVV",
        "outputId": "26fad87b-0215-4f75-8922-d6c58ab08eff"
      },
      "execution_count": 30,
      "outputs": [
        {
          "output_type": "display_data",
          "data": {
            "text/plain": [
              "<Figure size 800x600 with 1 Axes>"
            ],
            "image/png": "[encoded data removed]"
          },
          "metadata": {}
        }
      ]
    },
    {
      "cell_type": "markdown",
      "source": [
        "The takeaway for the audience is an understanding of the basics of linear and logistic regression and how to apply them to real-world data analysis problems."
      ],
      "metadata": {
        "id": "PM60gu1MBNSE"
      }
    }
  ],
  "metadata": {
    "colab": {
      "provenance": []
    },
    "kernelspec": {
      "display_name": "Python 3",
      "name": "python3"
    },
    "language_info": {
      "name": "python"
    }
  },
  "nbformat": 4,
  "nbformat_minor": 0
}